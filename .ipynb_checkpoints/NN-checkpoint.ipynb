{
 "cells": [
  {
   "cell_type": "code",
   "execution_count": 3,
   "metadata": {},
   "outputs": [],
   "source": [
    "import numpy as np\n",
    "import matplotlib.pyplot as plt"
   ]
  },
  {
   "cell_type": "code",
   "execution_count": 4,
   "metadata": {},
   "outputs": [],
   "source": [
    "def one_hot_encoder(X, catagory=None):\n",
    "    if(catagory==None):\n",
    "        catagory = np.unique(X)\n",
    "    ohc = np.zeros((len(X), len(catagory)))\n",
    "    for i in range(len(X)):\n",
    "        t = (catagory == X[i])\n",
    "        pos = np.argmax(t)\n",
    "        ohc[i, pos]  = 1\n",
    "    return ohc, catagory"
   ]
  },
  {
   "cell_type": "code",
   "execution_count": 5,
   "metadata": {},
   "outputs": [],
   "source": [
    "def soft_max(X):\n",
    "    c = np.max(X, axis=1, keepdims=True)\n",
    "    exp = np.exp(X - c)\n",
    "    s = np.sum(exp, axis=1, keepdims=True)\n",
    "    return exp / s\n",
    "\n",
    "def relu(X):\n",
    "    return np.maximum(X, 0)\n",
    "\n",
    "def d_relu(X):\n",
    "    return np.where(X > 0, 1, 0)"
   ]
  },
  {
   "cell_type": "code",
   "execution_count": 6,
   "metadata": {},
   "outputs": [],
   "source": [
    "class NeuralNetwork:\n",
    "    def __init__(self, layers, learning_rate=0.0001):\n",
    "        self.layers = layers\n",
    "        self.lr = learning_rate\n",
    "        \n",
    "        self.W = []\n",
    "        self.B = []\n",
    "        for i in range(1, len(layers)):\n",
    "            w = np.random.randn(layers[i - 1], layers[i])\n",
    "            b = np.zeros((1, layers[i]))\n",
    "            self.W.append(w)\n",
    "            self.B.append(b)\n",
    "    \n",
    "    def summary(self):\n",
    "        print('Neural network:')\n",
    "        print(f'Input shape : {0, self.layers[0]}')\n",
    "        for i in range(1, len(self.layers) - 1):\n",
    "            print(f'Layer {i} : shape : (0, {self.layers[i]}), params : {self.W[i - 1].size + self.B[i - 1].size}, activation=\"relu\"')\n",
    "        \n",
    "        print(f'Output shape : {0, self.layers[len(self.layers) - 1]}, activation = \"softmax\"')\n",
    "    \n",
    "    def forward(self, X):\n",
    "        A = [X]\n",
    "        for i in range(len(self.W) - 1):\n",
    "            Z = A[-1].dot(self.W[i]) + self.B[i]\n",
    "            A.append(relu(Z))\n",
    "#         last_index = len(W) - 1\n",
    "#         Z = A[last_index].dot(W[last_index]) + B[last_index]\n",
    "#         A_t = soft_max(Z)\n",
    "#         A.append(A_t)\n",
    "        return A\n",
    "    \n",
    "    def back_prop(self, A, y):\n",
    "        dW = []\n",
    "        dB = []\n",
    "        \n",
    "        eta = soft_max(A[-1].dot(self.W[-1]) + self.B[-1])\n",
    "        dw = A[-1].T.dot(eta - y)\n",
    "        dW.append(dw)\n",
    "        \n",
    "        db = np.sum(eta - y, axis=0, keepdims=True)\n",
    "        dB.append(db)\n",
    "        \n",
    "        dA = (eta - y).dot(self.W[-1].T)\n",
    "        \n",
    "        for i in reversed(range(0, len(self.W) - 1)):\n",
    "            dZ = dA * d_relu(A[i + 1])\n",
    "                             \n",
    "            dw = A[i].T.dot(dZ)\n",
    "            dW.append(dw)\n",
    "            \n",
    "            db = np.sum(dZ, axis=0, keepdims=True)\n",
    "            dB.append(db)\n",
    "            \n",
    "            dA = (dZ).dot(self.W[i].T)\n",
    "    \n",
    "        return dW, dB\n",
    "    \n",
    "    def update(self, dW, dB):\n",
    "        for i in range(len(self.W)):\n",
    "            self.W[i] -= self.lr * dW[i]\n",
    "            self.B[i] -= self.lr * dB[i]\n",
    "    \n",
    "    def fit(self, X, y, epochs, batch_size=1, validation_data=None):\n",
    "        m = len(y)\n",
    "        percent = m / 100\n",
    "        ohc_y, catal = one_hot_encoder(y)\n",
    "#         batch_index = np.random.permutation(m)\n",
    "#         batch_num = m / batch_size\n",
    "        for i in range(epochs):\n",
    "            print(f'Epoch : {i + 1}')\n",
    "            for i in range(m):\n",
    "                if(i % percent == 0):\n",
    "                    print('-', end='')\n",
    "                rand_ind = np.random.randint(m)\n",
    "                X_t = X[rand_ind:rand_ind + 1]\n",
    "                y_t = ohc_y[rand_ind:rand_ind + 1]\n",
    "                \n",
    "                A = self.forward(X_t)\n",
    "                dW, dB = self.back_prop(A, y_t)\n",
    "\n",
    "                self.update(dW[::-1], dB[::-1])\n",
    "            print('')\n",
    "    \n",
    "    def predict(self, X, return_prob=False):\n",
    "        A = self.forward(X)\n",
    "        Z = A[-1].dot(self.W[-1]) + self.B[-1]\n",
    "        prob = soft_max(Z)\n",
    "        if(return_prob==False):\n",
    "            return np.argmax(prob, axis=1)\n",
    "        else:\n",
    "            return np.argmax(prob, axis=1), prob\n",
    "        return Z\n",
    "    \n",
    "    def valuate(self, X, y):\n",
    "        pred, prob = self.predict(X, return_prob=True)\n",
    "        accuracy = np.sum((y == pred)) / len(y)\n",
    "        return accuracy"
   ]
  },
  {
   "cell_type": "code",
   "execution_count": 7,
   "metadata": {},
   "outputs": [
    {
     "name": "stdout",
     "output_type": "stream",
     "text": [
      "Neural network:\n",
      "Input shape : (0, 400)\n",
      "Layer 1 : shape : (0, 300), params : 120300, activation=\"relu\"\n",
      "Layer 2 : shape : (0, 100), params : 30100, activation=\"relu\"\n",
      "Output shape : (0, 10), activation = \"softmax\"\n"
     ]
    }
   ],
   "source": [
    "model = NeuralNetwork([400, 300, 100, 10])\n",
    "model.summary()"
   ]
  },
  {
   "cell_type": "code",
   "execution_count": 8,
   "metadata": {},
   "outputs": [],
   "source": [
    "import pandas as pd\n",
    "X = pd.read_csv('data.csv', index_col=0).head(5000).to_numpy() / 255\n",
    "y = pd.read_csv('target.csv', index_col=0).head(5000)['target'].to_numpy()"
   ]
  },
  {
   "cell_type": "code",
   "execution_count": null,
   "metadata": {
    "scrolled": true
   },
   "outputs": [
    {
     "name": "stdout",
     "output_type": "stream",
     "text": [
      "Epoch : 1\n",
      "----------------------------------------------------------------------------------------------------\n",
      "Epoch : 2\n",
      "----------------------------------------------------------------------------------------------------\n",
      "Epoch : 3\n",
      "----------------------------------------------------------------------------------------------------\n",
      "Epoch : 4\n",
      "----------------------------------------------------------------------------------------------------\n",
      "Epoch : 5\n",
      "----------------------------------------------------------------------------------------------------\n",
      "Epoch : 6\n",
      "----------------------------------------------------------------------------------------------------\n",
      "Epoch : 7\n",
      "----------------------------------------------------------------------------------------------------\n",
      "Epoch : 8\n",
      "----------------------------------------------------------------------------------------------------\n",
      "Epoch : 9\n",
      "----------------------------------------------------------------------------------------------------\n",
      "Epoch : 10\n",
      "----------------------------------------------------------------------------------------------------\n",
      "Epoch : 11\n",
      "----------------------------------------------------------------------------------------------------\n",
      "Epoch : 12\n",
      "----------------------------------------------------------------------------------------------------\n",
      "Epoch : 13\n",
      "----------------------------------------------------------------------------------------------------\n",
      "Epoch : 14\n",
      "----------------------------------------------------------------------------------------------------\n",
      "Epoch : 15\n",
      "----------------------------------------------------------------------------------------------------\n",
      "Epoch : 16\n",
      "----------------------------------------------------------------------------------------------------\n",
      "Epoch : 17\n",
      "----------------------------------------------------------------------------------------------------\n",
      "Epoch : 18\n",
      "----------------------------------------------------------------------------------------------------\n",
      "Epoch : 19\n",
      "----------------------------------------------------------------------------------------------------\n",
      "Epoch : 20\n",
      "----------------------------------------------------------------------------------------------------\n",
      "Epoch : 21\n",
      "----------------------------------------------------------------------------------------------------\n",
      "Epoch : 22\n",
      "----------------------------------------------------------------------------------------------------\n",
      "Epoch : 23\n",
      "----------------------------------------------------------------------------------------------------\n",
      "Epoch : 24\n",
      "-----------------------------------------------------------------------------------------"
     ]
    }
   ],
   "source": [
    "model.fit(X[:4000], y[:4000], epochs=30, batch_size=2)"
   ]
  },
  {
   "cell_type": "code",
   "execution_count": 61,
   "metadata": {},
   "outputs": [
    {
     "data": {
      "text/plain": [
       "0.815"
      ]
     },
     "execution_count": 61,
     "metadata": {},
     "output_type": "execute_result"
    }
   ],
   "source": [
    "model.valuate(X[800:], y[800:])"
   ]
  },
  {
   "cell_type": "code",
   "execution_count": null,
   "metadata": {},
   "outputs": [],
   "source": []
  }
 ],
 "metadata": {
  "kernelspec": {
   "display_name": "ml_venv",
   "language": "python",
   "name": "ml_venv"
  },
  "language_info": {
   "codemirror_mode": {
    "name": "ipython",
    "version": 3
   },
   "file_extension": ".py",
   "mimetype": "text/x-python",
   "name": "python",
   "nbconvert_exporter": "python",
   "pygments_lexer": "ipython3",
   "version": "3.8.3"
  }
 },
 "nbformat": 4,
 "nbformat_minor": 4
}
