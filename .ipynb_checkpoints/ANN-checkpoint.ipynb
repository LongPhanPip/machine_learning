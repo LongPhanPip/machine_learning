{
 "cells": [
  {
   "cell_type": "code",
   "execution_count": 2,
   "metadata": {},
   "outputs": [
    {
     "data": {
      "text/plain": [
       "array([0])"
      ]
     },
     "execution_count": 2,
     "metadata": {},
     "output_type": "execute_result"
    }
   ],
   "source": [
    "import numpy as np\n",
    "from sklearn.datasets import load_iris \n",
    "from sklearn.linear_model import Perceptron\n",
    "iris = load_iris()\n",
    "X = iris.data[:, (2, 3)] # petal length, petal width \n",
    "y = (iris.target == 0).astype(np.int) # Iris setosa?\n",
    "per_clf = Perceptron()\n",
    "per_clf.fit(X, y)\n",
    "y_pred = per_clf.predict([[2, 0.5]])\n",
    "y_pred"
   ]
  },
  {
   "cell_type": "code",
   "execution_count": 3,
   "metadata": {},
   "outputs": [
    {
     "data": {
      "text/plain": [
       "('2.3.1', '2.4.0')"
      ]
     },
     "execution_count": 3,
     "metadata": {},
     "output_type": "execute_result"
    }
   ],
   "source": [
    "import tensorflow as tf\n",
    "from tensorflow import keras\n",
    "tf.__version__, keras.__version__"
   ]
  },
  {
   "cell_type": "code",
   "execution_count": 4,
   "metadata": {},
   "outputs": [],
   "source": [
    "fashion_mnist = keras.datasets.fashion_mnist"
   ]
  },
  {
   "cell_type": "code",
   "execution_count": 5,
   "metadata": {},
   "outputs": [],
   "source": [
    "(X_train_full, y_train_full), (X_test, y_test) = fashion_mnist.load_data()"
   ]
  },
  {
   "cell_type": "code",
   "execution_count": 6,
   "metadata": {},
   "outputs": [
    {
     "data": {
      "text/plain": [
       "(60000, 28, 28)"
      ]
     },
     "execution_count": 6,
     "metadata": {},
     "output_type": "execute_result"
    }
   ],
   "source": [
    "X_train_full.shape"
   ]
  },
  {
   "cell_type": "code",
   "execution_count": 7,
   "metadata": {},
   "outputs": [
    {
     "data": {
      "text/plain": [
       "<matplotlib.image.AxesImage at 0x1489acb80>"
      ]
     },
     "execution_count": 7,
     "metadata": {},
     "output_type": "execute_result"
    },
    {
     "data": {
      "image/png": "[encoded data removed]",
      "text/plain": [
       "<Figure size 432x288 with 1 Axes>"
      ]
     },
     "metadata": {
      "needs_background": "light"
     },
     "output_type": "display_data"
    }
   ],
   "source": [
    "import matplotlib.pyplot as plt\n",
    "plt.imshow(X_train_full[0], cmap='Greys')"
   ]
  },
  {
   "cell_type": "code",
   "execution_count": 13,
   "metadata": {},
   "outputs": [
    {
     "data": {
      "text/plain": [
       "(28, 28)"
      ]
     },
     "execution_count": 13,
     "metadata": {},
     "output_type": "execute_result"
    }
   ],
   "source": [
    "X_valid, X_train = X_train_full[:5000] / 255.0, X_train_full[5000:] / 255.0\n",
    "y_valid, y_train = y_train_full[:5000], y_train_full[5000:]\n",
    "X_train[0].shape"
   ]
  },
  {
   "cell_type": "code",
   "execution_count": 20,
   "metadata": {},
   "outputs": [],
   "source": [
    "class_names = [\"T-shirt/top\", \"Trouser\", \"Pullover\", \"Dress\", \"Coat\",\n",
    "               \"Sandal\", \"Shirt\", \"Sneaker\", \"Bag\", \"Ankle boot\"]\n"
   ]
  },
  {
   "cell_type": "code",
   "execution_count": 27,
   "metadata": {},
   "outputs": [
    {
     "data": {
      "text/plain": [
       "{'T-shirt/top': 0,\n",
       " 'Trouser': 1,\n",
       " 'Pullover': 2,\n",
       " 'Dress': 3,\n",
       " 'Coat': 4,\n",
       " 'Sandal': 5,\n",
       " 'Shirt': 6,\n",
       " 'Sneaker': 7,\n",
       " 'Bag': 8,\n",
       " 'Ankle boot': 9}"
      ]
     },
     "execution_count": 27,
     "metadata": {},
     "output_type": "execute_result"
    }
   ],
   "source": [
    "d = dict(zip(class_names, np.arange(len(class_names))))\n",
    "d"
   ]
  },
  {
   "cell_type": "code",
   "execution_count": 38,
   "metadata": {},
   "outputs": [],
   "source": [
    "model = keras.models.Sequential()\n",
    "model.add(keras.layers.Flatten(input_shape=[28, 28]))\n",
    "model.add(keras.layers.Dense(300, activation='relu'))\n",
    "model.add(keras.layers.Dense(100, activation='relu'))\n",
    "model.add(keras.layers.Dense(10, activation='softmax'))"
   ]
  },
  {
   "cell_type": "code",
   "execution_count": 39,
   "metadata": {},
   "outputs": [],
   "source": [
    "model = keras.models.Sequential([ keras.layers.Flatten(input_shape=[28, 28]),\n",
    "                                 keras.layers.Dense(300, activation=\"relu\"),\n",
    "                                 keras.layers.Dense(100, activation=\"relu\"),\n",
    "                                 keras.layers.Dense(10, activation=\"softmax\")])"
   ]
  },
  {
   "cell_type": "code",
   "execution_count": 40,
   "metadata": {},
   "outputs": [
    {
     "name": "stdout",
     "output_type": "stream",
     "text": [
      "Model: \"sequential_5\"\n",
      "_________________________________________________________________\n",
      "Layer (type)                 Output Shape              Param #   \n",
      "=================================================================\n",
      "flatten_4 (Flatten)          (None, 784)               0         \n",
      "_________________________________________________________________\n",
      "dense_9 (Dense)              (None, 300)               235500    \n",
      "_________________________________________________________________\n",
      "dense_10 (Dense)             (None, 100)               30100     \n",
      "_________________________________________________________________\n",
      "dense_11 (Dense)             (None, 10)                1010      \n",
      "=================================================================\n",
      "Total params: 266,610\n",
      "Trainable params: 266,610\n",
      "Non-trainable params: 0\n",
      "_________________________________________________________________\n"
     ]
    }
   ],
   "source": [
    "model.summary()"
   ]
  },
  {
   "cell_type": "code",
   "execution_count": 41,
   "metadata": {},
   "outputs": [
    {
     "data": {
      "text/plain": [
       "[<tensorflow.python.keras.layers.core.Flatten at 0x1669806a0>,\n",
       " <tensorflow.python.keras.layers.core.Dense at 0x166980d90>,\n",
       " <tensorflow.python.keras.layers.core.Dense at 0x166d426d0>,\n",
       " <tensorflow.python.keras.layers.core.Dense at 0x166d42940>]"
      ]
     },
     "execution_count": 41,
     "metadata": {},
     "output_type": "execute_result"
    }
   ],
   "source": [
    "model.layers"
   ]
  },
  {
   "cell_type": "code",
   "execution_count": 42,
   "metadata": {},
   "outputs": [],
   "source": [
    "hidden = model.layers[1]"
   ]
  },
  {
   "cell_type": "code",
   "execution_count": 43,
   "metadata": {},
   "outputs": [
    {
     "data": {
      "text/plain": [
       "'dense_9'"
      ]
     },
     "execution_count": 43,
     "metadata": {},
     "output_type": "execute_result"
    }
   ],
   "source": [
    "hidden.name"
   ]
  },
  {
   "cell_type": "code",
   "execution_count": 47,
   "metadata": {},
   "outputs": [
    {
     "data": {
      "text/plain": [
       "<tensorflow.python.keras.layers.core.Dense at 0x166980d90>"
      ]
     },
     "execution_count": 47,
     "metadata": {},
     "output_type": "execute_result"
    }
   ],
   "source": [
    "model.get_layer('dense_9')"
   ]
  },
  {
   "cell_type": "code",
   "execution_count": 49,
   "metadata": {},
   "outputs": [
    {
     "data": {
      "text/plain": [
       "(array([[ 0.06325665,  0.04930412,  0.04498298, ...,  0.01680926,\n",
       "          0.06102946, -0.01515599],\n",
       "        [-0.07330325, -0.06625023, -0.03115141, ..., -0.0650421 ,\n",
       "          0.05585501,  0.03865632],\n",
       "        [-0.0358261 ,  0.00929799,  0.02096441, ..., -0.07121293,\n",
       "          0.00390845,  0.02510912],\n",
       "        ...,\n",
       "        [-0.01410369, -0.04696845, -0.01323918, ...,  0.05490254,\n",
       "         -0.06086296,  0.04912889],\n",
       "        [ 0.01110097,  0.00418211,  0.06592266, ..., -0.04195098,\n",
       "         -0.05403174,  0.05434726],\n",
       "        [-0.05875874,  0.00528944,  0.03158437, ...,  0.01185462,\n",
       "          0.05109103,  0.06711343]], dtype=float32),\n",
       " array([0., 0., 0., 0., 0., 0., 0., 0., 0., 0., 0., 0., 0., 0., 0., 0., 0.,\n",
       "        0., 0., 0., 0., 0., 0., 0., 0., 0., 0., 0., 0., 0., 0., 0., 0., 0.,\n",
       "        0., 0., 0., 0., 0., 0., 0., 0., 0., 0., 0., 0., 0., 0., 0., 0., 0.,\n",
       "        0., 0., 0., 0., 0., 0., 0., 0., 0., 0., 0., 0., 0., 0., 0., 0., 0.,\n",
       "        0., 0., 0., 0., 0., 0., 0., 0., 0., 0., 0., 0., 0., 0., 0., 0., 0.,\n",
       "        0., 0., 0., 0., 0., 0., 0., 0., 0., 0., 0., 0., 0., 0., 0., 0., 0.,\n",
       "        0., 0., 0., 0., 0., 0., 0., 0., 0., 0., 0., 0., 0., 0., 0., 0., 0.,\n",
       "        0., 0., 0., 0., 0., 0., 0., 0., 0., 0., 0., 0., 0., 0., 0., 0., 0.,\n",
       "        0., 0., 0., 0., 0., 0., 0., 0., 0., 0., 0., 0., 0., 0., 0., 0., 0.,\n",
       "        0., 0., 0., 0., 0., 0., 0., 0., 0., 0., 0., 0., 0., 0., 0., 0., 0.,\n",
       "        0., 0., 0., 0., 0., 0., 0., 0., 0., 0., 0., 0., 0., 0., 0., 0., 0.,\n",
       "        0., 0., 0., 0., 0., 0., 0., 0., 0., 0., 0., 0., 0., 0., 0., 0., 0.,\n",
       "        0., 0., 0., 0., 0., 0., 0., 0., 0., 0., 0., 0., 0., 0., 0., 0., 0.,\n",
       "        0., 0., 0., 0., 0., 0., 0., 0., 0., 0., 0., 0., 0., 0., 0., 0., 0.,\n",
       "        0., 0., 0., 0., 0., 0., 0., 0., 0., 0., 0., 0., 0., 0., 0., 0., 0.,\n",
       "        0., 0., 0., 0., 0., 0., 0., 0., 0., 0., 0., 0., 0., 0., 0., 0., 0.,\n",
       "        0., 0., 0., 0., 0., 0., 0., 0., 0., 0., 0., 0., 0., 0., 0., 0., 0.,\n",
       "        0., 0., 0., 0., 0., 0., 0., 0., 0., 0., 0.], dtype=float32))"
      ]
     },
     "execution_count": 49,
     "metadata": {},
     "output_type": "execute_result"
    }
   ],
   "source": [
    "weights, biases = hidden.get_weights()\n",
    "weights, biases"
   ]
  },
  {
   "cell_type": "code",
   "execution_count": 50,
   "metadata": {},
   "outputs": [],
   "source": [
    "model.compile(loss=\"sparse_categorical_crossentropy\",\n",
    "              optimizer=\"sgd\",\n",
    "              metrics=[\"accuracy\"])\n"
   ]
  },
  {
   "cell_type": "code",
   "execution_count": 51,
   "metadata": {
    "scrolled": true
   },
   "outputs": [
    {
     "name": "stdout",
     "output_type": "stream",
     "text": [
      "Epoch 1/30\n",
      "1719/1719 [==============================] - 3s 1ms/step - loss: 0.7327 - accuracy: 0.7571 - val_loss: 0.5054 - val_accuracy: 0.8366\n",
      "Epoch 2/30\n",
      "1719/1719 [==============================] - 2s 1ms/step - loss: 0.4938 - accuracy: 0.8285 - val_loss: 0.4536 - val_accuracy: 0.8466\n",
      "Epoch 3/30\n",
      "1719/1719 [==============================] - 2s 1ms/step - loss: 0.4484 - accuracy: 0.8436 - val_loss: 0.4319 - val_accuracy: 0.8528\n",
      "Epoch 4/30\n",
      "1719/1719 [==============================] - 2s 1ms/step - loss: 0.4204 - accuracy: 0.8535 - val_loss: 0.4169 - val_accuracy: 0.8562\n",
      "Epoch 5/30\n",
      "1719/1719 [==============================] - 2s 1ms/step - loss: 0.4000 - accuracy: 0.8592 - val_loss: 0.3991 - val_accuracy: 0.8604\n",
      "Epoch 6/30\n",
      "1719/1719 [==============================] - 2s 1ms/step - loss: 0.3853 - accuracy: 0.8646 - val_loss: 0.4097 - val_accuracy: 0.8516\n",
      "Epoch 7/30\n",
      "1719/1719 [==============================] - 2s 1ms/step - loss: 0.3716 - accuracy: 0.8678 - val_loss: 0.3810 - val_accuracy: 0.8662\n",
      "Epoch 8/30\n",
      "1719/1719 [==============================] - 2s 1ms/step - loss: 0.3592 - accuracy: 0.8733 - val_loss: 0.3629 - val_accuracy: 0.8684\n",
      "Epoch 9/30\n",
      "1719/1719 [==============================] - 3s 2ms/step - loss: 0.3493 - accuracy: 0.8754 - val_loss: 0.3620 - val_accuracy: 0.8722\n",
      "Epoch 10/30\n",
      "1719/1719 [==============================] - 2s 1ms/step - loss: 0.3408 - accuracy: 0.8791 - val_loss: 0.3449 - val_accuracy: 0.8810\n",
      "Epoch 11/30\n",
      "1719/1719 [==============================] - 2s 1ms/step - loss: 0.3313 - accuracy: 0.8824 - val_loss: 0.3463 - val_accuracy: 0.8760\n",
      "Epoch 12/30\n",
      "1719/1719 [==============================] - 2s 1ms/step - loss: 0.3242 - accuracy: 0.8844 - val_loss: 0.3489 - val_accuracy: 0.8762\n",
      "Epoch 13/30\n",
      "1719/1719 [==============================] - 2s 1ms/step - loss: 0.3162 - accuracy: 0.8866 - val_loss: 0.3267 - val_accuracy: 0.8820\n",
      "Epoch 14/30\n",
      "1719/1719 [==============================] - 2s 1ms/step - loss: 0.3089 - accuracy: 0.8888 - val_loss: 0.3258 - val_accuracy: 0.8846\n",
      "Epoch 15/30\n",
      "1719/1719 [==============================] - 3s 1ms/step - loss: 0.3020 - accuracy: 0.8910 - val_loss: 0.3335 - val_accuracy: 0.8798\n",
      "Epoch 16/30\n",
      "1719/1719 [==============================] - 2s 1ms/step - loss: 0.2949 - accuracy: 0.8945 - val_loss: 0.3246 - val_accuracy: 0.8822\n",
      "Epoch 17/30\n",
      "1719/1719 [==============================] - 3s 1ms/step - loss: 0.2886 - accuracy: 0.8969 - val_loss: 0.3579 - val_accuracy: 0.8642\n",
      "Epoch 18/30\n",
      "1719/1719 [==============================] - 2s 1ms/step - loss: 0.2849 - accuracy: 0.8972 - val_loss: 0.3128 - val_accuracy: 0.8862\n",
      "Epoch 19/30\n",
      "1719/1719 [==============================] - 3s 1ms/step - loss: 0.2792 - accuracy: 0.8991 - val_loss: 0.3126 - val_accuracy: 0.8844\n",
      "Epoch 20/30\n",
      "1719/1719 [==============================] - 3s 1ms/step - loss: 0.2742 - accuracy: 0.9003 - val_loss: 0.3155 - val_accuracy: 0.8832\n",
      "Epoch 21/30\n",
      "1719/1719 [==============================] - 2s 1ms/step - loss: 0.2699 - accuracy: 0.9016 - val_loss: 0.3216 - val_accuracy: 0.8844\n",
      "Epoch 22/30\n",
      "1719/1719 [==============================] - 3s 1ms/step - loss: 0.2651 - accuracy: 0.9041 - val_loss: 0.3087 - val_accuracy: 0.8908\n",
      "Epoch 23/30\n",
      "1719/1719 [==============================] - 3s 1ms/step - loss: 0.2595 - accuracy: 0.9055 - val_loss: 0.3149 - val_accuracy: 0.8880\n",
      "Epoch 24/30\n",
      "1719/1719 [==============================] - 3s 2ms/step - loss: 0.2549 - accuracy: 0.9081 - val_loss: 0.3120 - val_accuracy: 0.8876\n",
      "Epoch 25/30\n",
      "1719/1719 [==============================] - 3s 2ms/step - loss: 0.2502 - accuracy: 0.9094 - val_loss: 0.3101 - val_accuracy: 0.8900\n",
      "Epoch 26/30\n",
      "1719/1719 [==============================] - 3s 1ms/step - loss: 0.2459 - accuracy: 0.9112 - val_loss: 0.3119 - val_accuracy: 0.8854\n",
      "Epoch 27/30\n",
      "1719/1719 [==============================] - 3s 2ms/step - loss: 0.2429 - accuracy: 0.9121 - val_loss: 0.3255 - val_accuracy: 0.8846\n",
      "Epoch 28/30\n",
      "1719/1719 [==============================] - 3s 1ms/step - loss: 0.2400 - accuracy: 0.9139 - val_loss: 0.3090 - val_accuracy: 0.8898\n",
      "Epoch 29/30\n",
      "1719/1719 [==============================] - 3s 1ms/step - loss: 0.2349 - accuracy: 0.9156 - val_loss: 0.3026 - val_accuracy: 0.8906\n",
      "Epoch 30/30\n",
      "1719/1719 [==============================] - 3s 2ms/step - loss: 0.2312 - accuracy: 0.9173 - val_loss: 0.3014 - val_accuracy: 0.8934\n"
     ]
    }
   ],
   "source": [
    "history = model.fit(X_train, y_train, epochs=30, validation_data=(X_valid, y_valid))"
   ]
  },
  {
   "cell_type": "code",
   "execution_count": 53,
   "metadata": {},
   "outputs": [
    {
     "data": {
      "image/png": "[encoded data removed]",
      "text/plain": [
       "<Figure size 576x360 with 1 Axes>"
      ]
     },
     "metadata": {
      "needs_background": "light"
     },
     "output_type": "display_data"
    }
   ],
   "source": [
    "import pandas as pd\n",
    "import matplotlib.pyplot as plt\n",
    "pd.DataFrame(history.history).plot(figsize=(8, 5)) \n",
    "plt.grid(True)\n",
    "plt.gca().set_ylim(0, 1) # set the vertical range to [0-1]\n",
    "plt.show()"
   ]
  },
  {
   "cell_type": "code",
   "execution_count": 54,
   "metadata": {},
   "outputs": [
    {
     "name": "stdout",
     "output_type": "stream",
     "text": [
      "313/313 [==============================] - 0s 1ms/step - loss: 62.0368 - accuracy: 0.8509\n"
     ]
    },
    {
     "data": {
      "text/plain": [
       "[62.036842346191406, 0.8508999943733215]"
      ]
     },
     "execution_count": 54,
     "metadata": {},
     "output_type": "execute_result"
    }
   ],
   "source": [
    "model.evaluate(X_test, y_test)"
   ]
  },
  {
   "cell_type": "code",
   "execution_count": 55,
   "metadata": {},
   "outputs": [],
   "source": [
    "from sklearn.datasets import fetch_california_housing\n",
    "from sklearn.model_selection import train_test_split\n",
    "from sklearn.preprocessing import StandardScaler\n",
    "housing = fetch_california_housing()\n",
    "X_train_full, X_test, y_train_full, y_test = train_test_split( housing.data, housing.target)\n",
    "X_train, X_valid, y_train, y_valid = train_test_split( X_train_full, y_train_full)\n",
    "scaler = StandardScaler()\n",
    "X_train = scaler.fit_transform(X_train) \n",
    "X_valid = scaler.transform(X_valid) \n",
    "X_test = scaler.transform(X_test)"
   ]
  },
  {
   "cell_type": "code",
   "execution_count": 56,
   "metadata": {},
   "outputs": [
    {
     "name": "stdout",
     "output_type": "stream",
     "text": [
      "Epoch 1/20\n",
      "363/363 [==============================] - 0s 989us/step - loss: 0.7419 - val_loss: 0.5774\n",
      "Epoch 2/20\n",
      "363/363 [==============================] - 0s 803us/step - loss: 0.5041 - val_loss: 0.5049\n",
      "Epoch 3/20\n",
      "363/363 [==============================] - 0s 857us/step - loss: 0.6034 - val_loss: 0.6459\n",
      "Epoch 4/20\n",
      "363/363 [==============================] - 0s 770us/step - loss: 0.4922 - val_loss: 0.5017\n",
      "Epoch 5/20\n",
      "363/363 [==============================] - 0s 780us/step - loss: 0.4570 - val_loss: 0.4785\n",
      "Epoch 6/20\n",
      "363/363 [==============================] - 0s 759us/step - loss: 0.4387 - val_loss: 0.4770\n",
      "Epoch 7/20\n",
      "363/363 [==============================] - 0s 854us/step - loss: 0.4348 - val_loss: 0.4627\n",
      "Epoch 8/20\n",
      "363/363 [==============================] - 0s 813us/step - loss: 0.4241 - val_loss: 0.4538\n",
      "Epoch 9/20\n",
      "363/363 [==============================] - 0s 792us/step - loss: 0.4156 - val_loss: 0.4474\n",
      "Epoch 10/20\n",
      "363/363 [==============================] - 0s 822us/step - loss: 0.4121 - val_loss: 0.4407\n",
      "Epoch 11/20\n",
      "363/363 [==============================] - 0s 840us/step - loss: 0.4093 - val_loss: 0.4352\n",
      "Epoch 12/20\n",
      "363/363 [==============================] - 0s 834us/step - loss: 0.4104 - val_loss: 0.4300\n",
      "Epoch 13/20\n",
      "363/363 [==============================] - 0s 789us/step - loss: 0.3969 - val_loss: 0.4347\n",
      "Epoch 14/20\n",
      "363/363 [==============================] - 0s 762us/step - loss: 0.3941 - val_loss: 0.4266\n",
      "Epoch 15/20\n",
      "363/363 [==============================] - 0s 775us/step - loss: 0.3938 - val_loss: 0.4224\n",
      "Epoch 16/20\n",
      "363/363 [==============================] - 0s 791us/step - loss: 0.4009 - val_loss: 0.4145\n",
      "Epoch 17/20\n",
      "363/363 [==============================] - 0s 813us/step - loss: 0.3809 - val_loss: 0.4141\n",
      "Epoch 18/20\n",
      "363/363 [==============================] - 0s 822us/step - loss: 0.3892 - val_loss: 0.4186\n",
      "Epoch 19/20\n",
      "363/363 [==============================] - 0s 812us/step - loss: 0.3777 - val_loss: 0.4071\n",
      "Epoch 20/20\n",
      "363/363 [==============================] - 0s 826us/step - loss: 0.3758 - val_loss: 0.4054\n"
     ]
    }
   ],
   "source": [
    "model = keras.models.Sequential([keras.layers.Dense(30, activation=\"relu\", input_shape=X_train.shape[1:]),\n",
    "                                 keras.layers.Dense(1)])\n",
    "model.compile(loss=\"mean_squared_error\", optimizer=\"sgd\")\n",
    "history = model.fit(X_train, y_train, epochs=20, validation_data=(X_valid, y_valid))"
   ]
  },
  {
   "cell_type": "code",
   "execution_count": 57,
   "metadata": {},
   "outputs": [
    {
     "name": "stdout",
     "output_type": "stream",
     "text": [
      "162/162 [==============================] - 0s 593us/step - loss: 0.4007\n"
     ]
    }
   ],
   "source": [
    "mse_test = model.evaluate(X_test, y_test)"
   ]
  },
  {
   "cell_type": "code",
   "execution_count": 62,
   "metadata": {},
   "outputs": [
    {
     "data": {
      "text/plain": [
       "(array([[1.110326 ],\n",
       "        [2.5402265],\n",
       "        [3.6845734]], dtype=float32),\n",
       " array([1.008, 2.19 , 3.257]))"
      ]
     },
     "execution_count": 62,
     "metadata": {},
     "output_type": "execute_result"
    }
   ],
   "source": [
    "X_new = X_test[:3] # pretend these are new instances\n",
    "y_pred = model.predict(X_new)\n",
    "y_pred, y_test[:3]"
   ]
  },
  {
   "cell_type": "code",
   "execution_count": 67,
   "metadata": {},
   "outputs": [],
   "source": [
    "input_ = keras.layers.Input(shape=X_train.shape[1:])\n",
    "hidden1 = keras.layers.Dense(30, activation='relu')(input_)\n",
    "hidden2 = keras.layers.Dense(30, activation='relu')(hidden1)\n",
    "concat = keras.layers.Concatenate()([input_, hidden2])\n",
    "output = keras.layers.Dense(1)(concat)\n",
    "model = keras.Model(inputs=[input_], outputs=[output])"
   ]
  },
  {
   "cell_type": "code",
   "execution_count": 68,
   "metadata": {},
   "outputs": [
    {
     "name": "stdout",
     "output_type": "stream",
     "text": [
      "Model: \"functional_1\"\n",
      "__________________________________________________________________________________________________\n",
      "Layer (type)                    Output Shape         Param #     Connected to                     \n",
      "==================================================================================================\n",
      "input_4 (InputLayer)            [(None, 8)]          0                                            \n",
      "__________________________________________________________________________________________________\n",
      "dense_22 (Dense)                (None, 30)           270         input_4[0][0]                    \n",
      "__________________________________________________________________________________________________\n",
      "dense_23 (Dense)                (None, 30)           930         dense_22[0][0]                   \n",
      "__________________________________________________________________________________________________\n",
      "concatenate_3 (Concatenate)     (None, 38)           0           input_4[0][0]                    \n",
      "                                                                 dense_23[0][0]                   \n",
      "__________________________________________________________________________________________________\n",
      "dense_24 (Dense)                (None, 1)            39          concatenate_3[0][0]              \n",
      "==================================================================================================\n",
      "Total params: 1,239\n",
      "Trainable params: 1,239\n",
      "Non-trainable params: 0\n",
      "__________________________________________________________________________________________________\n"
     ]
    }
   ],
   "source": [
    "model.summary()"
   ]
  },
  {
   "cell_type": "code",
   "execution_count": 69,
   "metadata": {},
   "outputs": [],
   "source": [
    "input_A = keras.layers.Input(shape=(5), name=\"wide_input\")\n",
    "input_B = keras.layers.Input(shape=(6), name=\"deep_input\")\n",
    "hidden1 = keras.layers.Dense(30, activation=\"relu\")(input_B)\n",
    "hidden2 = keras.layers.Dense(30, activation=\"relu\")(hidden1)\n",
    "concat = keras.layers.concatenate([input_A, hidden2])\n",
    "output = keras.layers.Dense(1, name=\"output\")(concat)\n",
    "model = keras.Model(inputs=[input_A, input_B], outputs=[output])"
   ]
  },
  {
   "cell_type": "code",
   "execution_count": 70,
   "metadata": {},
   "outputs": [
    {
     "name": "stdout",
     "output_type": "stream",
     "text": [
      "Model: \"functional_3\"\n",
      "__________________________________________________________________________________________________\n",
      "Layer (type)                    Output Shape         Param #     Connected to                     \n",
      "==================================================================================================\n",
      "deep_input (InputLayer)         [(None, 6)]          0                                            \n",
      "__________________________________________________________________________________________________\n",
      "dense_25 (Dense)                (None, 30)           210         deep_input[0][0]                 \n",
      "__________________________________________________________________________________________________\n",
      "wide_input (InputLayer)         [(None, 5)]          0                                            \n",
      "__________________________________________________________________________________________________\n",
      "dense_26 (Dense)                (None, 30)           930         dense_25[0][0]                   \n",
      "__________________________________________________________________________________________________\n",
      "concatenate_4 (Concatenate)     (None, 35)           0           wide_input[0][0]                 \n",
      "                                                                 dense_26[0][0]                   \n",
      "__________________________________________________________________________________________________\n",
      "output (Dense)                  (None, 1)            36          concatenate_4[0][0]              \n",
      "==================================================================================================\n",
      "Total params: 1,176\n",
      "Trainable params: 1,176\n",
      "Non-trainable params: 0\n",
      "__________________________________________________________________________________________________\n"
     ]
    }
   ],
   "source": [
    "model.summary()"
   ]
  },
  {
   "cell_type": "code",
   "execution_count": 71,
   "metadata": {},
   "outputs": [
    {
     "name": "stdout",
     "output_type": "stream",
     "text": [
      "Epoch 1/20\n",
      "363/363 [==============================] - 0s 1ms/step - loss: 2.0656 - val_loss: 0.8470\n",
      "Epoch 2/20\n",
      "363/363 [==============================] - 0s 965us/step - loss: 0.7136 - val_loss: 0.7152\n",
      "Epoch 3/20\n",
      "363/363 [==============================] - 0s 940us/step - loss: 0.6289 - val_loss: 0.6699\n",
      "Epoch 4/20\n",
      "363/363 [==============================] - 0s 927us/step - loss: 0.5946 - val_loss: 0.6397\n",
      "Epoch 5/20\n",
      "363/363 [==============================] - 0s 881us/step - loss: 0.5702 - val_loss: 0.6156\n",
      "Epoch 6/20\n",
      "363/363 [==============================] - 0s 877us/step - loss: 0.5508 - val_loss: 0.5950\n",
      "Epoch 7/20\n",
      "363/363 [==============================] - 0s 879us/step - loss: 0.5357 - val_loss: 0.5789\n",
      "Epoch 8/20\n",
      "363/363 [==============================] - 0s 953us/step - loss: 0.5242 - val_loss: 0.5664\n",
      "Epoch 9/20\n",
      "363/363 [==============================] - 0s 888us/step - loss: 0.5149 - val_loss: 0.5552\n",
      "Epoch 10/20\n",
      "363/363 [==============================] - 0s 890us/step - loss: 0.5070 - val_loss: 0.5454\n",
      "Epoch 11/20\n",
      "363/363 [==============================] - 0s 953us/step - loss: 0.5010 - val_loss: 0.5383\n",
      "Epoch 12/20\n",
      "363/363 [==============================] - 0s 871us/step - loss: 0.4953 - val_loss: 0.5319\n",
      "Epoch 13/20\n",
      "363/363 [==============================] - 0s 893us/step - loss: 0.4905 - val_loss: 0.5252\n",
      "Epoch 14/20\n",
      "363/363 [==============================] - 0s 919us/step - loss: 0.4858 - val_loss: 0.5207\n",
      "Epoch 15/20\n",
      "363/363 [==============================] - 0s 900us/step - loss: 0.4822 - val_loss: 0.5162\n",
      "Epoch 16/20\n",
      "363/363 [==============================] - 0s 893us/step - loss: 0.4783 - val_loss: 0.5104\n",
      "Epoch 17/20\n",
      "363/363 [==============================] - 0s 950us/step - loss: 0.4754 - val_loss: 0.5063\n",
      "Epoch 18/20\n",
      "363/363 [==============================] - 0s 904us/step - loss: 0.4726 - val_loss: 0.5025\n",
      "Epoch 19/20\n",
      "363/363 [==============================] - 0s 881us/step - loss: 0.4699 - val_loss: 0.4999\n",
      "Epoch 20/20\n",
      "363/363 [==============================] - 0s 945us/step - loss: 0.4679 - val_loss: 0.4970\n",
      "162/162 [==============================] - 0s 590us/step - loss: 0.4996\n"
     ]
    }
   ],
   "source": [
    "model.compile(loss=\"mse\", optimizer=keras.optimizers.SGD(lr=1e-3))\n",
    "\n",
    "X_train_A, X_train_B = X_train[:, :5], X_train[:, 2:]\n",
    "X_valid_A, X_valid_B = X_valid[:, :5], X_valid[:, 2:]\n",
    "X_test_A, X_test_B = X_test[:, :5], X_test[:, 2:]\n",
    "X_new_A, X_new_B = X_test_A[:3], X_test_B[:3]\n",
    "\n",
    "history = model.fit((X_train_A, X_train_B), y_train, epochs=20,\n",
    "                    validation_data=((X_valid_A, X_valid_B), y_valid))\n",
    "\n",
    "mse_test = model.evaluate((X_test_A, X_test_B), y_test)\n",
    "y_pred = model.predict((X_new_A, X_new_B))"
   ]
  },
  {
   "cell_type": "code",
   "execution_count": 73,
   "metadata": {},
   "outputs": [],
   "source": [
    "input_A = keras.layers.Input(shape=(5), name=\"wide_input\")\n",
    "input_B = keras.layers.Input(shape=(6), name=\"deep_input\")\n",
    "hidden1 = keras.layers.Dense(30, activation=\"relu\")(input_B)\n",
    "hidden2 = keras.layers.Dense(30, activation=\"relu\")(hidden1)\n",
    "concat = keras.layers.concatenate([input_A, hidden2])\n",
    "output = keras.layers.Dense(1, name=\"main_output\")(concat)\n",
    "aux_output = keras.layers.Dense(1, name=\"aux_output\")(hidden2)\n",
    "model = keras.Model(inputs=[input_A, input_B], outputs=[output, aux_output])"
   ]
  },
  {
   "cell_type": "code",
   "execution_count": 74,
   "metadata": {},
   "outputs": [
    {
     "name": "stdout",
     "output_type": "stream",
     "text": [
      "Model: \"functional_5\"\n",
      "__________________________________________________________________________________________________\n",
      "Layer (type)                    Output Shape         Param #     Connected to                     \n",
      "==================================================================================================\n",
      "deep_input (InputLayer)         [(None, 6)]          0                                            \n",
      "__________________________________________________________________________________________________\n",
      "dense_27 (Dense)                (None, 30)           210         deep_input[0][0]                 \n",
      "__________________________________________________________________________________________________\n",
      "wide_input (InputLayer)         [(None, 5)]          0                                            \n",
      "__________________________________________________________________________________________________\n",
      "dense_28 (Dense)                (None, 30)           930         dense_27[0][0]                   \n",
      "__________________________________________________________________________________________________\n",
      "concatenate_5 (Concatenate)     (None, 35)           0           wide_input[0][0]                 \n",
      "                                                                 dense_28[0][0]                   \n",
      "__________________________________________________________________________________________________\n",
      "main_output (Dense)             (None, 1)            36          concatenate_5[0][0]              \n",
      "__________________________________________________________________________________________________\n",
      "aux_output (Dense)              (None, 1)            31          dense_28[0][0]                   \n",
      "==================================================================================================\n",
      "Total params: 1,207\n",
      "Trainable params: 1,207\n",
      "Non-trainable params: 0\n",
      "__________________________________________________________________________________________________\n"
     ]
    }
   ],
   "source": [
    "model.summary()"
   ]
  },
  {
   "cell_type": "code",
   "execution_count": 75,
   "metadata": {},
   "outputs": [],
   "source": [
    "model.compile(loss=[\"mse\", \"mse\"], loss_weights=[0.9, 0.1], optimizer=\"sgd\")"
   ]
  },
  {
   "cell_type": "code",
   "execution_count": 76,
   "metadata": {
    "scrolled": true
   },
   "outputs": [
    {
     "name": "stdout",
     "output_type": "stream",
     "text": [
      "Epoch 1/20\n",
      "363/363 [==============================] - 1s 1ms/step - loss: 0.9703 - main_output_loss: 0.8940 - aux_output_loss: 1.6571 - val_loss: 0.6497 - val_main_output_loss: 0.5907 - val_aux_output_loss: 1.1809\n",
      "Epoch 2/20\n",
      "363/363 [==============================] - 0s 1ms/step - loss: 0.5675 - main_output_loss: 0.5203 - aux_output_loss: 0.9921 - val_loss: 0.5695 - val_main_output_loss: 0.5243 - val_aux_output_loss: 0.9770\n",
      "Epoch 3/20\n",
      "363/363 [==============================] - 0s 1ms/step - loss: 0.5223 - main_output_loss: 0.4863 - aux_output_loss: 0.8471 - val_loss: 0.7962 - val_main_output_loss: 0.7754 - val_aux_output_loss: 0.9838\n",
      "Epoch 4/20\n",
      "363/363 [==============================] - 0s 1ms/step - loss: 0.5106 - main_output_loss: 0.4814 - aux_output_loss: 0.7733 - val_loss: 0.5146 - val_main_output_loss: 0.4856 - val_aux_output_loss: 0.7755\n",
      "Epoch 5/20\n",
      "363/363 [==============================] - 0s 1ms/step - loss: 0.6431 - main_output_loss: 0.6268 - aux_output_loss: 0.7902 - val_loss: 0.5166 - val_main_output_loss: 0.4876 - val_aux_output_loss: 0.7774\n",
      "Epoch 6/20\n",
      "363/363 [==============================] - 0s 1ms/step - loss: 0.4905 - main_output_loss: 0.4675 - aux_output_loss: 0.6972 - val_loss: 0.6579 - val_main_output_loss: 0.6497 - val_aux_output_loss: 0.7325\n",
      "Epoch 7/20\n",
      "363/363 [==============================] - 0s 1ms/step - loss: 0.7105 - main_output_loss: 0.7161 - aux_output_loss: 0.6604 - val_loss: 0.4883 - val_main_output_loss: 0.4677 - val_aux_output_loss: 0.6733\n",
      "Epoch 8/20\n",
      "363/363 [==============================] - 0s 1ms/step - loss: 0.4634 - main_output_loss: 0.4454 - aux_output_loss: 0.6251 - val_loss: 0.4769 - val_main_output_loss: 0.4576 - val_aux_output_loss: 0.6509\n",
      "Epoch 9/20\n",
      "363/363 [==============================] - 0s 1ms/step - loss: 0.4627 - main_output_loss: 0.4458 - aux_output_loss: 0.6150 - val_loss: 0.4676 - val_main_output_loss: 0.4487 - val_aux_output_loss: 0.6369\n",
      "Epoch 10/20\n",
      "363/363 [==============================] - 0s 1ms/step - loss: 0.4388 - main_output_loss: 0.4219 - aux_output_loss: 0.5904 - val_loss: 0.4537 - val_main_output_loss: 0.4352 - val_aux_output_loss: 0.6200\n",
      "Epoch 11/20\n",
      "363/363 [==============================] - 0s 1ms/step - loss: 0.4280 - main_output_loss: 0.4100 - aux_output_loss: 0.5897 - val_loss: 0.4526 - val_main_output_loss: 0.4350 - val_aux_output_loss: 0.6116\n",
      "Epoch 12/20\n",
      "363/363 [==============================] - 0s 1ms/step - loss: 0.4186 - main_output_loss: 0.4011 - aux_output_loss: 0.5757 - val_loss: 0.4372 - val_main_output_loss: 0.4209 - val_aux_output_loss: 0.5839\n",
      "Epoch 13/20\n",
      "363/363 [==============================] - 0s 1ms/step - loss: 0.4170 - main_output_loss: 0.4010 - aux_output_loss: 0.5613 - val_loss: 0.4335 - val_main_output_loss: 0.4171 - val_aux_output_loss: 0.5803\n",
      "Epoch 14/20\n",
      "363/363 [==============================] - 0s 1ms/step - loss: 0.4075 - main_output_loss: 0.3914 - aux_output_loss: 0.5526 - val_loss: 0.4235 - val_main_output_loss: 0.4089 - val_aux_output_loss: 0.5556\n",
      "Epoch 15/20\n",
      "363/363 [==============================] - 0s 1ms/step - loss: 0.3963 - main_output_loss: 0.3809 - aux_output_loss: 0.5349 - val_loss: 0.4214 - val_main_output_loss: 0.4074 - val_aux_output_loss: 0.5474\n",
      "Epoch 16/20\n",
      "363/363 [==============================] - 0s 1ms/step - loss: 0.3883 - main_output_loss: 0.3735 - aux_output_loss: 0.5214 - val_loss: 0.4123 - val_main_output_loss: 0.3986 - val_aux_output_loss: 0.5361\n",
      "Epoch 17/20\n",
      "363/363 [==============================] - 0s 1ms/step - loss: 0.3862 - main_output_loss: 0.3724 - aux_output_loss: 0.5107 - val_loss: 0.4020 - val_main_output_loss: 0.3878 - val_aux_output_loss: 0.5300\n",
      "Epoch 18/20\n",
      "363/363 [==============================] - 0s 1ms/step - loss: 0.3783 - main_output_loss: 0.3640 - aux_output_loss: 0.5061 - val_loss: 0.3980 - val_main_output_loss: 0.3854 - val_aux_output_loss: 0.5120\n",
      "Epoch 19/20\n",
      "363/363 [==============================] - 0s 1ms/step - loss: 0.3745 - main_output_loss: 0.3610 - aux_output_loss: 0.4954 - val_loss: 0.3895 - val_main_output_loss: 0.3768 - val_aux_output_loss: 0.5042\n",
      "Epoch 20/20\n",
      "363/363 [==============================] - 0s 1ms/step - loss: 0.3660 - main_output_loss: 0.3525 - aux_output_loss: 0.4870 - val_loss: 0.3869 - val_main_output_loss: 0.3746 - val_aux_output_loss: 0.4978\n"
     ]
    }
   ],
   "source": [
    "history = model.fit([X_train_A, X_train_B], [y_train, y_train], epochs=20,\n",
    "                    validation_data=([X_valid_A, X_valid_B], [y_valid, y_valid]))"
   ]
  },
  {
   "cell_type": "code",
   "execution_count": 78,
   "metadata": {},
   "outputs": [
    {
     "name": "stdout",
     "output_type": "stream",
     "text": [
      "162/162 [==============================] - 0s 784us/step - loss: 0.3952 - main_output_loss: 0.3836 - aux_output_loss: 0.4996\n"
     ]
    },
    {
     "data": {
      "text/plain": [
       "(0.39519599080085754, 0.3836006224155426, 0.4995548129081726)"
      ]
     },
     "execution_count": 78,
     "metadata": {},
     "output_type": "execute_result"
    }
   ],
   "source": [
    "total_loss, main_loss, aux_loss = model.evaluate( [X_test_A, X_test_B], [y_test, y_test])\n",
    "total_loss, main_loss, aux_loss"
   ]
  },
  {
   "cell_type": "code",
   "execution_count": 80,
   "metadata": {},
   "outputs": [
    {
     "data": {
      "text/plain": [
       "(array([[1.2887013],\n",
       "        [2.9159725],\n",
       "        [3.2446184]], dtype=float32),\n",
       " array([[1.5576848],\n",
       "        [2.826283 ],\n",
       "        [2.6450968]], dtype=float32))"
      ]
     },
     "execution_count": 80,
     "metadata": {},
     "output_type": "execute_result"
    }
   ],
   "source": [
    "y_pred_main, y_pred_aux = model.predict([X_new_A, X_new_B])\n",
    "y_pred_main, y_pred_aux"
   ]
  },
  {
   "cell_type": "code",
   "execution_count": 81,
   "metadata": {},
   "outputs": [],
   "source": [
    "class WideAndDeepModel(keras.Model):\n",
    "    def __init__(self, units=30, activation=\"relu\", **kwargs):\n",
    "        super().__init__(**kwargs) # handles standard args (e.g., name)\n",
    "        self.hidden1 = keras.layers.Dense(units, activation=activation)\n",
    "        self.hidden2 = keras.layers.Dense(units, activation=activation)\n",
    "        self.main_output = keras.layers.Dense(1)\n",
    "        self.aux_output = keras.layers.Dense(1)\n",
    "    def call(self, inputs):\n",
    "        input_A, input_B = inputs\n",
    "        hidden1 = self.hidden1(input_B)\n",
    "        hidden2 = self.hidden2(hidden1)\n",
    "        concat = keras.layers.concatenate([input_A, hidden2])\n",
    "        main_output = self.main_output(concat)\n",
    "        aux_output = self.aux_output(hidden2)\n",
    "        return main_output, aux_output\n",
    "    \n",
    "model = WideAndDeepModel()"
   ]
  },
  {
   "cell_type": "code",
   "execution_count": 83,
   "metadata": {
    "scrolled": true
   },
   "outputs": [
    {
     "name": "stdout",
     "output_type": "stream",
     "text": [
      "Epoch 1/20\n",
      "363/363 [==============================] - 1s 1ms/step - loss: 1.9444 - output_1_loss: 0.7171 - output_2_loss: 1.2273 - val_loss: 1.3072 - val_output_1_loss: 0.5524 - val_output_2_loss: 0.7548\n",
      "Epoch 2/20\n",
      "363/363 [==============================] - 0s 1ms/step - loss: 1.2202 - output_1_loss: 0.4977 - output_2_loss: 0.7224 - val_loss: 1.1759 - val_output_1_loss: 0.4973 - val_output_2_loss: 0.6786\n",
      "Epoch 3/20\n",
      "363/363 [==============================] - 0s 1ms/step - loss: 1.0821 - output_1_loss: 0.4642 - output_2_loss: 0.6179 - val_loss: 1.0782 - val_output_1_loss: 0.4676 - val_output_2_loss: 0.6106\n",
      "Epoch 4/20\n",
      "363/363 [==============================] - 0s 1ms/step - loss: 0.9984 - output_1_loss: 0.4336 - output_2_loss: 0.5648 - val_loss: 1.0045 - val_output_1_loss: 0.4448 - val_output_2_loss: 0.5597\n",
      "Epoch 5/20\n",
      "363/363 [==============================] - 0s 1ms/step - loss: 0.9407 - output_1_loss: 0.4066 - output_2_loss: 0.5341 - val_loss: 0.9629 - val_output_1_loss: 0.4271 - val_output_2_loss: 0.5358\n",
      "Epoch 6/20\n",
      "363/363 [==============================] - 0s 1ms/step - loss: 0.8889 - output_1_loss: 0.4026 - output_2_loss: 0.4863 - val_loss: 0.8975 - val_output_1_loss: 0.4117 - val_output_2_loss: 0.4857\n",
      "Epoch 7/20\n",
      "363/363 [==============================] - 0s 1ms/step - loss: 0.8341 - output_1_loss: 0.3734 - output_2_loss: 0.4606 - val_loss: 0.8835 - val_output_1_loss: 0.4021 - val_output_2_loss: 0.4815\n",
      "Epoch 8/20\n",
      "363/363 [==============================] - 0s 1ms/step - loss: 0.8157 - output_1_loss: 0.3693 - output_2_loss: 0.4464 - val_loss: 0.9397 - val_output_1_loss: 0.4292 - val_output_2_loss: 0.5106\n",
      "Epoch 9/20\n",
      "363/363 [==============================] - 0s 1ms/step - loss: 0.8714 - output_1_loss: 0.4086 - output_2_loss: 0.4628 - val_loss: 0.8227 - val_output_1_loss: 0.3807 - val_output_2_loss: 0.4420\n",
      "Epoch 10/20\n",
      "363/363 [==============================] - 0s 1ms/step - loss: 0.8256 - output_1_loss: 0.4008 - output_2_loss: 0.4247 - val_loss: 0.7865 - val_output_1_loss: 0.3629 - val_output_2_loss: 0.4236\n",
      "Epoch 11/20\n",
      "363/363 [==============================] - 0s 1ms/step - loss: 0.7624 - output_1_loss: 0.3491 - output_2_loss: 0.4133 - val_loss: 0.8004 - val_output_1_loss: 0.3719 - val_output_2_loss: 0.4285\n",
      "Epoch 12/20\n",
      "363/363 [==============================] - 0s 1ms/step - loss: 0.7851 - output_1_loss: 0.3745 - output_2_loss: 0.4106 - val_loss: 0.8836 - val_output_1_loss: 0.3956 - val_output_2_loss: 0.4880\n",
      "Epoch 13/20\n",
      "363/363 [==============================] - 0s 1ms/step - loss: 0.7425 - output_1_loss: 0.3385 - output_2_loss: 0.4041 - val_loss: 0.8222 - val_output_1_loss: 0.3764 - val_output_2_loss: 0.4458\n",
      "Epoch 14/20\n",
      "363/363 [==============================] - 0s 1ms/step - loss: 0.7338 - output_1_loss: 0.3364 - output_2_loss: 0.3974 - val_loss: 0.7659 - val_output_1_loss: 0.3534 - val_output_2_loss: 0.4125\n",
      "Epoch 15/20\n",
      "363/363 [==============================] - 0s 1ms/step - loss: 0.7273 - output_1_loss: 0.3344 - output_2_loss: 0.3930 - val_loss: 0.7480 - val_output_1_loss: 0.3493 - val_output_2_loss: 0.3987\n",
      "Epoch 16/20\n",
      "363/363 [==============================] - 0s 1ms/step - loss: 0.7232 - output_1_loss: 0.3330 - output_2_loss: 0.3902 - val_loss: 0.7609 - val_output_1_loss: 0.3489 - val_output_2_loss: 0.4120\n",
      "Epoch 17/20\n",
      "363/363 [==============================] - 0s 1ms/step - loss: 0.7140 - output_1_loss: 0.3259 - output_2_loss: 0.3881 - val_loss: 0.7546 - val_output_1_loss: 0.3485 - val_output_2_loss: 0.4062\n",
      "Epoch 18/20\n",
      "363/363 [==============================] - 0s 1ms/step - loss: 0.7248 - output_1_loss: 0.3385 - output_2_loss: 0.3863 - val_loss: 0.7439 - val_output_1_loss: 0.3440 - val_output_2_loss: 0.4000\n",
      "Epoch 19/20\n",
      "363/363 [==============================] - 0s 1ms/step - loss: 0.7103 - output_1_loss: 0.3251 - output_2_loss: 0.3852 - val_loss: 0.7301 - val_output_1_loss: 0.3414 - val_output_2_loss: 0.3887\n",
      "Epoch 20/20\n",
      "363/363 [==============================] - 0s 1ms/step - loss: 0.7115 - output_1_loss: 0.3290 - output_2_loss: 0.3825 - val_loss: 0.7322 - val_output_1_loss: 0.3445 - val_output_2_loss: 0.3877\n"
     ]
    }
   ],
   "source": [
    "model.compile(loss='mse', optimizer='SGD')\n",
    "history =  model.fit([X_train_A, X_train_B], [y_train, y_train], epochs=20,\n",
    "                     validation_data=([X_valid_A, X_valid_B], [y_valid, y_valid]))"
   ]
  },
  {
   "cell_type": "code",
   "execution_count": 84,
   "metadata": {},
   "outputs": [
    {
     "ename": "NotImplementedError",
     "evalue": "Saving the model to HDF5 format requires the model to be a Functional model or a Sequential model. It does not work for subclassed models, because such models are defined via the body of a Python method, which isn't safely serializable. Consider saving to the Tensorflow SavedModel format (by setting save_format=\"tf\") or using `save_weights`.",
     "output_type": "error",
     "traceback": [
      "\u001b[0;31m---------------------------------------------------------------------------\u001b[0m",
      "\u001b[0;31mNotImplementedError\u001b[0m                       Traceback (most recent call last)",
      "\u001b[0;32m<ipython-input-84-06456ea49a0f>\u001b[0m in \u001b[0;36m<module>\u001b[0;34m\u001b[0m\n\u001b[0;32m----> 1\u001b[0;31m \u001b[0mmodel\u001b[0m\u001b[0;34m.\u001b[0m\u001b[0msave\u001b[0m\u001b[0;34m(\u001b[0m\u001b[0;34m'my_first_ann.h5'\u001b[0m\u001b[0;34m)\u001b[0m\u001b[0;34m\u001b[0m\u001b[0;34m\u001b[0m\u001b[0m\n\u001b[0m",
      "\u001b[0;32m~/machine_learning/ml_env/lib/python3.8/site-packages/tensorflow/python/keras/engine/training.py\u001b[0m in \u001b[0;36msave\u001b[0;34m(self, filepath, overwrite, include_optimizer, save_format, signatures, options)\u001b[0m\n\u001b[1;32m   1976\u001b[0m     \u001b[0;31m`\u001b[0m\u001b[0;31m`\u001b[0m\u001b[0;31m`\u001b[0m\u001b[0;34m\u001b[0m\u001b[0;34m\u001b[0m\u001b[0m\n\u001b[1;32m   1977\u001b[0m     \"\"\"\n\u001b[0;32m-> 1978\u001b[0;31m     save.save_model(self, filepath, overwrite, include_optimizer, save_format,\n\u001b[0m\u001b[1;32m   1979\u001b[0m                     signatures, options)\n\u001b[1;32m   1980\u001b[0m \u001b[0;34m\u001b[0m\u001b[0m\n",
      "\u001b[0;32m~/machine_learning/ml_env/lib/python3.8/site-packages/tensorflow/python/keras/saving/save.py\u001b[0m in \u001b[0;36msave_model\u001b[0;34m(model, filepath, overwrite, include_optimizer, save_format, signatures, options)\u001b[0m\n\u001b[1;32m    121\u001b[0m     if (not model._is_graph_network and  # pylint:disable=protected-access\n\u001b[1;32m    122\u001b[0m         not isinstance(model, sequential.Sequential)):\n\u001b[0;32m--> 123\u001b[0;31m       raise NotImplementedError(\n\u001b[0m\u001b[1;32m    124\u001b[0m           \u001b[0;34m'Saving the model to HDF5 format requires the model to be a '\u001b[0m\u001b[0;34m\u001b[0m\u001b[0;34m\u001b[0m\u001b[0m\n\u001b[1;32m    125\u001b[0m           \u001b[0;34m'Functional model or a Sequential model. It does not work for '\u001b[0m\u001b[0;34m\u001b[0m\u001b[0;34m\u001b[0m\u001b[0m\n",
      "\u001b[0;31mNotImplementedError\u001b[0m: Saving the model to HDF5 format requires the model to be a Functional model or a Sequential model. It does not work for subclassed models, because such models are defined via the body of a Python method, which isn't safely serializable. Consider saving to the Tensorflow SavedModel format (by setting save_format=\"tf\") or using `save_weights`."
     ]
    }
   ],
   "source": [
    "model.save('my_first_ann.h5')"
   ]
  },
  {
   "cell_type": "code",
   "execution_count": 85,
   "metadata": {
    "scrolled": true
   },
   "outputs": [
    {
     "name": "stdout",
     "output_type": "stream",
     "text": [
      "Epoch 1/20\n",
      "363/363 [==============================] - 1s 1ms/step - loss: 0.8542 - main_output_loss: 0.7340 - aux_output_loss: 1.9364 - val_loss: 0.6297 - val_main_output_loss: 0.5692 - val_aux_output_loss: 1.1745\n",
      "Epoch 2/20\n",
      "363/363 [==============================] - 0s 1ms/step - loss: 0.6558 - main_output_loss: 0.6139 - aux_output_loss: 1.0331 - val_loss: 0.5495 - val_main_output_loss: 0.5059 - val_aux_output_loss: 0.9420\n",
      "Epoch 3/20\n",
      "363/363 [==============================] - 0s 1ms/step - loss: 0.6191 - main_output_loss: 0.5893 - aux_output_loss: 0.8869 - val_loss: 1.4415 - val_main_output_loss: 1.4491 - val_aux_output_loss: 1.3732\n",
      "Epoch 4/20\n",
      "363/363 [==============================] - 0s 1ms/step - loss: 0.5570 - main_output_loss: 0.5204 - aux_output_loss: 0.8871 - val_loss: 0.5254 - val_main_output_loss: 0.4959 - val_aux_output_loss: 0.7914\n",
      "Epoch 5/20\n",
      "363/363 [==============================] - 0s 1ms/step - loss: 0.5233 - main_output_loss: 0.4982 - aux_output_loss: 0.7489 - val_loss: 0.5086 - val_main_output_loss: 0.4852 - val_aux_output_loss: 0.7191\n",
      "Epoch 6/20\n",
      "363/363 [==============================] - 0s 1ms/step - loss: 0.4694 - main_output_loss: 0.4452 - aux_output_loss: 0.6867 - val_loss: 0.4855 - val_main_output_loss: 0.4636 - val_aux_output_loss: 0.6834\n",
      "Epoch 7/20\n",
      "363/363 [==============================] - 0s 1ms/step - loss: 0.4568 - main_output_loss: 0.4343 - aux_output_loss: 0.6598 - val_loss: 0.4706 - val_main_output_loss: 0.4494 - val_aux_output_loss: 0.6620\n",
      "Epoch 8/20\n",
      "363/363 [==============================] - 0s 1ms/step - loss: 0.5277 - main_output_loss: 0.5151 - aux_output_loss: 0.6408 - val_loss: 0.4909 - val_main_output_loss: 0.4707 - val_aux_output_loss: 0.6733\n",
      "Epoch 9/20\n",
      "363/363 [==============================] - 0s 1ms/step - loss: 0.4372 - main_output_loss: 0.4167 - aux_output_loss: 0.6216 - val_loss: 0.4550 - val_main_output_loss: 0.4357 - val_aux_output_loss: 0.6288\n",
      "Epoch 10/20\n",
      "363/363 [==============================] - 0s 1ms/step - loss: 0.4222 - main_output_loss: 0.4024 - aux_output_loss: 0.6004 - val_loss: 0.4458 - val_main_output_loss: 0.4273 - val_aux_output_loss: 0.6116\n",
      "Epoch 11/20\n",
      "363/363 [==============================] - 0s 1ms/step - loss: 0.4134 - main_output_loss: 0.3948 - aux_output_loss: 0.5808 - val_loss: 0.4437 - val_main_output_loss: 0.4264 - val_aux_output_loss: 0.5993\n",
      "Epoch 12/20\n",
      "363/363 [==============================] - 0s 1ms/step - loss: 0.4038 - main_output_loss: 0.3850 - aux_output_loss: 0.5727 - val_loss: 0.4361 - val_main_output_loss: 0.4200 - val_aux_output_loss: 0.5804\n",
      "Epoch 13/20\n",
      "363/363 [==============================] - 0s 1ms/step - loss: 0.3977 - main_output_loss: 0.3806 - aux_output_loss: 0.5513 - val_loss: 0.4159 - val_main_output_loss: 0.3990 - val_aux_output_loss: 0.5687\n",
      "Epoch 14/20\n",
      "363/363 [==============================] - 0s 1ms/step - loss: 0.3881 - main_output_loss: 0.3704 - aux_output_loss: 0.5473 - val_loss: 0.4162 - val_main_output_loss: 0.4010 - val_aux_output_loss: 0.5529\n",
      "Epoch 15/20\n",
      "363/363 [==============================] - 0s 1ms/step - loss: 0.3806 - main_output_loss: 0.3641 - aux_output_loss: 0.5285 - val_loss: 0.4004 - val_main_output_loss: 0.3847 - val_aux_output_loss: 0.5420\n",
      "Epoch 16/20\n",
      "363/363 [==============================] - 0s 1ms/step - loss: 0.3731 - main_output_loss: 0.3572 - aux_output_loss: 0.5168 - val_loss: 0.3960 - val_main_output_loss: 0.3811 - val_aux_output_loss: 0.5306\n",
      "Epoch 17/20\n",
      "363/363 [==============================] - 0s 1ms/step - loss: 0.3689 - main_output_loss: 0.3535 - aux_output_loss: 0.5078 - val_loss: 0.4013 - val_main_output_loss: 0.3872 - val_aux_output_loss: 0.5285\n",
      "Epoch 18/20\n",
      "363/363 [==============================] - 0s 1ms/step - loss: 0.3621 - main_output_loss: 0.3470 - aux_output_loss: 0.4977 - val_loss: 0.3846 - val_main_output_loss: 0.3701 - val_aux_output_loss: 0.5144\n",
      "Epoch 19/20\n",
      "363/363 [==============================] - 0s 1ms/step - loss: 0.3596 - main_output_loss: 0.3453 - aux_output_loss: 0.4887 - val_loss: 0.3820 - val_main_output_loss: 0.3681 - val_aux_output_loss: 0.5070\n",
      "Epoch 20/20\n",
      "363/363 [==============================] - 0s 1ms/step - loss: 0.3554 - main_output_loss: 0.3412 - aux_output_loss: 0.4832 - val_loss: 0.3773 - val_main_output_loss: 0.3643 - val_aux_output_loss: 0.4945\n"
     ]
    },
    {
     "data": {
      "text/plain": [
       "<tensorflow.python.keras.callbacks.History at 0x150d02d00>"
      ]
     },
     "execution_count": 85,
     "metadata": {},
     "output_type": "execute_result"
    }
   ],
   "source": [
    "input_A = keras.layers.Input(shape=(5), name=\"wide_input\")\n",
    "input_B = keras.layers.Input(shape=(6), name=\"deep_input\")\n",
    "hidden1 = keras.layers.Dense(30, activation=\"relu\")(input_B)\n",
    "hidden2 = keras.layers.Dense(30, activation=\"relu\")(hidden1)\n",
    "concat = keras.layers.concatenate([input_A, hidden2])\n",
    "output = keras.layers.Dense(1, name=\"main_output\")(concat)\n",
    "aux_output = keras.layers.Dense(1, name=\"aux_output\")(hidden2)\n",
    "model = keras.Model(inputs=[input_A, input_B], outputs=[output, aux_output])\n",
    "\n",
    "model.compile(loss=[\"mse\", \"mse\"], loss_weights=[0.9, 0.1], optimizer=\"sgd\")\n",
    "model.fit([X_train_A, X_train_B], [y_train, y_train], epochs=20,\n",
    "          validation_data=([X_valid_A, X_valid_B], [y_valid, y_valid]))"
   ]
  },
  {
   "cell_type": "code",
   "execution_count": 86,
   "metadata": {},
   "outputs": [],
   "source": [
    "model.save('my_first_ann.h5')"
   ]
  },
  {
   "cell_type": "code",
   "execution_count": 87,
   "metadata": {},
   "outputs": [],
   "source": [
    "model = keras.models.load_model('my_first_ann.h5')"
   ]
  },
  {
   "cell_type": "code",
   "execution_count": 91,
   "metadata": {
    "scrolled": true
   },
   "outputs": [
    {
     "name": "stdout",
     "output_type": "stream",
     "text": [
      "Epoch 1/20\n",
      "363/363 [==============================] - 1s 2ms/step - loss: 1.2857 - main_output_loss: 1.1515 - aux_output_loss: 2.4932 - val_loss: 0.6919 - val_main_output_loss: 0.6100 - val_aux_output_loss: 1.4288\n",
      "Epoch 2/20\n",
      "363/363 [==============================] - 0s 1ms/step - loss: 0.6074 - main_output_loss: 0.5429 - aux_output_loss: 1.1873 - val_loss: 0.5838 - val_main_output_loss: 0.5236 - val_aux_output_loss: 1.1251\n",
      "Epoch 3/20\n",
      "363/363 [==============================] - 0s 1ms/step - loss: 0.5451 - main_output_loss: 0.4952 - aux_output_loss: 0.9945 - val_loss: 0.5449 - val_main_output_loss: 0.4982 - val_aux_output_loss: 0.9654\n",
      "Epoch 4/20\n",
      "363/363 [==============================] - 0s 1ms/step - loss: 0.5053 - main_output_loss: 0.4654 - aux_output_loss: 0.8651 - val_loss: 0.5221 - val_main_output_loss: 0.4844 - val_aux_output_loss: 0.8611\n",
      "Epoch 5/20\n",
      "363/363 [==============================] - 0s 1ms/step - loss: 0.4868 - main_output_loss: 0.4540 - aux_output_loss: 0.7824 - val_loss: 0.5179 - val_main_output_loss: 0.4890 - val_aux_output_loss: 0.7783\n",
      "Epoch 6/20\n",
      "363/363 [==============================] - 0s 1ms/step - loss: 0.4709 - main_output_loss: 0.4420 - aux_output_loss: 0.7316 - val_loss: 0.4858 - val_main_output_loss: 0.4578 - val_aux_output_loss: 0.7379\n",
      "Epoch 7/20\n",
      "363/363 [==============================] - 0s 1ms/step - loss: 0.4544 - main_output_loss: 0.4279 - aux_output_loss: 0.6933 - val_loss: 0.4744 - val_main_output_loss: 0.4482 - val_aux_output_loss: 0.7106\n",
      "Epoch 8/20\n",
      "363/363 [==============================] - 0s 1ms/step - loss: 0.4456 - main_output_loss: 0.4208 - aux_output_loss: 0.6684 - val_loss: 0.4664 - val_main_output_loss: 0.4423 - val_aux_output_loss: 0.6835\n",
      "Epoch 9/20\n",
      "363/363 [==============================] - 0s 1ms/step - loss: 0.4331 - main_output_loss: 0.4091 - aux_output_loss: 0.6488 - val_loss: 0.4542 - val_main_output_loss: 0.4313 - val_aux_output_loss: 0.6608\n",
      "Epoch 10/20\n",
      "363/363 [==============================] - 0s 1ms/step - loss: 0.4235 - main_output_loss: 0.4009 - aux_output_loss: 0.6266 - val_loss: 0.4436 - val_main_output_loss: 0.4214 - val_aux_output_loss: 0.6441\n",
      "Epoch 11/20\n",
      "363/363 [==============================] - 0s 1ms/step - loss: 0.4147 - main_output_loss: 0.3931 - aux_output_loss: 0.6084 - val_loss: 0.4359 - val_main_output_loss: 0.4146 - val_aux_output_loss: 0.6277\n",
      "Epoch 12/20\n",
      "363/363 [==============================] - 0s 1ms/step - loss: 0.4077 - main_output_loss: 0.3866 - aux_output_loss: 0.5975 - val_loss: 0.4336 - val_main_output_loss: 0.4138 - val_aux_output_loss: 0.6111\n",
      "Epoch 13/20\n",
      "363/363 [==============================] - 0s 1ms/step - loss: 0.4195 - main_output_loss: 0.3981 - aux_output_loss: 0.6122 - val_loss: 0.4334 - val_main_output_loss: 0.4110 - val_aux_output_loss: 0.6350\n",
      "Epoch 14/20\n",
      "363/363 [==============================] - 0s 1ms/step - loss: 0.4137 - main_output_loss: 0.3959 - aux_output_loss: 0.5736 - val_loss: 0.4195 - val_main_output_loss: 0.4013 - val_aux_output_loss: 0.5832\n",
      "Epoch 15/20\n",
      "363/363 [==============================] - 0s 1ms/step - loss: 0.4295 - main_output_loss: 0.4166 - aux_output_loss: 0.5459 - val_loss: 0.4369 - val_main_output_loss: 0.4220 - val_aux_output_loss: 0.5704\n",
      "Epoch 16/20\n",
      "363/363 [==============================] - 0s 1ms/step - loss: 0.3892 - main_output_loss: 0.3725 - aux_output_loss: 0.5394 - val_loss: 0.4029 - val_main_output_loss: 0.3862 - val_aux_output_loss: 0.5528\n",
      "Epoch 17/20\n",
      "363/363 [==============================] - 0s 1ms/step - loss: 0.3740 - main_output_loss: 0.3571 - aux_output_loss: 0.5258 - val_loss: 0.3937 - val_main_output_loss: 0.3771 - val_aux_output_loss: 0.5427\n",
      "Epoch 18/20\n",
      "363/363 [==============================] - 0s 1ms/step - loss: 0.3680 - main_output_loss: 0.3515 - aux_output_loss: 0.5161 - val_loss: 0.3935 - val_main_output_loss: 0.3780 - val_aux_output_loss: 0.5332\n",
      "Epoch 19/20\n",
      "363/363 [==============================] - 0s 1ms/step - loss: 0.3639 - main_output_loss: 0.3482 - aux_output_loss: 0.5045 - val_loss: 0.3876 - val_main_output_loss: 0.3718 - val_aux_output_loss: 0.5293\n",
      "Epoch 20/20\n",
      "363/363 [==============================] - 0s 1ms/step - loss: 0.3582 - main_output_loss: 0.3428 - aux_output_loss: 0.4968 - val_loss: 0.3850 - val_main_output_loss: 0.3706 - val_aux_output_loss: 0.5149\n"
     ]
    }
   ],
   "source": [
    "input_A = keras.layers.Input(shape=(5), name=\"wide_input\")\n",
    "input_B = keras.layers.Input(shape=(6), name=\"deep_input\")\n",
    "hidden1 = keras.layers.Dense(30, activation=\"relu\")(input_B)\n",
    "hidden2 = keras.layers.Dense(30, activation=\"relu\")(hidden1)\n",
    "concat = keras.layers.concatenate([input_A, hidden2])\n",
    "output = keras.layers.Dense(1, name=\"main_output\")(concat)\n",
    "aux_output = keras.layers.Dense(1, name=\"aux_output\")(hidden2)\n",
    "model = keras.Model(inputs=[input_A, input_B], outputs=[output, aux_output])\n",
    "\n",
    "model.compile(loss=[\"mse\", \"mse\"], loss_weights=[0.9, 0.1], optimizer=\"sgd\")\n",
    "\n",
    "checkpoint_cb = keras.callbacks.ModelCheckpoint(\"my_keras_model.h5\", save_best_only=True)\n",
    "history = model.fit([X_train_A, X_train_B], [y_train, y_train], epochs=20,\n",
    "                    validation_data=([X_valid_A, X_valid_B], [y_valid, y_valid]), callbacks=[checkpoint_cb])"
   ]
  },
  {
   "cell_type": "code",
   "execution_count": 92,
   "metadata": {},
   "outputs": [],
   "source": [
    "model = keras.models.load_model(\"my_keras_model.h5\")"
   ]
  },
  {
   "cell_type": "code",
   "execution_count": 95,
   "metadata": {},
   "outputs": [
    {
     "name": "stdout",
     "output_type": "stream",
     "text": [
      "162/162 [==============================] - 0s 712us/step - loss: 0.3877 - main_output_loss: 0.3739 - aux_output_loss: 0.5115\n"
     ]
    },
    {
     "data": {
      "text/plain": [
       "[0.3876643776893616, 0.3739095628261566, 0.5114568471908569]"
      ]
     },
     "execution_count": 95,
     "metadata": {},
     "output_type": "execute_result"
    }
   ],
   "source": [
    "model.evaluate([X_test_A, X_test_B], [y_test, y_test])"
   ]
  },
  {
   "cell_type": "code",
   "execution_count": 96,
   "metadata": {},
   "outputs": [],
   "source": [
    "early_stopping_cb = keras.callbacks.EarlyStopping(patience=10, restore_best_weights=True)"
   ]
  },
  {
   "cell_type": "code",
   "execution_count": 97,
   "metadata": {},
   "outputs": [],
   "source": [
    "class PrintValTrainRatioCallback(keras.callbacks.Callback):\n",
    "    def on_epoch_end(self, epoch, logs):\n",
    "        print(\"\\nval/train: {:.2f}\".format(logs[\"val_loss\"] / logs[\"loss\"]))"
   ]
  },
  {
   "cell_type": "code",
   "execution_count": 99,
   "metadata": {},
   "outputs": [],
   "source": [
    "import os\n",
    "root_logdir = os.path.join(os.curdir, \"my_logs\")\n",
    "\n",
    "def get_run_logdir(): \n",
    "    import time\n",
    "    run_id = time.strftime(\"run_%Y_%m_%d-%H_%M_%S\")\n",
    "    return os.path.join(root_logdir, run_id)\n",
    "\n",
    "run_logdir = get_run_logdir()"
   ]
  },
  {
   "cell_type": "code",
   "execution_count": 100,
   "metadata": {},
   "outputs": [
    {
     "data": {
      "text/plain": [
       "'./my_logs/run_2020_12_01-14_44_52'"
      ]
     },
     "execution_count": 100,
     "metadata": {},
     "output_type": "execute_result"
    }
   ],
   "source": [
    "run_logdir"
   ]
  },
  {
   "cell_type": "code",
   "execution_count": 102,
   "metadata": {
    "scrolled": true
   },
   "outputs": [
    {
     "name": "stdout",
     "output_type": "stream",
     "text": [
      "Epoch 1/20\n",
      "  1/363 [..............................] - ETA: 0s - loss: 0.2753 - main_output_loss: 0.2540 - aux_output_loss: 0.4669WARNING:tensorflow:From /Users/Dipper/machine_learning/ml_env/lib/python3.8/site-packages/tensorflow/python/ops/summary_ops_v2.py:1277: stop (from tensorflow.python.eager.profiler) is deprecated and will be removed after 2020-07-01.\n",
      "Instructions for updating:\n",
      "use `tf.profiler.experimental.stop` instead.\n",
      "WARNING:tensorflow:Callbacks method `on_train_batch_end` is slow compared to the batch time (batch time: 0.0035s vs `on_train_batch_end` time: 0.0388s). Check your callbacks.\n",
      "363/363 [==============================] - 1s 2ms/step - loss: 0.3571 - main_output_loss: 0.3425 - aux_output_loss: 0.4892 - val_loss: 0.3845 - val_main_output_loss: 0.3708 - val_aux_output_loss: 0.5085\n",
      "Epoch 2/20\n",
      "363/363 [==============================] - 1s 2ms/step - loss: 0.3537 - main_output_loss: 0.3395 - aux_output_loss: 0.4808 - val_loss: 0.3806 - val_main_output_loss: 0.3667 - val_aux_output_loss: 0.5055\n",
      "Epoch 3/20\n",
      "363/363 [==============================] - 1s 2ms/step - loss: 0.3516 - main_output_loss: 0.3379 - aux_output_loss: 0.4752 - val_loss: 0.3715 - val_main_output_loss: 0.3577 - val_aux_output_loss: 0.4955\n",
      "Epoch 4/20\n",
      "363/363 [==============================] - 1s 2ms/step - loss: 0.3467 - main_output_loss: 0.3330 - aux_output_loss: 0.4700 - val_loss: 0.3674 - val_main_output_loss: 0.3544 - val_aux_output_loss: 0.4850\n",
      "Epoch 5/20\n",
      "363/363 [==============================] - 1s 2ms/step - loss: 0.3448 - main_output_loss: 0.3313 - aux_output_loss: 0.4660 - val_loss: 0.3790 - val_main_output_loss: 0.3656 - val_aux_output_loss: 0.4994\n",
      "Epoch 6/20\n",
      "363/363 [==============================] - 1s 2ms/step - loss: 0.3435 - main_output_loss: 0.3303 - aux_output_loss: 0.4616 - val_loss: 0.3647 - val_main_output_loss: 0.3524 - val_aux_output_loss: 0.4758\n",
      "Epoch 7/20\n",
      "363/363 [==============================] - 1s 2ms/step - loss: 0.3398 - main_output_loss: 0.3269 - aux_output_loss: 0.4558 - val_loss: 0.3621 - val_main_output_loss: 0.3500 - val_aux_output_loss: 0.4711\n",
      "Epoch 8/20\n",
      "363/363 [==============================] - 1s 2ms/step - loss: 0.3398 - main_output_loss: 0.3271 - aux_output_loss: 0.4539 - val_loss: 0.3653 - val_main_output_loss: 0.3536 - val_aux_output_loss: 0.4699\n",
      "Epoch 9/20\n",
      "363/363 [==============================] - 1s 2ms/step - loss: 0.3372 - main_output_loss: 0.3250 - aux_output_loss: 0.4478 - val_loss: 0.3582 - val_main_output_loss: 0.3464 - val_aux_output_loss: 0.4639\n",
      "Epoch 10/20\n",
      "363/363 [==============================] - 1s 2ms/step - loss: 0.3348 - main_output_loss: 0.3227 - aux_output_loss: 0.4440 - val_loss: 0.3702 - val_main_output_loss: 0.3590 - val_aux_output_loss: 0.4703\n",
      "Epoch 11/20\n",
      "363/363 [==============================] - 1s 2ms/step - loss: 0.3359 - main_output_loss: 0.3242 - aux_output_loss: 0.4407 - val_loss: 0.3551 - val_main_output_loss: 0.3441 - val_aux_output_loss: 0.4547\n",
      "Epoch 12/20\n",
      "363/363 [==============================] - 1s 2ms/step - loss: 0.3367 - main_output_loss: 0.3253 - aux_output_loss: 0.4390 - val_loss: 0.3536 - val_main_output_loss: 0.3424 - val_aux_output_loss: 0.4545\n",
      "Epoch 13/20\n",
      "363/363 [==============================] - 1s 2ms/step - loss: 0.3310 - main_output_loss: 0.3194 - aux_output_loss: 0.4357 - val_loss: 0.3518 - val_main_output_loss: 0.3411 - val_aux_output_loss: 0.4485\n",
      "Epoch 14/20\n",
      "363/363 [==============================] - 1s 2ms/step - loss: 0.3303 - main_output_loss: 0.3188 - aux_output_loss: 0.4334 - val_loss: 0.3544 - val_main_output_loss: 0.3438 - val_aux_output_loss: 0.4498\n",
      "Epoch 15/20\n",
      "363/363 [==============================] - 1s 2ms/step - loss: 0.3314 - main_output_loss: 0.3203 - aux_output_loss: 0.4317 - val_loss: 0.3524 - val_main_output_loss: 0.3419 - val_aux_output_loss: 0.4473\n",
      "Epoch 16/20\n",
      "363/363 [==============================] - 1s 2ms/step - loss: 0.3278 - main_output_loss: 0.3167 - aux_output_loss: 0.4272 - val_loss: 0.3557 - val_main_output_loss: 0.3462 - val_aux_output_loss: 0.4415\n",
      "Epoch 17/20\n",
      "363/363 [==============================] - 1s 2ms/step - loss: 0.3283 - main_output_loss: 0.3176 - aux_output_loss: 0.4242 - val_loss: 0.3611 - val_main_output_loss: 0.3509 - val_aux_output_loss: 0.4535\n",
      "Epoch 18/20\n",
      "363/363 [==============================] - 1s 2ms/step - loss: 0.3269 - main_output_loss: 0.3160 - aux_output_loss: 0.4247 - val_loss: 0.3562 - val_main_output_loss: 0.3464 - val_aux_output_loss: 0.4444\n",
      "Epoch 19/20\n",
      "363/363 [==============================] - 1s 2ms/step - loss: 0.3279 - main_output_loss: 0.3173 - aux_output_loss: 0.4226 - val_loss: 0.3547 - val_main_output_loss: 0.3455 - val_aux_output_loss: 0.4372\n",
      "Epoch 20/20\n",
      "363/363 [==============================] - 1s 2ms/step - loss: 0.3249 - main_output_loss: 0.3143 - aux_output_loss: 0.4203 - val_loss: 0.3497 - val_main_output_loss: 0.3398 - val_aux_output_loss: 0.4381\n"
     ]
    }
   ],
   "source": [
    "tensorboard_cb = keras.callbacks.TensorBoard(run_logdir)\n",
    "history = model.fit([X_train_A, X_train_B], [y_train, y_train], epochs=20,\n",
    "                    validation_data=([X_valid_A, X_valid_B], [y_valid, y_valid]),\n",
    "                    callbacks=[tensorboard_cb])"
   ]
  },
  {
   "cell_type": "code",
   "execution_count": 104,
   "metadata": {},
   "outputs": [],
   "source": [
    "test_logdir = get_run_logdir()\n",
    "writer = tf.summary.create_file_writer(test_logdir)\n",
    "with writer.as_default():\n",
    "    for step in range(1, 1000 + 1):\n",
    "        tf.summary.scalar(\"my_scalar\", np.sin(step / 10), step=step)\n",
    "        data = (np.random.randn(100) + 2) * step / 100 # some random data\n",
    "        tf.summary.histogram(\"my_hist\", data, buckets=50, step=step)\n",
    "        images = np.random.rand(2, 32, 32, 3) # random 32×32 RGB images\n",
    "        tf.summary.image(\"my_images\", images * step / 1000, step=step)\n",
    "        texts = [\"The step is \" + str(step), \"Its square is \" + str(step**2)]\n",
    "        tf.summary.text(\"my_text\", texts, step=step)\n",
    "        sine_wave = tf.math.sin(tf.range(12000) / 48000 * 2 * np.pi * step)\n",
    "        audio = tf.reshape(tf.cast(sine_wave, tf.float32), [1, -1, 1])\n",
    "        tf.summary.audio(\"my_audio\", audio, sample_rate=48000, step=step)"
   ]
  },
  {
   "cell_type": "code",
   "execution_count": 106,
   "metadata": {},
   "outputs": [],
   "source": [
    "def build_model(n_hidden=1, n_neurons=30, learning_rate=3e-3, input_shape=[8]):\n",
    "    model = keras.models.Sequential()\n",
    "    model.add(keras.layers.InputLayer(input_shape=input_shape))\n",
    "    for layer in range(n_hidden):\n",
    "        model.add(keras.layers.Dense(n_neurons, activation=\"relu\"))\n",
    "        model.add(keras.layers.Dense(1))\n",
    "        optimizer = keras.optimizers.SGD(lr=learning_rate)\n",
    "        model.compile(loss=\"mse\", optimizer=optimizer)\n",
    "    return model"
   ]
  },
  {
   "cell_type": "code",
   "execution_count": 107,
   "metadata": {},
   "outputs": [],
   "source": [
    "keras_reg = keras.wrappers.scikit_learn.KerasRegressor(build_model)"
   ]
  },
  {
   "cell_type": "code",
   "execution_count": 108,
   "metadata": {},
   "outputs": [
    {
     "name": "stdout",
     "output_type": "stream",
     "text": [
      "Epoch 1/100\n",
      "363/363 [==============================] - 0s 1ms/step - loss: 1.2482 - val_loss: 0.7781\n",
      "Epoch 2/100\n",
      "363/363 [==============================] - 0s 771us/step - loss: 0.6628 - val_loss: 0.6699\n",
      "Epoch 3/100\n",
      "363/363 [==============================] - 0s 828us/step - loss: 0.5755 - val_loss: 0.6075\n",
      "Epoch 4/100\n",
      "363/363 [==============================] - 0s 847us/step - loss: 0.5315 - val_loss: 0.5719\n",
      "Epoch 5/100\n",
      "363/363 [==============================] - 0s 847us/step - loss: 0.5053 - val_loss: 0.5433\n",
      "Epoch 6/100\n",
      "363/363 [==============================] - 0s 836us/step - loss: 0.4882 - val_loss: 0.5250\n",
      "Epoch 7/100\n",
      "363/363 [==============================] - 0s 828us/step - loss: 0.4793 - val_loss: 0.5118\n",
      "Epoch 8/100\n",
      "363/363 [==============================] - 0s 832us/step - loss: 0.4694 - val_loss: 0.5013\n",
      "Epoch 9/100\n",
      "363/363 [==============================] - 0s 856us/step - loss: 0.4654 - val_loss: 0.4956\n",
      "Epoch 10/100\n",
      "363/363 [==============================] - 0s 833us/step - loss: 0.4583 - val_loss: 0.4926\n",
      "Epoch 11/100\n",
      "363/363 [==============================] - 0s 826us/step - loss: 0.4544 - val_loss: 0.4882\n",
      "Epoch 12/100\n",
      "363/363 [==============================] - 0s 817us/step - loss: 0.4511 - val_loss: 0.4893\n",
      "Epoch 13/100\n",
      "363/363 [==============================] - 0s 830us/step - loss: 0.4481 - val_loss: 0.4798\n",
      "Epoch 14/100\n",
      "363/363 [==============================] - 0s 806us/step - loss: 0.4429 - val_loss: 0.4780\n",
      "Epoch 15/100\n",
      "363/363 [==============================] - 0s 865us/step - loss: 0.4402 - val_loss: 0.4715\n",
      "Epoch 16/100\n",
      "363/363 [==============================] - 0s 1ms/step - loss: 0.4371 - val_loss: 0.4706\n",
      "Epoch 17/100\n",
      "363/363 [==============================] - 0s 815us/step - loss: 0.4346 - val_loss: 0.4708\n",
      "Epoch 18/100\n",
      "363/363 [==============================] - 0s 809us/step - loss: 0.4333 - val_loss: 0.4721\n",
      "Epoch 19/100\n",
      "363/363 [==============================] - 0s 820us/step - loss: 0.4304 - val_loss: 0.4651\n",
      "Epoch 20/100\n",
      "363/363 [==============================] - 0s 901us/step - loss: 0.4281 - val_loss: 0.4615\n",
      "Epoch 21/100\n",
      "363/363 [==============================] - 0s 842us/step - loss: 0.4263 - val_loss: 0.4608\n",
      "Epoch 22/100\n",
      "363/363 [==============================] - 0s 853us/step - loss: 0.4242 - val_loss: 0.4587\n",
      "Epoch 23/100\n",
      "363/363 [==============================] - 0s 922us/step - loss: 0.4227 - val_loss: 0.4554\n",
      "Epoch 24/100\n",
      "363/363 [==============================] - 0s 1ms/step - loss: 0.4202 - val_loss: 0.4529\n",
      "Epoch 25/100\n",
      "363/363 [==============================] - 0s 1ms/step - loss: 0.4181 - val_loss: 0.4549\n",
      "Epoch 26/100\n",
      "363/363 [==============================] - 0s 842us/step - loss: 0.4166 - val_loss: 0.4495\n",
      "Epoch 27/100\n",
      "363/363 [==============================] - 0s 845us/step - loss: 0.4152 - val_loss: 0.4491\n",
      "Epoch 28/100\n",
      "363/363 [==============================] - 0s 822us/step - loss: 0.4137 - val_loss: 0.4458\n",
      "Epoch 29/100\n",
      "363/363 [==============================] - 0s 918us/step - loss: 0.4119 - val_loss: 0.4466\n",
      "Epoch 30/100\n",
      "363/363 [==============================] - 0s 1ms/step - loss: 0.4104 - val_loss: 0.4450\n",
      "Epoch 31/100\n",
      "363/363 [==============================] - 0s 1ms/step - loss: 0.4075 - val_loss: 0.4439\n",
      "Epoch 32/100\n",
      "363/363 [==============================] - 0s 882us/step - loss: 0.4073 - val_loss: 0.4420\n",
      "Epoch 33/100\n",
      "363/363 [==============================] - 0s 855us/step - loss: 0.4052 - val_loss: 0.4406\n",
      "Epoch 34/100\n",
      "363/363 [==============================] - 0s 820us/step - loss: 0.4044 - val_loss: 0.4382\n",
      "Epoch 35/100\n",
      "363/363 [==============================] - 0s 920us/step - loss: 0.4017 - val_loss: 0.4361\n",
      "Epoch 36/100\n",
      "363/363 [==============================] - 0s 1ms/step - loss: 0.3997 - val_loss: 0.4411\n",
      "Epoch 37/100\n",
      "363/363 [==============================] - 0s 1ms/step - loss: 0.3991 - val_loss: 0.4333\n",
      "Epoch 38/100\n",
      "363/363 [==============================] - 0s 872us/step - loss: 0.3979 - val_loss: 0.4335\n",
      "Epoch 39/100\n",
      "363/363 [==============================] - 0s 852us/step - loss: 0.3960 - val_loss: 0.4321\n",
      "Epoch 40/100\n",
      "363/363 [==============================] - 0s 805us/step - loss: 0.3943 - val_loss: 0.4299\n",
      "Epoch 41/100\n",
      "363/363 [==============================] - 0s 926us/step - loss: 0.3939 - val_loss: 0.4274\n",
      "Epoch 42/100\n",
      "363/363 [==============================] - 0s 829us/step - loss: 0.3920 - val_loss: 0.4269\n",
      "Epoch 43/100\n",
      "363/363 [==============================] - 0s 795us/step - loss: 0.3910 - val_loss: 0.4260\n",
      "Epoch 44/100\n",
      "363/363 [==============================] - 0s 972us/step - loss: 0.3901 - val_loss: 0.4304\n",
      "Epoch 45/100\n",
      "363/363 [==============================] - 0s 1ms/step - loss: 0.3880 - val_loss: 0.4241\n",
      "Epoch 46/100\n",
      "363/363 [==============================] - 0s 830us/step - loss: 0.3861 - val_loss: 0.4260\n",
      "Epoch 47/100\n",
      "363/363 [==============================] - 0s 834us/step - loss: 0.3854 - val_loss: 0.4218\n",
      "Epoch 48/100\n",
      "363/363 [==============================] - 0s 830us/step - loss: 0.3850 - val_loss: 0.4251\n",
      "Epoch 49/100\n",
      "363/363 [==============================] - 0s 828us/step - loss: 0.3845 - val_loss: 0.4200\n",
      "Epoch 50/100\n",
      "363/363 [==============================] - 0s 816us/step - loss: 0.3837 - val_loss: 0.4214\n",
      "Epoch 51/100\n",
      "363/363 [==============================] - 0s 837us/step - loss: 0.3826 - val_loss: 0.4175\n",
      "Epoch 52/100\n",
      "363/363 [==============================] - 0s 997us/step - loss: 0.3793 - val_loss: 0.4176\n",
      "Epoch 53/100\n",
      "363/363 [==============================] - 0s 849us/step - loss: 0.3773 - val_loss: 0.4180\n",
      "Epoch 54/100\n",
      "363/363 [==============================] - 0s 804us/step - loss: 0.3775 - val_loss: 0.4116\n",
      "Epoch 55/100\n",
      "363/363 [==============================] - 0s 797us/step - loss: 0.3756 - val_loss: 0.4132\n",
      "Epoch 56/100\n",
      "363/363 [==============================] - 0s 818us/step - loss: 0.3768 - val_loss: 0.4100\n",
      "Epoch 57/100\n",
      "363/363 [==============================] - 0s 1ms/step - loss: 0.3746 - val_loss: 0.4129\n",
      "Epoch 58/100\n",
      "363/363 [==============================] - 0s 806us/step - loss: 0.3733 - val_loss: 0.4125\n",
      "Epoch 59/100\n",
      "363/363 [==============================] - 0s 804us/step - loss: 0.3720 - val_loss: 0.4089\n",
      "Epoch 60/100\n",
      "363/363 [==============================] - 0s 829us/step - loss: 0.3718 - val_loss: 0.4091\n",
      "Epoch 61/100\n",
      "363/363 [==============================] - 0s 871us/step - loss: 0.3692 - val_loss: 0.4077\n",
      "Epoch 62/100\n",
      "363/363 [==============================] - 0s 1ms/step - loss: 0.3688 - val_loss: 0.4080\n",
      "Epoch 63/100\n",
      "363/363 [==============================] - 0s 1ms/step - loss: 0.3684 - val_loss: 0.4071\n",
      "Epoch 64/100\n",
      "363/363 [==============================] - 0s 840us/step - loss: 0.3711 - val_loss: 0.4093\n",
      "Epoch 65/100\n",
      "363/363 [==============================] - 0s 1ms/step - loss: 0.3686 - val_loss: 0.4028\n",
      "Epoch 66/100\n",
      "363/363 [==============================] - 0s 1ms/step - loss: 0.3666 - val_loss: 0.4024\n",
      "Epoch 67/100\n",
      "363/363 [==============================] - 0s 834us/step - loss: 0.3643 - val_loss: 0.4055\n",
      "Epoch 68/100\n",
      "363/363 [==============================] - 0s 782us/step - loss: 0.3656 - val_loss: 0.4053\n",
      "Epoch 69/100\n",
      "363/363 [==============================] - 0s 959us/step - loss: 0.3647 - val_loss: 0.4043\n",
      "Epoch 70/100\n",
      "363/363 [==============================] - 0s 900us/step - loss: 0.3632 - val_loss: 0.3993\n",
      "Epoch 71/100\n",
      "363/363 [==============================] - 0s 1ms/step - loss: 0.3596 - val_loss: 0.4033\n",
      "Epoch 72/100\n",
      "363/363 [==============================] - 0s 1ms/step - loss: 0.3610 - val_loss: 0.3981\n",
      "Epoch 73/100\n",
      "363/363 [==============================] - 0s 1ms/step - loss: 0.3574 - val_loss: 0.3990\n",
      "Epoch 74/100\n",
      "363/363 [==============================] - 0s 1ms/step - loss: 0.3573 - val_loss: 0.3969\n",
      "Epoch 75/100\n",
      "363/363 [==============================] - 0s 1ms/step - loss: 0.3618 - val_loss: 0.3968\n",
      "Epoch 76/100\n",
      "363/363 [==============================] - 0s 1ms/step - loss: 0.3616 - val_loss: 0.3965\n",
      "Epoch 77/100\n",
      "363/363 [==============================] - 0s 1ms/step - loss: 0.3572 - val_loss: 0.3950\n",
      "Epoch 78/100\n",
      "363/363 [==============================] - 0s 1ms/step - loss: 0.3540 - val_loss: 0.3993\n",
      "Epoch 79/100\n",
      "363/363 [==============================] - 0s 949us/step - loss: 0.3542 - val_loss: 0.3959\n",
      "Epoch 80/100\n",
      "363/363 [==============================] - 0s 1ms/step - loss: 0.3521 - val_loss: 0.3922\n",
      "Epoch 81/100\n",
      "363/363 [==============================] - 0s 1ms/step - loss: 0.3531 - val_loss: 0.3922\n",
      "Epoch 82/100\n",
      "363/363 [==============================] - 0s 1ms/step - loss: 0.3555 - val_loss: 0.3918\n",
      "Epoch 83/100\n",
      "363/363 [==============================] - 0s 1ms/step - loss: 0.3627 - val_loss: 0.3910\n",
      "Epoch 84/100\n",
      "363/363 [==============================] - 0s 1ms/step - loss: 0.3496 - val_loss: 0.3944\n",
      "Epoch 85/100\n",
      "363/363 [==============================] - 0s 740us/step - loss: 0.3505 - val_loss: 0.3947\n",
      "Epoch 86/100\n",
      "363/363 [==============================] - 0s 822us/step - loss: 0.3715 - val_loss: 0.3868\n",
      "Epoch 87/100\n",
      "363/363 [==============================] - 0s 785us/step - loss: 0.3510 - val_loss: 0.3887\n",
      "Epoch 88/100\n",
      "363/363 [==============================] - 0s 828us/step - loss: 0.3520 - val_loss: 0.3864\n",
      "Epoch 89/100\n",
      "363/363 [==============================] - 0s 824us/step - loss: 0.3530 - val_loss: 0.4301\n",
      "Epoch 90/100\n",
      "363/363 [==============================] - 0s 796us/step - loss: 0.3589 - val_loss: 0.3881\n",
      "Epoch 91/100\n",
      "363/363 [==============================] - 0s 833us/step - loss: 0.3507 - val_loss: 0.3866\n",
      "Epoch 92/100\n",
      "363/363 [==============================] - 0s 842us/step - loss: 0.3454 - val_loss: 0.3804\n",
      "Epoch 93/100\n",
      "363/363 [==============================] - 0s 834us/step - loss: 0.3460 - val_loss: 0.3819\n",
      "Epoch 94/100\n",
      "363/363 [==============================] - 0s 838us/step - loss: 0.3435 - val_loss: 0.3865\n",
      "Epoch 95/100\n",
      "363/363 [==============================] - 0s 805us/step - loss: 0.3441 - val_loss: 0.4050\n",
      "Epoch 96/100\n",
      "363/363 [==============================] - 0s 778us/step - loss: 0.3444 - val_loss: 0.3799\n",
      "Epoch 97/100\n",
      "363/363 [==============================] - 0s 788us/step - loss: 0.3746 - val_loss: 0.3791\n",
      "Epoch 98/100\n",
      "363/363 [==============================] - 0s 804us/step - loss: 0.3449 - val_loss: 0.3802\n",
      "Epoch 99/100\n",
      "363/363 [==============================] - 0s 790us/step - loss: 0.3449 - val_loss: 0.5330\n",
      "Epoch 100/100\n",
      "363/363 [==============================] - 0s 775us/step - loss: 0.5209 - val_loss: 0.3805\n",
      "162/162 [==============================] - 0s 556us/step - loss: 0.3773\n"
     ]
    }
   ],
   "source": [
    "keras_reg.fit(X_train, y_train, epochs=100, validation_data=(X_valid, y_valid),\n",
    "              callbacks=[keras.callbacks.EarlyStopping(patience=10)])\n",
    "mse_test = keras_reg.score(X_test, y_test)\n",
    "y_pred = keras_reg.predict(X_new)"
   ]
  },
  {
   "cell_type": "code",
   "execution_count": 109,
   "metadata": {},
   "outputs": [
    {
     "name": "stdout",
     "output_type": "stream",
     "text": [
      "Epoch 1/100\n",
      "242/242 [==============================] - 0s 1ms/step - loss: 1.1664 - val_loss: 0.7412\n",
      "Epoch 2/100\n",
      "242/242 [==============================] - 0s 914us/step - loss: 0.6242 - val_loss: 0.6439\n",
      "Epoch 3/100\n",
      "242/242 [==============================] - 0s 900us/step - loss: 0.5590 - val_loss: 0.5800\n",
      "Epoch 4/100\n",
      "242/242 [==============================] - 0s 955us/step - loss: 0.5132 - val_loss: 0.5406\n",
      "Epoch 5/100\n",
      "242/242 [==============================] - 0s 936us/step - loss: 0.4897 - val_loss: 0.5205\n",
      "Epoch 6/100\n",
      "242/242 [==============================] - 0s 930us/step - loss: 0.4745 - val_loss: 0.5064\n",
      "Epoch 7/100\n",
      "242/242 [==============================] - 0s 886us/step - loss: 0.4652 - val_loss: 0.4948\n",
      "Epoch 8/100\n",
      "242/242 [==============================] - 0s 903us/step - loss: 0.4599 - val_loss: 0.4886\n",
      "Epoch 9/100\n",
      "242/242 [==============================] - 0s 903us/step - loss: 0.4533 - val_loss: 0.4867\n",
      "Epoch 10/100\n",
      "242/242 [==============================] - 0s 910us/step - loss: 0.4522 - val_loss: 0.4785\n",
      "Epoch 11/100\n",
      "242/242 [==============================] - 0s 882us/step - loss: 0.4452 - val_loss: 0.4754\n",
      "Epoch 12/100\n",
      "242/242 [==============================] - 0s 895us/step - loss: 0.4414 - val_loss: 0.4696\n",
      "Epoch 13/100\n",
      "242/242 [==============================] - 0s 924us/step - loss: 0.4380 - val_loss: 0.4663\n",
      "Epoch 14/100\n",
      "242/242 [==============================] - 0s 895us/step - loss: 0.4345 - val_loss: 0.4625\n",
      "Epoch 15/100\n",
      "242/242 [==============================] - 0s 932us/step - loss: 0.4322 - val_loss: 0.4625\n",
      "Epoch 16/100\n",
      "242/242 [==============================] - 0s 925us/step - loss: 0.4298 - val_loss: 0.4580\n",
      "Epoch 17/100\n",
      "242/242 [==============================] - 0s 936us/step - loss: 0.4271 - val_loss: 0.4583\n",
      "Epoch 18/100\n",
      "242/242 [==============================] - 0s 1ms/step - loss: 0.4258 - val_loss: 0.4528\n",
      "Epoch 19/100\n",
      "242/242 [==============================] - 0s 917us/step - loss: 0.4186 - val_loss: 0.4528\n",
      "Epoch 20/100\n",
      "242/242 [==============================] - 0s 901us/step - loss: 0.4167 - val_loss: 0.4453\n",
      "Epoch 21/100\n",
      "242/242 [==============================] - 0s 898us/step - loss: 0.4154 - val_loss: 0.4426\n",
      "Epoch 22/100\n",
      "242/242 [==============================] - 0s 927us/step - loss: 0.4127 - val_loss: 0.4404\n",
      "Epoch 23/100\n",
      "242/242 [==============================] - 0s 940us/step - loss: 0.4089 - val_loss: 0.4370\n",
      "Epoch 24/100\n",
      "242/242 [==============================] - 0s 1ms/step - loss: 0.4056 - val_loss: 0.4426\n",
      "Epoch 25/100\n",
      "242/242 [==============================] - 0s 1ms/step - loss: 0.4041 - val_loss: 0.4326\n",
      "Epoch 26/100\n",
      "242/242 [==============================] - 0s 975us/step - loss: 0.4090 - val_loss: 0.4326\n",
      "Epoch 27/100\n",
      "242/242 [==============================] - 0s 1ms/step - loss: 0.4019 - val_loss: 0.4355\n",
      "Epoch 28/100\n",
      "242/242 [==============================] - 0s 1ms/step - loss: 0.3973 - val_loss: 0.4294\n",
      "Epoch 29/100\n",
      "242/242 [==============================] - 0s 932us/step - loss: 0.4010 - val_loss: 0.4263\n",
      "Epoch 30/100\n",
      "242/242 [==============================] - 0s 921us/step - loss: 0.3938 - val_loss: 0.4281\n",
      "Epoch 31/100\n",
      "242/242 [==============================] - 0s 888us/step - loss: 0.3978 - val_loss: 0.4231\n",
      "Epoch 32/100\n",
      "242/242 [==============================] - 0s 898us/step - loss: 0.3900 - val_loss: 0.4238\n",
      "Epoch 33/100\n",
      "242/242 [==============================] - 0s 904us/step - loss: 0.3902 - val_loss: 0.4172\n",
      "Epoch 34/100\n",
      "242/242 [==============================] - 0s 891us/step - loss: 0.3880 - val_loss: 0.4189\n",
      "Epoch 35/100\n",
      "242/242 [==============================] - 0s 893us/step - loss: 0.3852 - val_loss: 0.4193\n",
      "Epoch 36/100\n",
      "242/242 [==============================] - 0s 902us/step - loss: 0.3834 - val_loss: 0.4146\n",
      "Epoch 37/100\n",
      "242/242 [==============================] - 0s 886us/step - loss: 0.3850 - val_loss: 0.4126\n",
      "Epoch 38/100\n",
      "242/242 [==============================] - 0s 882us/step - loss: 0.3828 - val_loss: 0.4123\n",
      "Epoch 39/100\n",
      "242/242 [==============================] - 0s 946us/step - loss: 0.3794 - val_loss: 0.4087\n",
      "Epoch 40/100\n",
      "242/242 [==============================] - 0s 949us/step - loss: 0.3843 - val_loss: 0.4117\n",
      "Epoch 41/100\n",
      "242/242 [==============================] - 0s 1ms/step - loss: 0.3788 - val_loss: 0.4072\n",
      "Epoch 42/100\n",
      "242/242 [==============================] - 0s 974us/step - loss: 0.3810 - val_loss: 0.4029\n",
      "Epoch 43/100\n",
      "242/242 [==============================] - 0s 975us/step - loss: 0.3795 - val_loss: 0.4123\n",
      "Epoch 44/100\n",
      "242/242 [==============================] - 0s 998us/step - loss: 0.3881 - val_loss: 0.4087\n",
      "Epoch 45/100\n",
      "242/242 [==============================] - 0s 898us/step - loss: 0.3753 - val_loss: 0.4051\n",
      "Epoch 46/100\n",
      "242/242 [==============================] - 0s 911us/step - loss: 0.3729 - val_loss: 0.4024\n",
      "Epoch 47/100\n",
      "242/242 [==============================] - 0s 933us/step - loss: 0.3711 - val_loss: 0.3970\n",
      "Epoch 48/100\n",
      "242/242 [==============================] - 0s 897us/step - loss: 0.3699 - val_loss: 0.3997\n",
      "Epoch 49/100\n",
      "242/242 [==============================] - 0s 905us/step - loss: 0.3670 - val_loss: 0.3967\n",
      "Epoch 50/100\n",
      "242/242 [==============================] - 0s 931us/step - loss: 0.3685 - val_loss: 0.3967\n",
      "Epoch 51/100\n",
      "242/242 [==============================] - 0s 892us/step - loss: 0.3658 - val_loss: 0.3969\n",
      "Epoch 52/100\n",
      "242/242 [==============================] - 0s 928us/step - loss: 0.3661 - val_loss: 0.3991\n",
      "Epoch 53/100\n",
      "242/242 [==============================] - 0s 1ms/step - loss: 0.3645 - val_loss: 0.3971\n",
      "Epoch 54/100\n",
      "242/242 [==============================] - 0s 881us/step - loss: 0.3680 - val_loss: 0.3952\n",
      "Epoch 55/100\n",
      "242/242 [==============================] - 0s 896us/step - loss: 0.3647 - val_loss: 0.3953\n",
      "Epoch 56/100\n",
      "242/242 [==============================] - 0s 899us/step - loss: 0.3660 - val_loss: 0.3901\n",
      "Epoch 57/100\n",
      "242/242 [==============================] - 0s 925us/step - loss: 0.3593 - val_loss: 0.3960\n",
      "Epoch 58/100\n",
      "242/242 [==============================] - 0s 896us/step - loss: 0.3596 - val_loss: 0.3878\n",
      "Epoch 59/100\n",
      "242/242 [==============================] - 0s 978us/step - loss: 0.3586 - val_loss: 0.3878\n",
      "Epoch 60/100\n",
      "242/242 [==============================] - 0s 957us/step - loss: 0.3581 - val_loss: 0.3862\n",
      "Epoch 61/100\n",
      "242/242 [==============================] - 0s 913us/step - loss: 0.3628 - val_loss: 0.3890\n",
      "Epoch 62/100\n",
      "242/242 [==============================] - 0s 884us/step - loss: 0.3550 - val_loss: 0.3872\n",
      "Epoch 63/100\n",
      "242/242 [==============================] - 0s 924us/step - loss: 0.3551 - val_loss: 0.3861\n",
      "Epoch 64/100\n",
      "242/242 [==============================] - 0s 945us/step - loss: 0.3579 - val_loss: 0.4901\n",
      "Epoch 65/100\n",
      "242/242 [==============================] - 0s 933us/step - loss: 0.3820 - val_loss: 0.3872\n",
      "Epoch 66/100\n",
      "242/242 [==============================] - 0s 873us/step - loss: 0.3624 - val_loss: 0.4012\n",
      "Epoch 67/100\n",
      "242/242 [==============================] - 0s 879us/step - loss: 0.3548 - val_loss: 0.3840\n",
      "Epoch 68/100\n",
      "242/242 [==============================] - 0s 897us/step - loss: 0.3877 - val_loss: 0.3853\n",
      "Epoch 69/100\n",
      "242/242 [==============================] - 0s 894us/step - loss: 0.3546 - val_loss: 0.4540\n",
      "Epoch 70/100\n",
      "242/242 [==============================] - 0s 916us/step - loss: 0.4230 - val_loss: 0.3803\n",
      "Epoch 71/100\n",
      "242/242 [==============================] - 0s 911us/step - loss: 0.3512 - val_loss: 0.4708\n",
      "Epoch 72/100\n",
      "242/242 [==============================] - 0s 871us/step - loss: 0.3572 - val_loss: 0.3817\n",
      "Epoch 73/100\n",
      "242/242 [==============================] - 0s 899us/step - loss: 0.3491 - val_loss: 0.3809\n",
      "Epoch 74/100\n",
      "242/242 [==============================] - 0s 928us/step - loss: 0.3531 - val_loss: 0.3814\n",
      "Epoch 75/100\n",
      "242/242 [==============================] - 0s 1ms/step - loss: 0.3489 - val_loss: 0.3780\n",
      "Epoch 76/100\n",
      "242/242 [==============================] - 0s 947us/step - loss: 0.3469 - val_loss: 0.3767\n",
      "Epoch 77/100\n",
      "242/242 [==============================] - 0s 967us/step - loss: 0.3505 - val_loss: 0.4875\n",
      "Epoch 78/100\n",
      "242/242 [==============================] - 0s 905us/step - loss: 0.3709 - val_loss: 0.3778\n",
      "Epoch 79/100\n",
      "242/242 [==============================] - 0s 885us/step - loss: 0.3449 - val_loss: 0.3785\n",
      "Epoch 80/100\n"
     ]
    },
    {
     "name": "stdout",
     "output_type": "stream",
     "text": [
      "242/242 [==============================] - 0s 908us/step - loss: 0.3453 - val_loss: 0.3760\n",
      "Epoch 81/100\n",
      "242/242 [==============================] - 0s 934us/step - loss: 0.3425 - val_loss: 0.3794\n",
      "Epoch 82/100\n",
      "242/242 [==============================] - 0s 895us/step - loss: 0.3448 - val_loss: 0.4063\n",
      "Epoch 83/100\n",
      "242/242 [==============================] - 0s 929us/step - loss: 0.3419 - val_loss: 0.3720\n",
      "Epoch 84/100\n",
      "242/242 [==============================] - 0s 875us/step - loss: 0.3396 - val_loss: 0.3716\n",
      "Epoch 85/100\n",
      "242/242 [==============================] - 0s 879us/step - loss: 0.3392 - val_loss: 0.3715\n",
      "Epoch 86/100\n",
      "242/242 [==============================] - 0s 908us/step - loss: 0.4005 - val_loss: 0.3755\n",
      "Epoch 87/100\n",
      "242/242 [==============================] - 0s 944us/step - loss: 0.3462 - val_loss: 0.3700\n",
      "Epoch 88/100\n",
      "242/242 [==============================] - 0s 918us/step - loss: 0.3393 - val_loss: 0.3730\n",
      "Epoch 89/100\n",
      "242/242 [==============================] - 0s 903us/step - loss: 0.3393 - val_loss: 0.3692\n",
      "Epoch 90/100\n",
      "242/242 [==============================] - 0s 899us/step - loss: 0.3387 - val_loss: 0.3718\n",
      "Epoch 91/100\n",
      "242/242 [==============================] - 0s 925us/step - loss: 0.3407 - val_loss: 0.3671\n",
      "Epoch 92/100\n",
      "242/242 [==============================] - 0s 961us/step - loss: 0.3353 - val_loss: 0.3674\n",
      "Epoch 93/100\n",
      "242/242 [==============================] - 0s 887us/step - loss: 0.3462 - val_loss: 0.3856\n",
      "Epoch 94/100\n",
      "242/242 [==============================] - 0s 892us/step - loss: 0.3367 - val_loss: 0.3830\n",
      "Epoch 95/100\n",
      "242/242 [==============================] - 0s 883us/step - loss: 0.3450 - val_loss: 0.3693\n",
      "Epoch 96/100\n",
      "242/242 [==============================] - 0s 923us/step - loss: 0.3330 - val_loss: 0.3666\n",
      "Epoch 97/100\n",
      "242/242 [==============================] - 0s 903us/step - loss: 0.3350 - val_loss: 0.3642\n",
      "Epoch 98/100\n",
      "242/242 [==============================] - 0s 909us/step - loss: 0.3411 - val_loss: 0.3676\n",
      "Epoch 99/100\n",
      "242/242 [==============================] - 0s 902us/step - loss: 0.3320 - val_loss: 0.3651\n",
      "Epoch 100/100\n",
      "242/242 [==============================] - 0s 900us/step - loss: 0.3359 - val_loss: 0.3655\n",
      "121/121 [==============================] - 0s 564us/step - loss: 0.3316\n",
      "Epoch 1/100\n",
      "242/242 [==============================] - 0s 1ms/step - loss: 1.2047 - val_loss: 0.7418\n",
      "Epoch 2/100\n",
      "242/242 [==============================] - 0s 897us/step - loss: 0.8912 - val_loss: 0.6524\n",
      "Epoch 3/100\n",
      "242/242 [==============================] - 0s 955us/step - loss: 0.6312 - val_loss: 0.6029\n",
      "Epoch 4/100\n",
      "242/242 [==============================] - 0s 886us/step - loss: 0.5843 - val_loss: 0.5770\n",
      "Epoch 5/100\n",
      "242/242 [==============================] - 0s 882us/step - loss: 0.5272 - val_loss: 0.5488\n",
      "Epoch 6/100\n",
      "242/242 [==============================] - 0s 882us/step - loss: 0.5095 - val_loss: 0.5303\n",
      "Epoch 7/100\n",
      "242/242 [==============================] - 0s 904us/step - loss: 0.4925 - val_loss: 0.5165\n",
      "Epoch 8/100\n",
      "242/242 [==============================] - 0s 929us/step - loss: 0.4956 - val_loss: 0.5070\n",
      "Epoch 9/100\n",
      "242/242 [==============================] - 0s 899us/step - loss: 0.4800 - val_loss: 0.4986\n",
      "Epoch 10/100\n",
      "242/242 [==============================] - 0s 887us/step - loss: 0.4698 - val_loss: 0.4923\n",
      "Epoch 11/100\n",
      "242/242 [==============================] - 0s 954us/step - loss: 0.4685 - val_loss: 0.4892\n",
      "Epoch 12/100\n",
      "242/242 [==============================] - 0s 928us/step - loss: 0.4626 - val_loss: 0.4820\n",
      "Epoch 13/100\n",
      "242/242 [==============================] - 0s 932us/step - loss: 0.4691 - val_loss: 0.4809\n",
      "Epoch 14/100\n",
      "242/242 [==============================] - 0s 921us/step - loss: 0.4514 - val_loss: 0.4753\n",
      "Epoch 15/100\n",
      "242/242 [==============================] - 0s 888us/step - loss: 0.4517 - val_loss: 0.4741\n",
      "Epoch 16/100\n",
      "242/242 [==============================] - 0s 892us/step - loss: 0.4453 - val_loss: 0.5104\n",
      "Epoch 17/100\n",
      "242/242 [==============================] - 0s 914us/step - loss: 0.4465 - val_loss: 0.4708\n",
      "Epoch 18/100\n",
      "242/242 [==============================] - 0s 908us/step - loss: 0.4422 - val_loss: 0.4678\n",
      "Epoch 19/100\n",
      "242/242 [==============================] - 0s 971us/step - loss: 0.4347 - val_loss: 0.4644\n",
      "Epoch 20/100\n",
      "242/242 [==============================] - 0s 895us/step - loss: 0.4341 - val_loss: 0.4601\n",
      "Epoch 21/100\n",
      "242/242 [==============================] - 0s 875us/step - loss: 0.4316 - val_loss: 0.4589\n",
      "Epoch 22/100\n",
      "242/242 [==============================] - 0s 924us/step - loss: 0.4290 - val_loss: 0.4617\n",
      "Epoch 23/100\n",
      "242/242 [==============================] - 0s 943us/step - loss: 0.4273 - val_loss: 0.4518\n",
      "Epoch 24/100\n",
      "242/242 [==============================] - 0s 925us/step - loss: 0.4247 - val_loss: 0.4504\n",
      "Epoch 25/100\n",
      "242/242 [==============================] - 0s 889us/step - loss: 0.4257 - val_loss: 0.4533\n",
      "Epoch 26/100\n",
      "242/242 [==============================] - 0s 897us/step - loss: 0.4204 - val_loss: 0.4440\n",
      "Epoch 27/100\n",
      "242/242 [==============================] - 0s 901us/step - loss: 0.4180 - val_loss: 0.4496\n",
      "Epoch 28/100\n",
      "242/242 [==============================] - 0s 902us/step - loss: 0.4151 - val_loss: 0.4400\n",
      "Epoch 29/100\n",
      "242/242 [==============================] - 0s 904us/step - loss: 0.4200 - val_loss: 0.4390\n",
      "Epoch 30/100\n",
      "242/242 [==============================] - 0s 905us/step - loss: 0.4134 - val_loss: 0.4377\n",
      "Epoch 31/100\n",
      "242/242 [==============================] - 0s 954us/step - loss: 0.4102 - val_loss: 0.4328\n",
      "Epoch 32/100\n",
      "242/242 [==============================] - 0s 891us/step - loss: 0.4094 - val_loss: 0.4344\n",
      "Epoch 33/100\n",
      "242/242 [==============================] - 0s 900us/step - loss: 0.4051 - val_loss: 0.4359\n",
      "Epoch 34/100\n",
      "242/242 [==============================] - 0s 900us/step - loss: 0.4033 - val_loss: 0.4281\n",
      "Epoch 35/100\n",
      "242/242 [==============================] - 0s 900us/step - loss: 0.4114 - val_loss: 0.4337\n",
      "Epoch 36/100\n",
      "242/242 [==============================] - 0s 929us/step - loss: 0.3998 - val_loss: 0.4261\n",
      "Epoch 37/100\n",
      "242/242 [==============================] - 0s 942us/step - loss: 0.3983 - val_loss: 0.4278\n",
      "Epoch 38/100\n",
      "242/242 [==============================] - 0s 949us/step - loss: 0.3973 - val_loss: 0.4236\n",
      "Epoch 39/100\n",
      "242/242 [==============================] - 0s 927us/step - loss: 0.3967 - val_loss: 0.4208\n",
      "Epoch 40/100\n",
      "242/242 [==============================] - 0s 942us/step - loss: 0.3928 - val_loss: 0.4220\n",
      "Epoch 41/100\n",
      "242/242 [==============================] - 0s 1ms/step - loss: 0.3956 - val_loss: 0.4238\n",
      "Epoch 42/100\n",
      "242/242 [==============================] - 0s 916us/step - loss: 0.3957 - val_loss: 0.4184\n",
      "Epoch 43/100\n",
      "242/242 [==============================] - 0s 897us/step - loss: 0.3912 - val_loss: 0.4206\n",
      "Epoch 44/100\n",
      "242/242 [==============================] - 0s 894us/step - loss: 0.3872 - val_loss: 0.4178\n",
      "Epoch 45/100\n",
      "242/242 [==============================] - 0s 874us/step - loss: 0.3899 - val_loss: 0.4146\n",
      "Epoch 46/100\n",
      "242/242 [==============================] - 0s 878us/step - loss: 0.3848 - val_loss: 0.4331\n",
      "Epoch 47/100\n",
      "242/242 [==============================] - 0s 873us/step - loss: 0.4165 - val_loss: 0.4094\n",
      "Epoch 48/100\n",
      "242/242 [==============================] - 0s 873us/step - loss: 0.3819 - val_loss: 0.4128\n",
      "Epoch 49/100\n",
      "242/242 [==============================] - 0s 879us/step - loss: 0.3853 - val_loss: 0.4079\n",
      "Epoch 50/100\n",
      "242/242 [==============================] - 0s 858us/step - loss: 0.3939 - val_loss: 0.4047\n",
      "Epoch 51/100\n",
      "242/242 [==============================] - 0s 867us/step - loss: 0.3924 - val_loss: 0.4090\n",
      "Epoch 52/100\n",
      "242/242 [==============================] - 0s 877us/step - loss: 0.3782 - val_loss: 0.4072\n",
      "Epoch 53/100\n",
      "242/242 [==============================] - 0s 866us/step - loss: 0.3837 - val_loss: 0.4062\n",
      "Epoch 54/100\n",
      "242/242 [==============================] - 0s 870us/step - loss: 0.3795 - val_loss: 0.4028\n",
      "Epoch 55/100\n",
      "242/242 [==============================] - 0s 863us/step - loss: 0.3736 - val_loss: 0.3990\n",
      "Epoch 56/100\n",
      "242/242 [==============================] - 0s 860us/step - loss: 0.3859 - val_loss: 0.4030\n",
      "Epoch 57/100\n",
      "242/242 [==============================] - 0s 876us/step - loss: 0.3719 - val_loss: 0.4285\n",
      "Epoch 58/100\n",
      "242/242 [==============================] - 0s 922us/step - loss: 0.3746 - val_loss: 0.3984\n",
      "Epoch 59/100\n",
      "242/242 [==============================] - 0s 871us/step - loss: 0.3784 - val_loss: 0.4009\n",
      "Epoch 60/100\n",
      "242/242 [==============================] - 0s 847us/step - loss: 0.3942 - val_loss: 0.3967\n",
      "Epoch 61/100\n",
      "242/242 [==============================] - 0s 864us/step - loss: 0.3670 - val_loss: 0.4059\n",
      "Epoch 62/100\n",
      "242/242 [==============================] - 0s 869us/step - loss: 0.3806 - val_loss: 0.3962\n",
      "Epoch 63/100\n",
      "242/242 [==============================] - 0s 862us/step - loss: 0.3644 - val_loss: 0.3957\n",
      "Epoch 64/100\n",
      "242/242 [==============================] - 0s 865us/step - loss: 0.3653 - val_loss: 0.3949\n",
      "Epoch 65/100\n",
      "242/242 [==============================] - 0s 874us/step - loss: 0.3627 - val_loss: 0.3938\n",
      "Epoch 66/100\n",
      "242/242 [==============================] - 0s 1000us/step - loss: 0.3610 - val_loss: 0.3994\n",
      "Epoch 67/100\n",
      "242/242 [==============================] - 0s 1ms/step - loss: 0.3627 - val_loss: 0.3919\n",
      "Epoch 68/100\n",
      "242/242 [==============================] - 0s 1ms/step - loss: 0.3662 - val_loss: 0.4075\n",
      "Epoch 69/100\n",
      "242/242 [==============================] - 0s 1ms/step - loss: 0.3616 - val_loss: 0.3926\n",
      "Epoch 70/100\n",
      "242/242 [==============================] - 0s 1ms/step - loss: 0.3600 - val_loss: 0.4605\n",
      "Epoch 71/100\n",
      "242/242 [==============================] - 0s 1ms/step - loss: 0.3653 - val_loss: 0.3988\n",
      "Epoch 72/100\n",
      "242/242 [==============================] - 0s 1ms/step - loss: 0.3585 - val_loss: 0.3889\n",
      "Epoch 73/100\n",
      "242/242 [==============================] - 0s 1ms/step - loss: 0.3562 - val_loss: 0.3921\n",
      "Epoch 74/100\n",
      "242/242 [==============================] - 0s 1ms/step - loss: 0.3747 - val_loss: 0.3931\n",
      "Epoch 75/100\n",
      "242/242 [==============================] - 0s 1ms/step - loss: 0.3568 - val_loss: 0.3894\n",
      "Epoch 76/100\n",
      "242/242 [==============================] - 0s 1ms/step - loss: 0.3603 - val_loss: 0.3876\n",
      "Epoch 77/100\n",
      "242/242 [==============================] - 0s 1ms/step - loss: 0.3537 - val_loss: 0.3893\n",
      "Epoch 78/100\n",
      "242/242 [==============================] - 0s 1ms/step - loss: 0.3542 - val_loss: 0.3896\n",
      "Epoch 79/100\n",
      "242/242 [==============================] - 0s 1ms/step - loss: 0.3572 - val_loss: 0.4529\n",
      "Epoch 80/100\n",
      "242/242 [==============================] - 0s 973us/step - loss: 0.3580 - val_loss: 0.3878\n",
      "Epoch 81/100\n",
      "242/242 [==============================] - 0s 887us/step - loss: 0.3616 - val_loss: 0.3814\n",
      "Epoch 82/100\n",
      "242/242 [==============================] - 0s 875us/step - loss: 0.3589 - val_loss: 0.3876\n",
      "Epoch 83/100\n",
      "242/242 [==============================] - 0s 841us/step - loss: 0.3630 - val_loss: 0.3844\n",
      "Epoch 84/100\n",
      "242/242 [==============================] - 0s 858us/step - loss: 0.3524 - val_loss: 0.3846\n",
      "Epoch 85/100\n",
      "242/242 [==============================] - 0s 853us/step - loss: 0.3527 - val_loss: 0.3806\n",
      "Epoch 86/100\n",
      "242/242 [==============================] - 0s 862us/step - loss: 0.3759 - val_loss: 0.3777\n",
      "Epoch 87/100\n",
      "242/242 [==============================] - 0s 856us/step - loss: 0.3509 - val_loss: 0.4731\n",
      "Epoch 88/100\n",
      "242/242 [==============================] - 0s 880us/step - loss: 0.3692 - val_loss: 0.3761\n",
      "Epoch 89/100\n",
      "242/242 [==============================] - 0s 875us/step - loss: 0.3476 - val_loss: 0.3783\n",
      "Epoch 90/100\n",
      "242/242 [==============================] - 0s 879us/step - loss: 0.3613 - val_loss: 0.3805\n",
      "Epoch 91/100\n",
      "242/242 [==============================] - 0s 871us/step - loss: 0.3664 - val_loss: 0.3777\n",
      "Epoch 92/100\n",
      "242/242 [==============================] - 0s 859us/step - loss: 0.3476 - val_loss: 0.3784\n",
      "Epoch 93/100\n",
      "242/242 [==============================] - 0s 869us/step - loss: 0.3585 - val_loss: 0.3807\n",
      "Epoch 94/100\n",
      "242/242 [==============================] - 0s 863us/step - loss: 0.3448 - val_loss: 0.3823\n",
      "Epoch 95/100\n",
      "242/242 [==============================] - 0s 871us/step - loss: 0.3476 - val_loss: 0.3778\n",
      "Epoch 96/100\n",
      "242/242 [==============================] - 0s 868us/step - loss: 0.3518 - val_loss: 0.3750\n",
      "Epoch 97/100\n",
      "242/242 [==============================] - 0s 863us/step - loss: 0.3481 - val_loss: 0.3748\n",
      "Epoch 98/100\n",
      "242/242 [==============================] - 0s 868us/step - loss: 0.3514 - val_loss: 0.3816\n",
      "Epoch 99/100\n",
      "242/242 [==============================] - 0s 866us/step - loss: 0.3545 - val_loss: 0.3845\n",
      "Epoch 100/100\n",
      "242/242 [==============================] - 0s 859us/step - loss: 0.3456 - val_loss: 0.3759\n",
      "121/121 [==============================] - 0s 524us/step - loss: 0.3483\n",
      "Epoch 1/100\n",
      "242/242 [==============================] - 0s 1ms/step - loss: 1.2308 - val_loss: 0.8344\n",
      "Epoch 2/100\n",
      "242/242 [==============================] - 0s 879us/step - loss: 0.6836 - val_loss: 0.7042\n",
      "Epoch 3/100\n",
      "242/242 [==============================] - 0s 1ms/step - loss: 0.5765 - val_loss: 0.6319\n",
      "Epoch 4/100\n",
      "242/242 [==============================] - 0s 1ms/step - loss: 0.5298 - val_loss: 0.5864\n",
      "Epoch 5/100\n",
      "242/242 [==============================] - 0s 912us/step - loss: 0.4983 - val_loss: 0.5571\n",
      "Epoch 6/100\n",
      "242/242 [==============================] - 0s 878us/step - loss: 0.4838 - val_loss: 0.5493\n",
      "Epoch 7/100\n",
      "242/242 [==============================] - 0s 889us/step - loss: 0.4654 - val_loss: 0.5168\n",
      "Epoch 8/100\n",
      "242/242 [==============================] - 0s 892us/step - loss: 0.4567 - val_loss: 0.5158\n",
      "Epoch 9/100\n",
      "242/242 [==============================] - 0s 885us/step - loss: 0.4446 - val_loss: 0.4954\n",
      "Epoch 10/100\n",
      "242/242 [==============================] - 0s 885us/step - loss: 0.4359 - val_loss: 0.4902\n",
      "Epoch 11/100\n",
      "242/242 [==============================] - 0s 865us/step - loss: 0.4289 - val_loss: 0.4822\n",
      "Epoch 12/100\n",
      "242/242 [==============================] - 0s 876us/step - loss: 0.4237 - val_loss: 0.4755\n",
      "Epoch 13/100\n",
      "242/242 [==============================] - 0s 866us/step - loss: 0.4196 - val_loss: 0.4726\n",
      "Epoch 14/100\n",
      "242/242 [==============================] - 0s 874us/step - loss: 0.4149 - val_loss: 0.4733\n",
      "Epoch 15/100\n",
      "242/242 [==============================] - 0s 891us/step - loss: 0.4178 - val_loss: 0.4622\n",
      "Epoch 16/100\n",
      "242/242 [==============================] - 0s 862us/step - loss: 0.4224 - val_loss: 0.5028\n",
      "Epoch 17/100\n",
      "242/242 [==============================] - 0s 867us/step - loss: 0.4510 - val_loss: 0.4668\n",
      "Epoch 18/100\n",
      "242/242 [==============================] - 0s 861us/step - loss: 0.4623 - val_loss: 0.4636\n",
      "Epoch 19/100\n",
      "242/242 [==============================] - 0s 876us/step - loss: 0.4083 - val_loss: 0.4585\n",
      "Epoch 20/100\n",
      "242/242 [==============================] - 0s 863us/step - loss: 0.4036 - val_loss: 0.4514\n",
      "Epoch 21/100\n",
      "242/242 [==============================] - 0s 882us/step - loss: 0.4185 - val_loss: 0.4528\n",
      "Epoch 22/100\n",
      "242/242 [==============================] - 0s 892us/step - loss: 0.4006 - val_loss: 0.4485\n",
      "Epoch 23/100\n",
      "242/242 [==============================] - 0s 863us/step - loss: 0.4238 - val_loss: 0.4468\n",
      "Epoch 24/100\n",
      "242/242 [==============================] - 0s 869us/step - loss: 0.3959 - val_loss: 0.4447\n",
      "Epoch 25/100\n",
      "242/242 [==============================] - 0s 864us/step - loss: 0.3922 - val_loss: 0.4405\n",
      "Epoch 26/100\n",
      "242/242 [==============================] - 0s 879us/step - loss: 0.3901 - val_loss: 0.4395\n",
      "Epoch 27/100\n",
      "242/242 [==============================] - 0s 876us/step - loss: 0.3877 - val_loss: 0.4440\n",
      "Epoch 28/100\n",
      "242/242 [==============================] - 0s 848us/step - loss: 0.3861 - val_loss: 0.4360\n",
      "Epoch 29/100\n",
      "242/242 [==============================] - 0s 868us/step - loss: 0.3875 - val_loss: 0.4387\n",
      "Epoch 30/100\n",
      "242/242 [==============================] - 0s 874us/step - loss: 0.3846 - val_loss: 0.4336\n",
      "Epoch 31/100\n",
      "242/242 [==============================] - 0s 860us/step - loss: 0.3945 - val_loss: 0.4384\n",
      "Epoch 32/100\n",
      "242/242 [==============================] - 0s 867us/step - loss: 0.3813 - val_loss: 0.4310\n",
      "Epoch 33/100\n",
      "242/242 [==============================] - 0s 853us/step - loss: 0.3792 - val_loss: 0.4326\n",
      "Epoch 34/100\n",
      "242/242 [==============================] - 0s 863us/step - loss: 0.3914 - val_loss: 0.4305\n",
      "Epoch 35/100\n",
      "242/242 [==============================] - 0s 875us/step - loss: 0.3790 - val_loss: 0.4266\n",
      "Epoch 36/100\n"
     ]
    },
    {
     "name": "stdout",
     "output_type": "stream",
     "text": [
      "242/242 [==============================] - 0s 870us/step - loss: 0.3748 - val_loss: 0.4281\n",
      "Epoch 37/100\n",
      "242/242 [==============================] - 0s 861us/step - loss: 0.3754 - val_loss: 0.4243\n",
      "Epoch 38/100\n",
      "242/242 [==============================] - 0s 870us/step - loss: 0.3809 - val_loss: 0.5683\n",
      "Epoch 39/100\n",
      "242/242 [==============================] - 0s 854us/step - loss: 0.3930 - val_loss: 0.4216\n",
      "Epoch 40/100\n",
      "242/242 [==============================] - 0s 875us/step - loss: 0.3715 - val_loss: 0.4204\n",
      "Epoch 41/100\n",
      "242/242 [==============================] - 0s 865us/step - loss: 0.3736 - val_loss: 0.4204\n",
      "Epoch 42/100\n",
      "242/242 [==============================] - 0s 867us/step - loss: 0.3677 - val_loss: 0.4285\n",
      "Epoch 43/100\n",
      "242/242 [==============================] - 0s 870us/step - loss: 0.3699 - val_loss: 0.4436\n",
      "Epoch 44/100\n",
      "242/242 [==============================] - 0s 850us/step - loss: 0.3664 - val_loss: 0.4136\n",
      "Epoch 45/100\n",
      "242/242 [==============================] - 0s 870us/step - loss: 0.3776 - val_loss: 0.4163\n",
      "Epoch 46/100\n",
      "242/242 [==============================] - 0s 868us/step - loss: 0.3823 - val_loss: 0.4209\n",
      "Epoch 47/100\n",
      "242/242 [==============================] - 0s 873us/step - loss: 0.3652 - val_loss: 0.4193\n",
      "Epoch 48/100\n",
      "242/242 [==============================] - 0s 872us/step - loss: 0.3760 - val_loss: 0.4119\n",
      "Epoch 49/100\n",
      "242/242 [==============================] - 0s 863us/step - loss: 0.3671 - val_loss: 0.4088\n",
      "Epoch 50/100\n",
      "242/242 [==============================] - 0s 858us/step - loss: 0.4118 - val_loss: 0.4132\n",
      "Epoch 51/100\n",
      "242/242 [==============================] - 0s 860us/step - loss: 0.4055 - val_loss: 0.4170\n",
      "Epoch 52/100\n",
      "242/242 [==============================] - 0s 853us/step - loss: 0.3671 - val_loss: 0.4142\n",
      "Epoch 53/100\n",
      "242/242 [==============================] - 0s 864us/step - loss: 0.3666 - val_loss: 0.4174\n",
      "Epoch 54/100\n",
      "242/242 [==============================] - 0s 844us/step - loss: 0.3641 - val_loss: 0.4103\n",
      "Epoch 55/100\n",
      "242/242 [==============================] - 0s 874us/step - loss: 0.3598 - val_loss: 0.4033\n",
      "Epoch 56/100\n",
      "242/242 [==============================] - 0s 873us/step - loss: 0.3580 - val_loss: 0.4118\n",
      "Epoch 57/100\n",
      "242/242 [==============================] - 0s 876us/step - loss: 0.3868 - val_loss: 0.4063\n",
      "Epoch 58/100\n",
      "242/242 [==============================] - 0s 877us/step - loss: 0.3615 - val_loss: 0.4055\n",
      "Epoch 59/100\n",
      "242/242 [==============================] - 0s 900us/step - loss: 0.3574 - val_loss: 0.4008\n",
      "Epoch 60/100\n",
      "242/242 [==============================] - 0s 1ms/step - loss: 0.3540 - val_loss: 0.3958\n",
      "Epoch 61/100\n",
      "242/242 [==============================] - 0s 1ms/step - loss: 0.3580 - val_loss: 0.4003\n",
      "Epoch 62/100\n",
      "242/242 [==============================] - 0s 889us/step - loss: 0.3530 - val_loss: 0.3991\n",
      "Epoch 63/100\n",
      "242/242 [==============================] - 0s 887us/step - loss: 0.3533 - val_loss: 0.3970\n",
      "Epoch 64/100\n",
      "242/242 [==============================] - 0s 900us/step - loss: 0.3502 - val_loss: 0.3952\n",
      "Epoch 65/100\n",
      "242/242 [==============================] - 0s 898us/step - loss: 0.3468 - val_loss: 0.3910\n",
      "Epoch 66/100\n",
      "242/242 [==============================] - 0s 1ms/step - loss: 0.3461 - val_loss: 0.3922\n",
      "Epoch 67/100\n",
      "242/242 [==============================] - 0s 1ms/step - loss: 0.3454 - val_loss: 0.3889\n",
      "Epoch 68/100\n",
      "242/242 [==============================] - 0s 1ms/step - loss: 0.3440 - val_loss: 0.3908\n",
      "Epoch 69/100\n",
      "242/242 [==============================] - 0s 889us/step - loss: 0.3462 - val_loss: 0.3898\n",
      "Epoch 70/100\n",
      "242/242 [==============================] - 0s 880us/step - loss: 0.3467 - val_loss: 0.3950\n",
      "Epoch 71/100\n",
      "242/242 [==============================] - 0s 862us/step - loss: 0.3476 - val_loss: 0.3883\n",
      "Epoch 72/100\n",
      "242/242 [==============================] - 0s 879us/step - loss: 0.3411 - val_loss: 0.3846\n",
      "Epoch 73/100\n",
      "242/242 [==============================] - 0s 865us/step - loss: 0.3391 - val_loss: 0.3820\n",
      "Epoch 74/100\n",
      "242/242 [==============================] - 0s 870us/step - loss: 0.3389 - val_loss: 0.3824\n",
      "Epoch 75/100\n",
      "242/242 [==============================] - 0s 859us/step - loss: 0.3391 - val_loss: 0.3831\n",
      "Epoch 76/100\n",
      "242/242 [==============================] - 0s 863us/step - loss: 0.3386 - val_loss: 0.3863\n",
      "Epoch 77/100\n",
      "242/242 [==============================] - 0s 844us/step - loss: 0.3360 - val_loss: 0.3879\n",
      "Epoch 78/100\n",
      "242/242 [==============================] - 0s 877us/step - loss: 0.3370 - val_loss: 0.3856\n",
      "Epoch 79/100\n",
      "242/242 [==============================] - 0s 872us/step - loss: 0.3353 - val_loss: 0.3757\n",
      "Epoch 80/100\n",
      "242/242 [==============================] - 0s 872us/step - loss: 0.3342 - val_loss: 0.3754\n",
      "Epoch 81/100\n",
      "242/242 [==============================] - 0s 867us/step - loss: 0.3379 - val_loss: 0.4002\n",
      "Epoch 82/100\n",
      "242/242 [==============================] - 0s 860us/step - loss: 0.3353 - val_loss: 0.3794\n",
      "Epoch 83/100\n",
      "242/242 [==============================] - 0s 866us/step - loss: 0.3321 - val_loss: 0.3845\n",
      "Epoch 84/100\n",
      "242/242 [==============================] - 0s 916us/step - loss: 0.3309 - val_loss: 0.3757\n",
      "Epoch 85/100\n",
      "242/242 [==============================] - 0s 891us/step - loss: 0.3364 - val_loss: 0.3733\n",
      "Epoch 86/100\n",
      "242/242 [==============================] - 0s 916us/step - loss: 0.3303 - val_loss: 0.3721\n",
      "Epoch 87/100\n",
      "242/242 [==============================] - 0s 903us/step - loss: 0.3314 - val_loss: 0.3740\n",
      "Epoch 88/100\n",
      "242/242 [==============================] - 0s 896us/step - loss: 0.4584 - val_loss: 0.3805\n",
      "Epoch 89/100\n",
      "242/242 [==============================] - 0s 974us/step - loss: 0.3305 - val_loss: 0.3716\n",
      "Epoch 90/100\n",
      "242/242 [==============================] - 0s 1ms/step - loss: 0.3286 - val_loss: 0.3717\n",
      "Epoch 91/100\n",
      "242/242 [==============================] - 0s 985us/step - loss: 0.3279 - val_loss: 0.3736\n",
      "Epoch 92/100\n",
      "242/242 [==============================] - 0s 882us/step - loss: 0.3362 - val_loss: 0.3747\n",
      "Epoch 93/100\n",
      "242/242 [==============================] - 0s 973us/step - loss: 0.3278 - val_loss: 0.3695\n",
      "Epoch 94/100\n",
      "242/242 [==============================] - 0s 942us/step - loss: 0.3281 - val_loss: 0.3697\n",
      "Epoch 95/100\n",
      "242/242 [==============================] - 0s 909us/step - loss: 0.3250 - val_loss: 0.3718\n",
      "Epoch 96/100\n",
      "242/242 [==============================] - 0s 980us/step - loss: 0.3368 - val_loss: 0.3706\n",
      "Epoch 97/100\n",
      "242/242 [==============================] - 0s 945us/step - loss: 0.3442 - val_loss: 0.3641\n",
      "Epoch 98/100\n",
      "242/242 [==============================] - 0s 951us/step - loss: 0.3649 - val_loss: 0.3908\n",
      "Epoch 99/100\n",
      "242/242 [==============================] - 0s 962us/step - loss: 0.3492 - val_loss: 0.3740\n",
      "Epoch 100/100\n",
      "242/242 [==============================] - 0s 980us/step - loss: 0.3322 - val_loss: 0.3776\n",
      "121/121 [==============================] - 0s 564us/step - loss: 0.3720\n",
      "Epoch 1/100\n",
      "242/242 [==============================] - 0s 1ms/step - loss: 0.9431 - val_loss: 0.4978\n",
      "Epoch 2/100\n",
      "242/242 [==============================] - 0s 1ms/step - loss: 0.4727 - val_loss: 0.4708\n",
      "Epoch 3/100\n",
      "242/242 [==============================] - 0s 1ms/step - loss: 0.4447 - val_loss: 0.5339\n",
      "Epoch 4/100\n",
      "242/242 [==============================] - 0s 1ms/step - loss: 0.4305 - val_loss: 0.4393\n",
      "Epoch 5/100\n",
      "242/242 [==============================] - 0s 1ms/step - loss: 0.4094 - val_loss: 0.4749\n",
      "Epoch 6/100\n",
      "242/242 [==============================] - 0s 1ms/step - loss: 0.3988 - val_loss: 0.4295\n",
      "Epoch 7/100\n",
      "242/242 [==============================] - 0s 981us/step - loss: 0.3911 - val_loss: 0.4082\n",
      "Epoch 8/100\n",
      "242/242 [==============================] - 0s 1ms/step - loss: 0.3851 - val_loss: 0.4860\n",
      "Epoch 9/100\n",
      "242/242 [==============================] - 0s 1ms/step - loss: 0.3848 - val_loss: 0.3928\n",
      "Epoch 10/100\n",
      "242/242 [==============================] - 0s 1ms/step - loss: 0.5018 - val_loss: 0.5799\n",
      "Epoch 11/100\n",
      "242/242 [==============================] - 0s 1ms/step - loss: nan - val_loss: nan\n",
      "Epoch 12/100\n",
      "242/242 [==============================] - 0s 1ms/step - loss: nan - val_loss: nan\n",
      "Epoch 13/100\n",
      "242/242 [==============================] - 0s 1ms/step - loss: nan - val_loss: nan\n",
      "Epoch 14/100\n",
      "242/242 [==============================] - 0s 1ms/step - loss: nan - val_loss: nan\n"
     ]
    },
    {
     "name": "stdout",
     "output_type": "stream",
     "text": [
      "Epoch 15/100\n",
      "242/242 [==============================] - 0s 1ms/step - loss: nan - val_loss: nan\n",
      "Epoch 16/100\n",
      "242/242 [==============================] - 0s 1ms/step - loss: nan - val_loss: nan\n",
      "Epoch 17/100\n",
      "242/242 [==============================] - 0s 1ms/step - loss: nan - val_loss: nan\n",
      "Epoch 18/100\n",
      "242/242 [==============================] - 0s 990us/step - loss: nan - val_loss: nan\n",
      "Epoch 19/100\n",
      "242/242 [==============================] - 0s 1ms/step - loss: nan - val_loss: nan\n",
      "121/121 [==============================] - 0s 620us/step - loss: nan\n",
      "Epoch 1/100\n",
      "201/242 [=======================>......] - ETA: 0s - loss: 0.9037"
     ]
    },
    {
     "ename": "KeyboardInterrupt",
     "evalue": "",
     "output_type": "error",
     "traceback": [
      "\u001b[0;31m---------------------------------------------------------------------------\u001b[0m",
      "\u001b[0;31mKeyboardInterrupt\u001b[0m                         Traceback (most recent call last)",
      "\u001b[0;32m<ipython-input-109-2a66724c63a7>\u001b[0m in \u001b[0;36m<module>\u001b[0;34m\u001b[0m\n\u001b[1;32m      5\u001b[0m                   \"learning_rate\": reciprocal(3e-4, 3e-2)}\n\u001b[1;32m      6\u001b[0m \u001b[0mrnd_search_cv\u001b[0m \u001b[0;34m=\u001b[0m \u001b[0mRandomizedSearchCV\u001b[0m\u001b[0;34m(\u001b[0m\u001b[0mkeras_reg\u001b[0m\u001b[0;34m,\u001b[0m \u001b[0mparam_distribs\u001b[0m\u001b[0;34m,\u001b[0m \u001b[0mn_iter\u001b[0m\u001b[0;34m=\u001b[0m\u001b[0;36m10\u001b[0m\u001b[0;34m,\u001b[0m \u001b[0mcv\u001b[0m\u001b[0;34m=\u001b[0m\u001b[0;36m3\u001b[0m\u001b[0;34m)\u001b[0m\u001b[0;34m\u001b[0m\u001b[0;34m\u001b[0m\u001b[0m\n\u001b[0;32m----> 7\u001b[0;31m rnd_search_cv.fit(X_train, y_train, epochs=100,\n\u001b[0m\u001b[1;32m      8\u001b[0m                   \u001b[0mvalidation_data\u001b[0m\u001b[0;34m=\u001b[0m\u001b[0;34m(\u001b[0m\u001b[0mX_valid\u001b[0m\u001b[0;34m,\u001b[0m \u001b[0my_valid\u001b[0m\u001b[0;34m)\u001b[0m\u001b[0;34m,\u001b[0m\u001b[0;34m\u001b[0m\u001b[0;34m\u001b[0m\u001b[0m\n\u001b[1;32m      9\u001b[0m                   callbacks=[keras.callbacks.EarlyStopping(patience=10)])\n",
      "\u001b[0;32m~/machine_learning/ml_env/lib/python3.8/site-packages/sklearn/utils/validation.py\u001b[0m in \u001b[0;36minner_f\u001b[0;34m(*args, **kwargs)\u001b[0m\n\u001b[1;32m     70\u001b[0m                           FutureWarning)\n\u001b[1;32m     71\u001b[0m         \u001b[0mkwargs\u001b[0m\u001b[0;34m.\u001b[0m\u001b[0mupdate\u001b[0m\u001b[0;34m(\u001b[0m\u001b[0;34m{\u001b[0m\u001b[0mk\u001b[0m\u001b[0;34m:\u001b[0m \u001b[0marg\u001b[0m \u001b[0;32mfor\u001b[0m \u001b[0mk\u001b[0m\u001b[0;34m,\u001b[0m \u001b[0marg\u001b[0m \u001b[0;32min\u001b[0m \u001b[0mzip\u001b[0m\u001b[0;34m(\u001b[0m\u001b[0msig\u001b[0m\u001b[0;34m.\u001b[0m\u001b[0mparameters\u001b[0m\u001b[0;34m,\u001b[0m \u001b[0margs\u001b[0m\u001b[0;34m)\u001b[0m\u001b[0;34m}\u001b[0m\u001b[0;34m)\u001b[0m\u001b[0;34m\u001b[0m\u001b[0;34m\u001b[0m\u001b[0m\n\u001b[0;32m---> 72\u001b[0;31m         \u001b[0;32mreturn\u001b[0m \u001b[0mf\u001b[0m\u001b[0;34m(\u001b[0m\u001b[0;34m**\u001b[0m\u001b[0mkwargs\u001b[0m\u001b[0;34m)\u001b[0m\u001b[0;34m\u001b[0m\u001b[0;34m\u001b[0m\u001b[0m\n\u001b[0m\u001b[1;32m     73\u001b[0m     \u001b[0;32mreturn\u001b[0m \u001b[0minner_f\u001b[0m\u001b[0;34m\u001b[0m\u001b[0;34m\u001b[0m\u001b[0m\n\u001b[1;32m     74\u001b[0m \u001b[0;34m\u001b[0m\u001b[0m\n",
      "\u001b[0;32m~/machine_learning/ml_env/lib/python3.8/site-packages/sklearn/model_selection/_search.py\u001b[0m in \u001b[0;36mfit\u001b[0;34m(self, X, y, groups, **fit_params)\u001b[0m\n\u001b[1;32m    734\u001b[0m                 \u001b[0;32mreturn\u001b[0m \u001b[0mresults\u001b[0m\u001b[0;34m\u001b[0m\u001b[0;34m\u001b[0m\u001b[0m\n\u001b[1;32m    735\u001b[0m \u001b[0;34m\u001b[0m\u001b[0m\n\u001b[0;32m--> 736\u001b[0;31m             \u001b[0mself\u001b[0m\u001b[0;34m.\u001b[0m\u001b[0m_run_search\u001b[0m\u001b[0;34m(\u001b[0m\u001b[0mevaluate_candidates\u001b[0m\u001b[0;34m)\u001b[0m\u001b[0;34m\u001b[0m\u001b[0;34m\u001b[0m\u001b[0m\n\u001b[0m\u001b[1;32m    737\u001b[0m \u001b[0;34m\u001b[0m\u001b[0m\n\u001b[1;32m    738\u001b[0m         \u001b[0;31m# For multi-metric evaluation, store the best_index_, best_params_ and\u001b[0m\u001b[0;34m\u001b[0m\u001b[0;34m\u001b[0m\u001b[0;34m\u001b[0m\u001b[0m\n",
      "\u001b[0;32m~/machine_learning/ml_env/lib/python3.8/site-packages/sklearn/model_selection/_search.py\u001b[0m in \u001b[0;36m_run_search\u001b[0;34m(self, evaluate_candidates)\u001b[0m\n\u001b[1;32m   1527\u001b[0m     \u001b[0;32mdef\u001b[0m \u001b[0m_run_search\u001b[0m\u001b[0;34m(\u001b[0m\u001b[0mself\u001b[0m\u001b[0;34m,\u001b[0m \u001b[0mevaluate_candidates\u001b[0m\u001b[0;34m)\u001b[0m\u001b[0;34m:\u001b[0m\u001b[0;34m\u001b[0m\u001b[0;34m\u001b[0m\u001b[0m\n\u001b[1;32m   1528\u001b[0m         \u001b[0;34m\"\"\"Search n_iter candidates from param_distributions\"\"\"\u001b[0m\u001b[0;34m\u001b[0m\u001b[0;34m\u001b[0m\u001b[0m\n\u001b[0;32m-> 1529\u001b[0;31m         evaluate_candidates(ParameterSampler(\n\u001b[0m\u001b[1;32m   1530\u001b[0m             \u001b[0mself\u001b[0m\u001b[0;34m.\u001b[0m\u001b[0mparam_distributions\u001b[0m\u001b[0;34m,\u001b[0m \u001b[0mself\u001b[0m\u001b[0;34m.\u001b[0m\u001b[0mn_iter\u001b[0m\u001b[0;34m,\u001b[0m\u001b[0;34m\u001b[0m\u001b[0;34m\u001b[0m\u001b[0m\n\u001b[1;32m   1531\u001b[0m             random_state=self.random_state))\n",
      "\u001b[0;32m~/machine_learning/ml_env/lib/python3.8/site-packages/sklearn/model_selection/_search.py\u001b[0m in \u001b[0;36mevaluate_candidates\u001b[0;34m(candidate_params)\u001b[0m\n\u001b[1;32m    706\u001b[0m                               n_splits, n_candidates, n_candidates * n_splits))\n\u001b[1;32m    707\u001b[0m \u001b[0;34m\u001b[0m\u001b[0m\n\u001b[0;32m--> 708\u001b[0;31m                 out = parallel(delayed(_fit_and_score)(clone(base_estimator),\n\u001b[0m\u001b[1;32m    709\u001b[0m                                                        \u001b[0mX\u001b[0m\u001b[0;34m,\u001b[0m \u001b[0my\u001b[0m\u001b[0;34m,\u001b[0m\u001b[0;34m\u001b[0m\u001b[0;34m\u001b[0m\u001b[0m\n\u001b[1;32m    710\u001b[0m                                                        \u001b[0mtrain\u001b[0m\u001b[0;34m=\u001b[0m\u001b[0mtrain\u001b[0m\u001b[0;34m,\u001b[0m \u001b[0mtest\u001b[0m\u001b[0;34m=\u001b[0m\u001b[0mtest\u001b[0m\u001b[0;34m,\u001b[0m\u001b[0;34m\u001b[0m\u001b[0;34m\u001b[0m\u001b[0m\n",
      "\u001b[0;32m~/machine_learning/ml_env/lib/python3.8/site-packages/joblib/parallel.py\u001b[0m in \u001b[0;36m__call__\u001b[0;34m(self, iterable)\u001b[0m\n\u001b[1;32m   1030\u001b[0m                 \u001b[0mself\u001b[0m\u001b[0;34m.\u001b[0m\u001b[0m_iterating\u001b[0m \u001b[0;34m=\u001b[0m \u001b[0mself\u001b[0m\u001b[0;34m.\u001b[0m\u001b[0m_original_iterator\u001b[0m \u001b[0;32mis\u001b[0m \u001b[0;32mnot\u001b[0m \u001b[0;32mNone\u001b[0m\u001b[0;34m\u001b[0m\u001b[0;34m\u001b[0m\u001b[0m\n\u001b[1;32m   1031\u001b[0m \u001b[0;34m\u001b[0m\u001b[0m\n\u001b[0;32m-> 1032\u001b[0;31m             \u001b[0;32mwhile\u001b[0m \u001b[0mself\u001b[0m\u001b[0;34m.\u001b[0m\u001b[0mdispatch_one_batch\u001b[0m\u001b[0;34m(\u001b[0m\u001b[0miterator\u001b[0m\u001b[0;34m)\u001b[0m\u001b[0;34m:\u001b[0m\u001b[0;34m\u001b[0m\u001b[0;34m\u001b[0m\u001b[0m\n\u001b[0m\u001b[1;32m   1033\u001b[0m                 \u001b[0;32mpass\u001b[0m\u001b[0;34m\u001b[0m\u001b[0;34m\u001b[0m\u001b[0m\n\u001b[1;32m   1034\u001b[0m \u001b[0;34m\u001b[0m\u001b[0m\n",
      "\u001b[0;32m~/machine_learning/ml_env/lib/python3.8/site-packages/joblib/parallel.py\u001b[0m in \u001b[0;36mdispatch_one_batch\u001b[0;34m(self, iterator)\u001b[0m\n\u001b[1;32m    845\u001b[0m                 \u001b[0;32mreturn\u001b[0m \u001b[0;32mFalse\u001b[0m\u001b[0;34m\u001b[0m\u001b[0;34m\u001b[0m\u001b[0m\n\u001b[1;32m    846\u001b[0m             \u001b[0;32melse\u001b[0m\u001b[0;34m:\u001b[0m\u001b[0;34m\u001b[0m\u001b[0;34m\u001b[0m\u001b[0m\n\u001b[0;32m--> 847\u001b[0;31m                 \u001b[0mself\u001b[0m\u001b[0;34m.\u001b[0m\u001b[0m_dispatch\u001b[0m\u001b[0;34m(\u001b[0m\u001b[0mtasks\u001b[0m\u001b[0;34m)\u001b[0m\u001b[0;34m\u001b[0m\u001b[0;34m\u001b[0m\u001b[0m\n\u001b[0m\u001b[1;32m    848\u001b[0m                 \u001b[0;32mreturn\u001b[0m \u001b[0;32mTrue\u001b[0m\u001b[0;34m\u001b[0m\u001b[0;34m\u001b[0m\u001b[0m\n\u001b[1;32m    849\u001b[0m \u001b[0;34m\u001b[0m\u001b[0m\n",
      "\u001b[0;32m~/machine_learning/ml_env/lib/python3.8/site-packages/joblib/parallel.py\u001b[0m in \u001b[0;36m_dispatch\u001b[0;34m(self, batch)\u001b[0m\n\u001b[1;32m    763\u001b[0m         \u001b[0;32mwith\u001b[0m \u001b[0mself\u001b[0m\u001b[0;34m.\u001b[0m\u001b[0m_lock\u001b[0m\u001b[0;34m:\u001b[0m\u001b[0;34m\u001b[0m\u001b[0;34m\u001b[0m\u001b[0m\n\u001b[1;32m    764\u001b[0m             \u001b[0mjob_idx\u001b[0m \u001b[0;34m=\u001b[0m \u001b[0mlen\u001b[0m\u001b[0;34m(\u001b[0m\u001b[0mself\u001b[0m\u001b[0;34m.\u001b[0m\u001b[0m_jobs\u001b[0m\u001b[0;34m)\u001b[0m\u001b[0;34m\u001b[0m\u001b[0;34m\u001b[0m\u001b[0m\n\u001b[0;32m--> 765\u001b[0;31m             \u001b[0mjob\u001b[0m \u001b[0;34m=\u001b[0m \u001b[0mself\u001b[0m\u001b[0;34m.\u001b[0m\u001b[0m_backend\u001b[0m\u001b[0;34m.\u001b[0m\u001b[0mapply_async\u001b[0m\u001b[0;34m(\u001b[0m\u001b[0mbatch\u001b[0m\u001b[0;34m,\u001b[0m \u001b[0mcallback\u001b[0m\u001b[0;34m=\u001b[0m\u001b[0mcb\u001b[0m\u001b[0;34m)\u001b[0m\u001b[0;34m\u001b[0m\u001b[0;34m\u001b[0m\u001b[0m\n\u001b[0m\u001b[1;32m    766\u001b[0m             \u001b[0;31m# A job can complete so quickly than its callback is\u001b[0m\u001b[0;34m\u001b[0m\u001b[0;34m\u001b[0m\u001b[0;34m\u001b[0m\u001b[0m\n\u001b[1;32m    767\u001b[0m             \u001b[0;31m# called before we get here, causing self._jobs to\u001b[0m\u001b[0;34m\u001b[0m\u001b[0;34m\u001b[0m\u001b[0;34m\u001b[0m\u001b[0m\n",
      "\u001b[0;32m~/machine_learning/ml_env/lib/python3.8/site-packages/joblib/_parallel_backends.py\u001b[0m in \u001b[0;36mapply_async\u001b[0;34m(self, func, callback)\u001b[0m\n\u001b[1;32m    206\u001b[0m     \u001b[0;32mdef\u001b[0m \u001b[0mapply_async\u001b[0m\u001b[0;34m(\u001b[0m\u001b[0mself\u001b[0m\u001b[0;34m,\u001b[0m \u001b[0mfunc\u001b[0m\u001b[0;34m,\u001b[0m \u001b[0mcallback\u001b[0m\u001b[0;34m=\u001b[0m\u001b[0;32mNone\u001b[0m\u001b[0;34m)\u001b[0m\u001b[0;34m:\u001b[0m\u001b[0;34m\u001b[0m\u001b[0;34m\u001b[0m\u001b[0m\n\u001b[1;32m    207\u001b[0m         \u001b[0;34m\"\"\"Schedule a func to be run\"\"\"\u001b[0m\u001b[0;34m\u001b[0m\u001b[0;34m\u001b[0m\u001b[0m\n\u001b[0;32m--> 208\u001b[0;31m         \u001b[0mresult\u001b[0m \u001b[0;34m=\u001b[0m \u001b[0mImmediateResult\u001b[0m\u001b[0;34m(\u001b[0m\u001b[0mfunc\u001b[0m\u001b[0;34m)\u001b[0m\u001b[0;34m\u001b[0m\u001b[0;34m\u001b[0m\u001b[0m\n\u001b[0m\u001b[1;32m    209\u001b[0m         \u001b[0;32mif\u001b[0m \u001b[0mcallback\u001b[0m\u001b[0;34m:\u001b[0m\u001b[0;34m\u001b[0m\u001b[0;34m\u001b[0m\u001b[0m\n\u001b[1;32m    210\u001b[0m             \u001b[0mcallback\u001b[0m\u001b[0;34m(\u001b[0m\u001b[0mresult\u001b[0m\u001b[0;34m)\u001b[0m\u001b[0;34m\u001b[0m\u001b[0;34m\u001b[0m\u001b[0m\n",
      "\u001b[0;32m~/machine_learning/ml_env/lib/python3.8/site-packages/joblib/_parallel_backends.py\u001b[0m in \u001b[0;36m__init__\u001b[0;34m(self, batch)\u001b[0m\n\u001b[1;32m    570\u001b[0m         \u001b[0;31m# Don't delay the application, to avoid keeping the input\u001b[0m\u001b[0;34m\u001b[0m\u001b[0;34m\u001b[0m\u001b[0;34m\u001b[0m\u001b[0m\n\u001b[1;32m    571\u001b[0m         \u001b[0;31m# arguments in memory\u001b[0m\u001b[0;34m\u001b[0m\u001b[0;34m\u001b[0m\u001b[0;34m\u001b[0m\u001b[0m\n\u001b[0;32m--> 572\u001b[0;31m         \u001b[0mself\u001b[0m\u001b[0;34m.\u001b[0m\u001b[0mresults\u001b[0m \u001b[0;34m=\u001b[0m \u001b[0mbatch\u001b[0m\u001b[0;34m(\u001b[0m\u001b[0;34m)\u001b[0m\u001b[0;34m\u001b[0m\u001b[0;34m\u001b[0m\u001b[0m\n\u001b[0m\u001b[1;32m    573\u001b[0m \u001b[0;34m\u001b[0m\u001b[0m\n\u001b[1;32m    574\u001b[0m     \u001b[0;32mdef\u001b[0m \u001b[0mget\u001b[0m\u001b[0;34m(\u001b[0m\u001b[0mself\u001b[0m\u001b[0;34m)\u001b[0m\u001b[0;34m:\u001b[0m\u001b[0;34m\u001b[0m\u001b[0;34m\u001b[0m\u001b[0m\n",
      "\u001b[0;32m~/machine_learning/ml_env/lib/python3.8/site-packages/joblib/parallel.py\u001b[0m in \u001b[0;36m__call__\u001b[0;34m(self)\u001b[0m\n\u001b[1;32m    250\u001b[0m         \u001b[0;31m# change the default number of processes to -1\u001b[0m\u001b[0;34m\u001b[0m\u001b[0;34m\u001b[0m\u001b[0;34m\u001b[0m\u001b[0m\n\u001b[1;32m    251\u001b[0m         \u001b[0;32mwith\u001b[0m \u001b[0mparallel_backend\u001b[0m\u001b[0;34m(\u001b[0m\u001b[0mself\u001b[0m\u001b[0;34m.\u001b[0m\u001b[0m_backend\u001b[0m\u001b[0;34m,\u001b[0m \u001b[0mn_jobs\u001b[0m\u001b[0;34m=\u001b[0m\u001b[0mself\u001b[0m\u001b[0;34m.\u001b[0m\u001b[0m_n_jobs\u001b[0m\u001b[0;34m)\u001b[0m\u001b[0;34m:\u001b[0m\u001b[0;34m\u001b[0m\u001b[0;34m\u001b[0m\u001b[0m\n\u001b[0;32m--> 252\u001b[0;31m             return [func(*args, **kwargs)\n\u001b[0m\u001b[1;32m    253\u001b[0m                     for func, args, kwargs in self.items]\n\u001b[1;32m    254\u001b[0m \u001b[0;34m\u001b[0m\u001b[0m\n",
      "\u001b[0;32m~/machine_learning/ml_env/lib/python3.8/site-packages/joblib/parallel.py\u001b[0m in \u001b[0;36m<listcomp>\u001b[0;34m(.0)\u001b[0m\n\u001b[1;32m    250\u001b[0m         \u001b[0;31m# change the default number of processes to -1\u001b[0m\u001b[0;34m\u001b[0m\u001b[0;34m\u001b[0m\u001b[0;34m\u001b[0m\u001b[0m\n\u001b[1;32m    251\u001b[0m         \u001b[0;32mwith\u001b[0m \u001b[0mparallel_backend\u001b[0m\u001b[0;34m(\u001b[0m\u001b[0mself\u001b[0m\u001b[0;34m.\u001b[0m\u001b[0m_backend\u001b[0m\u001b[0;34m,\u001b[0m \u001b[0mn_jobs\u001b[0m\u001b[0;34m=\u001b[0m\u001b[0mself\u001b[0m\u001b[0;34m.\u001b[0m\u001b[0m_n_jobs\u001b[0m\u001b[0;34m)\u001b[0m\u001b[0;34m:\u001b[0m\u001b[0;34m\u001b[0m\u001b[0;34m\u001b[0m\u001b[0m\n\u001b[0;32m--> 252\u001b[0;31m             return [func(*args, **kwargs)\n\u001b[0m\u001b[1;32m    253\u001b[0m                     for func, args, kwargs in self.items]\n\u001b[1;32m    254\u001b[0m \u001b[0;34m\u001b[0m\u001b[0m\n",
      "\u001b[0;32m~/machine_learning/ml_env/lib/python3.8/site-packages/sklearn/model_selection/_validation.py\u001b[0m in \u001b[0;36m_fit_and_score\u001b[0;34m(estimator, X, y, scorer, train, test, verbose, parameters, fit_params, return_train_score, return_parameters, return_n_test_samples, return_times, return_estimator, error_score)\u001b[0m\n\u001b[1;32m    529\u001b[0m             \u001b[0mestimator\u001b[0m\u001b[0;34m.\u001b[0m\u001b[0mfit\u001b[0m\u001b[0;34m(\u001b[0m\u001b[0mX_train\u001b[0m\u001b[0;34m,\u001b[0m \u001b[0;34m**\u001b[0m\u001b[0mfit_params\u001b[0m\u001b[0;34m)\u001b[0m\u001b[0;34m\u001b[0m\u001b[0;34m\u001b[0m\u001b[0m\n\u001b[1;32m    530\u001b[0m         \u001b[0;32melse\u001b[0m\u001b[0;34m:\u001b[0m\u001b[0;34m\u001b[0m\u001b[0;34m\u001b[0m\u001b[0m\n\u001b[0;32m--> 531\u001b[0;31m             \u001b[0mestimator\u001b[0m\u001b[0;34m.\u001b[0m\u001b[0mfit\u001b[0m\u001b[0;34m(\u001b[0m\u001b[0mX_train\u001b[0m\u001b[0;34m,\u001b[0m \u001b[0my_train\u001b[0m\u001b[0;34m,\u001b[0m \u001b[0;34m**\u001b[0m\u001b[0mfit_params\u001b[0m\u001b[0;34m)\u001b[0m\u001b[0;34m\u001b[0m\u001b[0;34m\u001b[0m\u001b[0m\n\u001b[0m\u001b[1;32m    532\u001b[0m \u001b[0;34m\u001b[0m\u001b[0m\n\u001b[1;32m    533\u001b[0m     \u001b[0;32mexcept\u001b[0m \u001b[0mException\u001b[0m \u001b[0;32mas\u001b[0m \u001b[0me\u001b[0m\u001b[0;34m:\u001b[0m\u001b[0;34m\u001b[0m\u001b[0;34m\u001b[0m\u001b[0m\n",
      "\u001b[0;32m~/machine_learning/ml_env/lib/python3.8/site-packages/tensorflow/python/keras/wrappers/scikit_learn.py\u001b[0m in \u001b[0;36mfit\u001b[0;34m(self, x, y, **kwargs)\u001b[0m\n\u001b[1;32m    164\u001b[0m     \u001b[0mfit_args\u001b[0m\u001b[0;34m.\u001b[0m\u001b[0mupdate\u001b[0m\u001b[0;34m(\u001b[0m\u001b[0mkwargs\u001b[0m\u001b[0;34m)\u001b[0m\u001b[0;34m\u001b[0m\u001b[0;34m\u001b[0m\u001b[0m\n\u001b[1;32m    165\u001b[0m \u001b[0;34m\u001b[0m\u001b[0m\n\u001b[0;32m--> 166\u001b[0;31m     \u001b[0mhistory\u001b[0m \u001b[0;34m=\u001b[0m \u001b[0mself\u001b[0m\u001b[0;34m.\u001b[0m\u001b[0mmodel\u001b[0m\u001b[0;34m.\u001b[0m\u001b[0mfit\u001b[0m\u001b[0;34m(\u001b[0m\u001b[0mx\u001b[0m\u001b[0;34m,\u001b[0m \u001b[0my\u001b[0m\u001b[0;34m,\u001b[0m \u001b[0;34m**\u001b[0m\u001b[0mfit_args\u001b[0m\u001b[0;34m)\u001b[0m\u001b[0;34m\u001b[0m\u001b[0;34m\u001b[0m\u001b[0m\n\u001b[0m\u001b[1;32m    167\u001b[0m \u001b[0;34m\u001b[0m\u001b[0m\n\u001b[1;32m    168\u001b[0m     \u001b[0;32mreturn\u001b[0m \u001b[0mhistory\u001b[0m\u001b[0;34m\u001b[0m\u001b[0;34m\u001b[0m\u001b[0m\n",
      "\u001b[0;32m~/machine_learning/ml_env/lib/python3.8/site-packages/tensorflow/python/keras/engine/training.py\u001b[0m in \u001b[0;36m_method_wrapper\u001b[0;34m(self, *args, **kwargs)\u001b[0m\n\u001b[1;32m    106\u001b[0m   \u001b[0;32mdef\u001b[0m \u001b[0m_method_wrapper\u001b[0m\u001b[0;34m(\u001b[0m\u001b[0mself\u001b[0m\u001b[0;34m,\u001b[0m \u001b[0;34m*\u001b[0m\u001b[0margs\u001b[0m\u001b[0;34m,\u001b[0m \u001b[0;34m**\u001b[0m\u001b[0mkwargs\u001b[0m\u001b[0;34m)\u001b[0m\u001b[0;34m:\u001b[0m\u001b[0;34m\u001b[0m\u001b[0;34m\u001b[0m\u001b[0m\n\u001b[1;32m    107\u001b[0m     \u001b[0;32mif\u001b[0m \u001b[0;32mnot\u001b[0m \u001b[0mself\u001b[0m\u001b[0;34m.\u001b[0m\u001b[0m_in_multi_worker_mode\u001b[0m\u001b[0;34m(\u001b[0m\u001b[0;34m)\u001b[0m\u001b[0;34m:\u001b[0m  \u001b[0;31m# pylint: disable=protected-access\u001b[0m\u001b[0;34m\u001b[0m\u001b[0;34m\u001b[0m\u001b[0m\n\u001b[0;32m--> 108\u001b[0;31m       \u001b[0;32mreturn\u001b[0m \u001b[0mmethod\u001b[0m\u001b[0;34m(\u001b[0m\u001b[0mself\u001b[0m\u001b[0;34m,\u001b[0m \u001b[0;34m*\u001b[0m\u001b[0margs\u001b[0m\u001b[0;34m,\u001b[0m \u001b[0;34m**\u001b[0m\u001b[0mkwargs\u001b[0m\u001b[0;34m)\u001b[0m\u001b[0;34m\u001b[0m\u001b[0;34m\u001b[0m\u001b[0m\n\u001b[0m\u001b[1;32m    109\u001b[0m \u001b[0;34m\u001b[0m\u001b[0m\n\u001b[1;32m    110\u001b[0m     \u001b[0;31m# Running inside `run_distribute_coordinator` already.\u001b[0m\u001b[0;34m\u001b[0m\u001b[0;34m\u001b[0m\u001b[0;34m\u001b[0m\u001b[0m\n",
      "\u001b[0;32m~/machine_learning/ml_env/lib/python3.8/site-packages/tensorflow/python/keras/engine/training.py\u001b[0m in \u001b[0;36mfit\u001b[0;34m(self, x, y, batch_size, epochs, verbose, callbacks, validation_split, validation_data, shuffle, class_weight, sample_weight, initial_epoch, steps_per_epoch, validation_steps, validation_batch_size, validation_freq, max_queue_size, workers, use_multiprocessing)\u001b[0m\n\u001b[1;32m   1121\u001b[0m                 \u001b[0mmodel\u001b[0m\u001b[0;34m=\u001b[0m\u001b[0mself\u001b[0m\u001b[0;34m,\u001b[0m\u001b[0;34m\u001b[0m\u001b[0;34m\u001b[0m\u001b[0m\n\u001b[1;32m   1122\u001b[0m                 steps_per_execution=self._steps_per_execution)\n\u001b[0;32m-> 1123\u001b[0;31m           val_logs = self.evaluate(\n\u001b[0m\u001b[1;32m   1124\u001b[0m               \u001b[0mx\u001b[0m\u001b[0;34m=\u001b[0m\u001b[0mval_x\u001b[0m\u001b[0;34m,\u001b[0m\u001b[0;34m\u001b[0m\u001b[0;34m\u001b[0m\u001b[0m\n\u001b[1;32m   1125\u001b[0m               \u001b[0my\u001b[0m\u001b[0;34m=\u001b[0m\u001b[0mval_y\u001b[0m\u001b[0;34m,\u001b[0m\u001b[0;34m\u001b[0m\u001b[0;34m\u001b[0m\u001b[0m\n",
      "\u001b[0;32m~/machine_learning/ml_env/lib/python3.8/site-packages/tensorflow/python/keras/engine/training.py\u001b[0m in \u001b[0;36m_method_wrapper\u001b[0;34m(self, *args, **kwargs)\u001b[0m\n\u001b[1;32m    106\u001b[0m   \u001b[0;32mdef\u001b[0m \u001b[0m_method_wrapper\u001b[0m\u001b[0;34m(\u001b[0m\u001b[0mself\u001b[0m\u001b[0;34m,\u001b[0m \u001b[0;34m*\u001b[0m\u001b[0margs\u001b[0m\u001b[0;34m,\u001b[0m \u001b[0;34m**\u001b[0m\u001b[0mkwargs\u001b[0m\u001b[0;34m)\u001b[0m\u001b[0;34m:\u001b[0m\u001b[0;34m\u001b[0m\u001b[0;34m\u001b[0m\u001b[0m\n\u001b[1;32m    107\u001b[0m     \u001b[0;32mif\u001b[0m \u001b[0;32mnot\u001b[0m \u001b[0mself\u001b[0m\u001b[0;34m.\u001b[0m\u001b[0m_in_multi_worker_mode\u001b[0m\u001b[0;34m(\u001b[0m\u001b[0;34m)\u001b[0m\u001b[0;34m:\u001b[0m  \u001b[0;31m# pylint: disable=protected-access\u001b[0m\u001b[0;34m\u001b[0m\u001b[0;34m\u001b[0m\u001b[0m\n\u001b[0;32m--> 108\u001b[0;31m       \u001b[0;32mreturn\u001b[0m \u001b[0mmethod\u001b[0m\u001b[0;34m(\u001b[0m\u001b[0mself\u001b[0m\u001b[0;34m,\u001b[0m \u001b[0;34m*\u001b[0m\u001b[0margs\u001b[0m\u001b[0;34m,\u001b[0m \u001b[0;34m**\u001b[0m\u001b[0mkwargs\u001b[0m\u001b[0;34m)\u001b[0m\u001b[0;34m\u001b[0m\u001b[0;34m\u001b[0m\u001b[0m\n\u001b[0m\u001b[1;32m    109\u001b[0m \u001b[0;34m\u001b[0m\u001b[0m\n\u001b[1;32m    110\u001b[0m     \u001b[0;31m# Running inside `run_distribute_coordinator` already.\u001b[0m\u001b[0;34m\u001b[0m\u001b[0;34m\u001b[0m\u001b[0;34m\u001b[0m\u001b[0m\n",
      "\u001b[0;32m~/machine_learning/ml_env/lib/python3.8/site-packages/tensorflow/python/keras/engine/training.py\u001b[0m in \u001b[0;36mevaluate\u001b[0;34m(self, x, y, batch_size, verbose, sample_weight, steps, callbacks, max_queue_size, workers, use_multiprocessing, return_dict)\u001b[0m\n\u001b[1;32m   1377\u001b[0m             \u001b[0;32mwith\u001b[0m \u001b[0mtrace\u001b[0m\u001b[0;34m.\u001b[0m\u001b[0mTrace\u001b[0m\u001b[0;34m(\u001b[0m\u001b[0;34m'TraceContext'\u001b[0m\u001b[0;34m,\u001b[0m \u001b[0mgraph_type\u001b[0m\u001b[0;34m=\u001b[0m\u001b[0;34m'test'\u001b[0m\u001b[0;34m,\u001b[0m \u001b[0mstep_num\u001b[0m\u001b[0;34m=\u001b[0m\u001b[0mstep\u001b[0m\u001b[0;34m)\u001b[0m\u001b[0;34m:\u001b[0m\u001b[0;34m\u001b[0m\u001b[0;34m\u001b[0m\u001b[0m\n\u001b[1;32m   1378\u001b[0m               \u001b[0mcallbacks\u001b[0m\u001b[0;34m.\u001b[0m\u001b[0mon_test_batch_begin\u001b[0m\u001b[0;34m(\u001b[0m\u001b[0mstep\u001b[0m\u001b[0;34m)\u001b[0m\u001b[0;34m\u001b[0m\u001b[0;34m\u001b[0m\u001b[0m\n\u001b[0;32m-> 1379\u001b[0;31m               \u001b[0mtmp_logs\u001b[0m \u001b[0;34m=\u001b[0m \u001b[0mtest_function\u001b[0m\u001b[0;34m(\u001b[0m\u001b[0miterator\u001b[0m\u001b[0;34m)\u001b[0m\u001b[0;34m\u001b[0m\u001b[0;34m\u001b[0m\u001b[0m\n\u001b[0m\u001b[1;32m   1380\u001b[0m               \u001b[0;32mif\u001b[0m \u001b[0mdata_handler\u001b[0m\u001b[0;34m.\u001b[0m\u001b[0mshould_sync\u001b[0m\u001b[0;34m:\u001b[0m\u001b[0;34m\u001b[0m\u001b[0;34m\u001b[0m\u001b[0m\n\u001b[1;32m   1381\u001b[0m                 \u001b[0mcontext\u001b[0m\u001b[0;34m.\u001b[0m\u001b[0masync_wait\u001b[0m\u001b[0;34m(\u001b[0m\u001b[0;34m)\u001b[0m\u001b[0;34m\u001b[0m\u001b[0;34m\u001b[0m\u001b[0m\n",
      "\u001b[0;32m~/machine_learning/ml_env/lib/python3.8/site-packages/tensorflow/python/eager/def_function.py\u001b[0m in \u001b[0;36m__call__\u001b[0;34m(self, *args, **kwds)\u001b[0m\n\u001b[1;32m    778\u001b[0m       \u001b[0;32melse\u001b[0m\u001b[0;34m:\u001b[0m\u001b[0;34m\u001b[0m\u001b[0;34m\u001b[0m\u001b[0m\n\u001b[1;32m    779\u001b[0m         \u001b[0mcompiler\u001b[0m \u001b[0;34m=\u001b[0m \u001b[0;34m\"nonXla\"\u001b[0m\u001b[0;34m\u001b[0m\u001b[0;34m\u001b[0m\u001b[0m\n\u001b[0;32m--> 780\u001b[0;31m         \u001b[0mresult\u001b[0m \u001b[0;34m=\u001b[0m \u001b[0mself\u001b[0m\u001b[0;34m.\u001b[0m\u001b[0m_call\u001b[0m\u001b[0;34m(\u001b[0m\u001b[0;34m*\u001b[0m\u001b[0margs\u001b[0m\u001b[0;34m,\u001b[0m \u001b[0;34m**\u001b[0m\u001b[0mkwds\u001b[0m\u001b[0;34m)\u001b[0m\u001b[0;34m\u001b[0m\u001b[0;34m\u001b[0m\u001b[0m\n\u001b[0m\u001b[1;32m    781\u001b[0m \u001b[0;34m\u001b[0m\u001b[0m\n\u001b[1;32m    782\u001b[0m       \u001b[0mnew_tracing_count\u001b[0m \u001b[0;34m=\u001b[0m \u001b[0mself\u001b[0m\u001b[0;34m.\u001b[0m\u001b[0m_get_tracing_count\u001b[0m\u001b[0;34m(\u001b[0m\u001b[0;34m)\u001b[0m\u001b[0;34m\u001b[0m\u001b[0;34m\u001b[0m\u001b[0m\n",
      "\u001b[0;32m~/machine_learning/ml_env/lib/python3.8/site-packages/tensorflow/python/eager/def_function.py\u001b[0m in \u001b[0;36m_call\u001b[0;34m(self, *args, **kwds)\u001b[0m\n\u001b[1;32m    821\u001b[0m       \u001b[0;31m# This is the first call of __call__, so we have to initialize.\u001b[0m\u001b[0;34m\u001b[0m\u001b[0;34m\u001b[0m\u001b[0;34m\u001b[0m\u001b[0m\n\u001b[1;32m    822\u001b[0m       \u001b[0minitializers\u001b[0m \u001b[0;34m=\u001b[0m \u001b[0;34m[\u001b[0m\u001b[0;34m]\u001b[0m\u001b[0;34m\u001b[0m\u001b[0;34m\u001b[0m\u001b[0m\n\u001b[0;32m--> 823\u001b[0;31m       \u001b[0mself\u001b[0m\u001b[0;34m.\u001b[0m\u001b[0m_initialize\u001b[0m\u001b[0;34m(\u001b[0m\u001b[0margs\u001b[0m\u001b[0;34m,\u001b[0m \u001b[0mkwds\u001b[0m\u001b[0;34m,\u001b[0m \u001b[0madd_initializers_to\u001b[0m\u001b[0;34m=\u001b[0m\u001b[0minitializers\u001b[0m\u001b[0;34m)\u001b[0m\u001b[0;34m\u001b[0m\u001b[0;34m\u001b[0m\u001b[0m\n\u001b[0m\u001b[1;32m    824\u001b[0m     \u001b[0;32mfinally\u001b[0m\u001b[0;34m:\u001b[0m\u001b[0;34m\u001b[0m\u001b[0;34m\u001b[0m\u001b[0m\n\u001b[1;32m    825\u001b[0m       \u001b[0;31m# At this point we know that the initialization is complete (or less\u001b[0m\u001b[0;34m\u001b[0m\u001b[0;34m\u001b[0m\u001b[0;34m\u001b[0m\u001b[0m\n",
      "\u001b[0;32m~/machine_learning/ml_env/lib/python3.8/site-packages/tensorflow/python/eager/def_function.py\u001b[0m in \u001b[0;36m_initialize\u001b[0;34m(self, args, kwds, add_initializers_to)\u001b[0m\n\u001b[1;32m    694\u001b[0m     \u001b[0mself\u001b[0m\u001b[0;34m.\u001b[0m\u001b[0m_graph_deleter\u001b[0m \u001b[0;34m=\u001b[0m \u001b[0mFunctionDeleter\u001b[0m\u001b[0;34m(\u001b[0m\u001b[0mself\u001b[0m\u001b[0;34m.\u001b[0m\u001b[0m_lifted_initializer_graph\u001b[0m\u001b[0;34m)\u001b[0m\u001b[0;34m\u001b[0m\u001b[0;34m\u001b[0m\u001b[0m\n\u001b[1;32m    695\u001b[0m     self._concrete_stateful_fn = (\n\u001b[0;32m--> 696\u001b[0;31m         self._stateful_fn._get_concrete_function_internal_garbage_collected(  # pylint: disable=protected-access\n\u001b[0m\u001b[1;32m    697\u001b[0m             *args, **kwds))\n\u001b[1;32m    698\u001b[0m \u001b[0;34m\u001b[0m\u001b[0m\n",
      "\u001b[0;32m~/machine_learning/ml_env/lib/python3.8/site-packages/tensorflow/python/eager/function.py\u001b[0m in \u001b[0;36m_get_concrete_function_internal_garbage_collected\u001b[0;34m(self, *args, **kwargs)\u001b[0m\n\u001b[1;32m   2853\u001b[0m       \u001b[0margs\u001b[0m\u001b[0;34m,\u001b[0m \u001b[0mkwargs\u001b[0m \u001b[0;34m=\u001b[0m \u001b[0;32mNone\u001b[0m\u001b[0;34m,\u001b[0m \u001b[0;32mNone\u001b[0m\u001b[0;34m\u001b[0m\u001b[0;34m\u001b[0m\u001b[0m\n\u001b[1;32m   2854\u001b[0m     \u001b[0;32mwith\u001b[0m \u001b[0mself\u001b[0m\u001b[0;34m.\u001b[0m\u001b[0m_lock\u001b[0m\u001b[0;34m:\u001b[0m\u001b[0;34m\u001b[0m\u001b[0;34m\u001b[0m\u001b[0m\n\u001b[0;32m-> 2855\u001b[0;31m       \u001b[0mgraph_function\u001b[0m\u001b[0;34m,\u001b[0m \u001b[0m_\u001b[0m\u001b[0;34m,\u001b[0m \u001b[0m_\u001b[0m \u001b[0;34m=\u001b[0m \u001b[0mself\u001b[0m\u001b[0;34m.\u001b[0m\u001b[0m_maybe_define_function\u001b[0m\u001b[0;34m(\u001b[0m\u001b[0margs\u001b[0m\u001b[0;34m,\u001b[0m \u001b[0mkwargs\u001b[0m\u001b[0;34m)\u001b[0m\u001b[0;34m\u001b[0m\u001b[0;34m\u001b[0m\u001b[0m\n\u001b[0m\u001b[1;32m   2856\u001b[0m     \u001b[0;32mreturn\u001b[0m \u001b[0mgraph_function\u001b[0m\u001b[0;34m\u001b[0m\u001b[0;34m\u001b[0m\u001b[0m\n\u001b[1;32m   2857\u001b[0m \u001b[0;34m\u001b[0m\u001b[0m\n",
      "\u001b[0;32m~/machine_learning/ml_env/lib/python3.8/site-packages/tensorflow/python/eager/function.py\u001b[0m in \u001b[0;36m_maybe_define_function\u001b[0;34m(self, args, kwargs)\u001b[0m\n\u001b[1;32m   3211\u001b[0m \u001b[0;34m\u001b[0m\u001b[0m\n\u001b[1;32m   3212\u001b[0m       \u001b[0mself\u001b[0m\u001b[0;34m.\u001b[0m\u001b[0m_function_cache\u001b[0m\u001b[0;34m.\u001b[0m\u001b[0mmissed\u001b[0m\u001b[0;34m.\u001b[0m\u001b[0madd\u001b[0m\u001b[0;34m(\u001b[0m\u001b[0mcall_context_key\u001b[0m\u001b[0;34m)\u001b[0m\u001b[0;34m\u001b[0m\u001b[0;34m\u001b[0m\u001b[0m\n\u001b[0;32m-> 3213\u001b[0;31m       \u001b[0mgraph_function\u001b[0m \u001b[0;34m=\u001b[0m \u001b[0mself\u001b[0m\u001b[0;34m.\u001b[0m\u001b[0m_create_graph_function\u001b[0m\u001b[0;34m(\u001b[0m\u001b[0margs\u001b[0m\u001b[0;34m,\u001b[0m \u001b[0mkwargs\u001b[0m\u001b[0;34m)\u001b[0m\u001b[0;34m\u001b[0m\u001b[0;34m\u001b[0m\u001b[0m\n\u001b[0m\u001b[1;32m   3214\u001b[0m       \u001b[0mself\u001b[0m\u001b[0;34m.\u001b[0m\u001b[0m_function_cache\u001b[0m\u001b[0;34m.\u001b[0m\u001b[0mprimary\u001b[0m\u001b[0;34m[\u001b[0m\u001b[0mcache_key\u001b[0m\u001b[0;34m]\u001b[0m \u001b[0;34m=\u001b[0m \u001b[0mgraph_function\u001b[0m\u001b[0;34m\u001b[0m\u001b[0;34m\u001b[0m\u001b[0m\n\u001b[1;32m   3215\u001b[0m       \u001b[0;32mreturn\u001b[0m \u001b[0mgraph_function\u001b[0m\u001b[0;34m,\u001b[0m \u001b[0margs\u001b[0m\u001b[0;34m,\u001b[0m \u001b[0mkwargs\u001b[0m\u001b[0;34m\u001b[0m\u001b[0;34m\u001b[0m\u001b[0m\n",
      "\u001b[0;32m~/machine_learning/ml_env/lib/python3.8/site-packages/tensorflow/python/eager/function.py\u001b[0m in \u001b[0;36m_create_graph_function\u001b[0;34m(self, args, kwargs, override_flat_arg_shapes)\u001b[0m\n\u001b[1;32m   3063\u001b[0m     \u001b[0marg_names\u001b[0m \u001b[0;34m=\u001b[0m \u001b[0mbase_arg_names\u001b[0m \u001b[0;34m+\u001b[0m \u001b[0mmissing_arg_names\u001b[0m\u001b[0;34m\u001b[0m\u001b[0;34m\u001b[0m\u001b[0m\n\u001b[1;32m   3064\u001b[0m     graph_function = ConcreteFunction(\n\u001b[0;32m-> 3065\u001b[0;31m         func_graph_module.func_graph_from_py_func(\n\u001b[0m\u001b[1;32m   3066\u001b[0m             \u001b[0mself\u001b[0m\u001b[0;34m.\u001b[0m\u001b[0m_name\u001b[0m\u001b[0;34m,\u001b[0m\u001b[0;34m\u001b[0m\u001b[0;34m\u001b[0m\u001b[0m\n\u001b[1;32m   3067\u001b[0m             \u001b[0mself\u001b[0m\u001b[0;34m.\u001b[0m\u001b[0m_python_function\u001b[0m\u001b[0;34m,\u001b[0m\u001b[0;34m\u001b[0m\u001b[0;34m\u001b[0m\u001b[0m\n",
      "\u001b[0;32m~/machine_learning/ml_env/lib/python3.8/site-packages/tensorflow/python/framework/func_graph.py\u001b[0m in \u001b[0;36mfunc_graph_from_py_func\u001b[0;34m(name, python_func, args, kwargs, signature, func_graph, autograph, autograph_options, add_control_dependencies, arg_names, op_return_value, collections, capture_by_value, override_flat_arg_shapes)\u001b[0m\n\u001b[1;32m    984\u001b[0m         \u001b[0m_\u001b[0m\u001b[0;34m,\u001b[0m \u001b[0moriginal_func\u001b[0m \u001b[0;34m=\u001b[0m \u001b[0mtf_decorator\u001b[0m\u001b[0;34m.\u001b[0m\u001b[0munwrap\u001b[0m\u001b[0;34m(\u001b[0m\u001b[0mpython_func\u001b[0m\u001b[0;34m)\u001b[0m\u001b[0;34m\u001b[0m\u001b[0;34m\u001b[0m\u001b[0m\n\u001b[1;32m    985\u001b[0m \u001b[0;34m\u001b[0m\u001b[0m\n\u001b[0;32m--> 986\u001b[0;31m       \u001b[0mfunc_outputs\u001b[0m \u001b[0;34m=\u001b[0m \u001b[0mpython_func\u001b[0m\u001b[0;34m(\u001b[0m\u001b[0;34m*\u001b[0m\u001b[0mfunc_args\u001b[0m\u001b[0;34m,\u001b[0m \u001b[0;34m**\u001b[0m\u001b[0mfunc_kwargs\u001b[0m\u001b[0;34m)\u001b[0m\u001b[0;34m\u001b[0m\u001b[0;34m\u001b[0m\u001b[0m\n\u001b[0m\u001b[1;32m    987\u001b[0m \u001b[0;34m\u001b[0m\u001b[0m\n\u001b[1;32m    988\u001b[0m       \u001b[0;31m# invariant: `func_outputs` contains only Tensors, CompositeTensors,\u001b[0m\u001b[0;34m\u001b[0m\u001b[0;34m\u001b[0m\u001b[0;34m\u001b[0m\u001b[0m\n",
      "\u001b[0;32m~/machine_learning/ml_env/lib/python3.8/site-packages/tensorflow/python/eager/def_function.py\u001b[0m in \u001b[0;36mwrapped_fn\u001b[0;34m(*args, **kwds)\u001b[0m\n\u001b[1;32m    598\u001b[0m         \u001b[0;31m# __wrapped__ allows AutoGraph to swap in a converted function. We give\u001b[0m\u001b[0;34m\u001b[0m\u001b[0;34m\u001b[0m\u001b[0;34m\u001b[0m\u001b[0m\n\u001b[1;32m    599\u001b[0m         \u001b[0;31m# the function a weak reference to itself to avoid a reference cycle.\u001b[0m\u001b[0;34m\u001b[0m\u001b[0;34m\u001b[0m\u001b[0;34m\u001b[0m\u001b[0m\n\u001b[0;32m--> 600\u001b[0;31m         \u001b[0;32mreturn\u001b[0m \u001b[0mweak_wrapped_fn\u001b[0m\u001b[0;34m(\u001b[0m\u001b[0;34m)\u001b[0m\u001b[0;34m.\u001b[0m\u001b[0m__wrapped__\u001b[0m\u001b[0;34m(\u001b[0m\u001b[0;34m*\u001b[0m\u001b[0margs\u001b[0m\u001b[0;34m,\u001b[0m \u001b[0;34m**\u001b[0m\u001b[0mkwds\u001b[0m\u001b[0;34m)\u001b[0m\u001b[0;34m\u001b[0m\u001b[0;34m\u001b[0m\u001b[0m\n\u001b[0m\u001b[1;32m    601\u001b[0m     \u001b[0mweak_wrapped_fn\u001b[0m \u001b[0;34m=\u001b[0m \u001b[0mweakref\u001b[0m\u001b[0;34m.\u001b[0m\u001b[0mref\u001b[0m\u001b[0;34m(\u001b[0m\u001b[0mwrapped_fn\u001b[0m\u001b[0;34m)\u001b[0m\u001b[0;34m\u001b[0m\u001b[0;34m\u001b[0m\u001b[0m\n\u001b[1;32m    602\u001b[0m \u001b[0;34m\u001b[0m\u001b[0m\n",
      "\u001b[0;32m~/machine_learning/ml_env/lib/python3.8/site-packages/tensorflow/python/framework/func_graph.py\u001b[0m in \u001b[0;36mwrapper\u001b[0;34m(*args, **kwargs)\u001b[0m\n\u001b[1;32m    960\u001b[0m           \u001b[0;31m# TODO(mdan): Push this block higher in tf.function's call stack.\u001b[0m\u001b[0;34m\u001b[0m\u001b[0;34m\u001b[0m\u001b[0;34m\u001b[0m\u001b[0m\n\u001b[1;32m    961\u001b[0m           \u001b[0;32mtry\u001b[0m\u001b[0;34m:\u001b[0m\u001b[0;34m\u001b[0m\u001b[0;34m\u001b[0m\u001b[0m\n\u001b[0;32m--> 962\u001b[0;31m             return autograph.converted_call(\n\u001b[0m\u001b[1;32m    963\u001b[0m                 \u001b[0moriginal_func\u001b[0m\u001b[0;34m,\u001b[0m\u001b[0;34m\u001b[0m\u001b[0;34m\u001b[0m\u001b[0m\n\u001b[1;32m    964\u001b[0m                 \u001b[0margs\u001b[0m\u001b[0;34m,\u001b[0m\u001b[0;34m\u001b[0m\u001b[0;34m\u001b[0m\u001b[0m\n",
      "\u001b[0;32m~/machine_learning/ml_env/lib/python3.8/site-packages/tensorflow/python/autograph/impl/api.py\u001b[0m in \u001b[0;36mconverted_call\u001b[0;34m(f, args, kwargs, caller_fn_scope, options)\u001b[0m\n\u001b[1;32m    594\u001b[0m     \u001b[0;32mtry\u001b[0m\u001b[0;34m:\u001b[0m\u001b[0;34m\u001b[0m\u001b[0;34m\u001b[0m\u001b[0m\n\u001b[1;32m    595\u001b[0m       \u001b[0;32mif\u001b[0m \u001b[0mkwargs\u001b[0m \u001b[0;32mis\u001b[0m \u001b[0;32mnot\u001b[0m \u001b[0;32mNone\u001b[0m\u001b[0;34m:\u001b[0m\u001b[0;34m\u001b[0m\u001b[0;34m\u001b[0m\u001b[0m\n\u001b[0;32m--> 596\u001b[0;31m         \u001b[0mresult\u001b[0m \u001b[0;34m=\u001b[0m \u001b[0mconverted_f\u001b[0m\u001b[0;34m(\u001b[0m\u001b[0;34m*\u001b[0m\u001b[0meffective_args\u001b[0m\u001b[0;34m,\u001b[0m \u001b[0;34m**\u001b[0m\u001b[0mkwargs\u001b[0m\u001b[0;34m)\u001b[0m\u001b[0;34m\u001b[0m\u001b[0;34m\u001b[0m\u001b[0m\n\u001b[0m\u001b[1;32m    597\u001b[0m       \u001b[0;32melse\u001b[0m\u001b[0;34m:\u001b[0m\u001b[0;34m\u001b[0m\u001b[0;34m\u001b[0m\u001b[0m\n\u001b[1;32m    598\u001b[0m         \u001b[0mresult\u001b[0m \u001b[0;34m=\u001b[0m \u001b[0mconverted_f\u001b[0m\u001b[0;34m(\u001b[0m\u001b[0;34m*\u001b[0m\u001b[0meffective_args\u001b[0m\u001b[0;34m)\u001b[0m\u001b[0;34m\u001b[0m\u001b[0;34m\u001b[0m\u001b[0m\n",
      "\u001b[0;32m~/machine_learning/ml_env/lib/python3.8/site-packages/tensorflow/python/keras/engine/training.py\u001b[0m in \u001b[0;36mtf__test_function\u001b[0;34m(iterator)\u001b[0m\n\u001b[1;32m     14\u001b[0m                 \u001b[0;32mtry\u001b[0m\u001b[0;34m:\u001b[0m\u001b[0;34m\u001b[0m\u001b[0;34m\u001b[0m\u001b[0m\n\u001b[1;32m     15\u001b[0m                     \u001b[0mdo_return\u001b[0m \u001b[0;34m=\u001b[0m \u001b[0;32mTrue\u001b[0m\u001b[0;34m\u001b[0m\u001b[0;34m\u001b[0m\u001b[0m\n\u001b[0;32m---> 16\u001b[0;31m                     \u001b[0mretval_\u001b[0m \u001b[0;34m=\u001b[0m \u001b[0mag__\u001b[0m\u001b[0;34m.\u001b[0m\u001b[0mconverted_call\u001b[0m\u001b[0;34m(\u001b[0m\u001b[0mag__\u001b[0m\u001b[0;34m.\u001b[0m\u001b[0mld\u001b[0m\u001b[0;34m(\u001b[0m\u001b[0mstep_function\u001b[0m\u001b[0;34m)\u001b[0m\u001b[0;34m,\u001b[0m \u001b[0;34m(\u001b[0m\u001b[0mag__\u001b[0m\u001b[0;34m.\u001b[0m\u001b[0mld\u001b[0m\u001b[0;34m(\u001b[0m\u001b[0mself\u001b[0m\u001b[0;34m)\u001b[0m\u001b[0;34m,\u001b[0m \u001b[0mag__\u001b[0m\u001b[0;34m.\u001b[0m\u001b[0mld\u001b[0m\u001b[0;34m(\u001b[0m\u001b[0miterator\u001b[0m\u001b[0;34m)\u001b[0m\u001b[0;34m)\u001b[0m\u001b[0;34m,\u001b[0m \u001b[0;32mNone\u001b[0m\u001b[0;34m,\u001b[0m \u001b[0mfscope\u001b[0m\u001b[0;34m)\u001b[0m\u001b[0;34m\u001b[0m\u001b[0;34m\u001b[0m\u001b[0m\n\u001b[0m\u001b[1;32m     17\u001b[0m                 \u001b[0;32mexcept\u001b[0m\u001b[0;34m:\u001b[0m\u001b[0;34m\u001b[0m\u001b[0;34m\u001b[0m\u001b[0m\n\u001b[1;32m     18\u001b[0m                     \u001b[0mdo_return\u001b[0m \u001b[0;34m=\u001b[0m \u001b[0;32mFalse\u001b[0m\u001b[0;34m\u001b[0m\u001b[0;34m\u001b[0m\u001b[0m\n",
      "\u001b[0;32m~/machine_learning/ml_env/lib/python3.8/site-packages/tensorflow/python/autograph/impl/api.py\u001b[0m in \u001b[0;36mconverted_call\u001b[0;34m(f, args, kwargs, caller_fn_scope, options)\u001b[0m\n\u001b[1;32m    530\u001b[0m \u001b[0;34m\u001b[0m\u001b[0m\n\u001b[1;32m    531\u001b[0m   \u001b[0;32mif\u001b[0m \u001b[0;32mnot\u001b[0m \u001b[0moptions\u001b[0m\u001b[0;34m.\u001b[0m\u001b[0muser_requested\u001b[0m \u001b[0;32mand\u001b[0m \u001b[0mconversion\u001b[0m\u001b[0;34m.\u001b[0m\u001b[0mis_whitelisted\u001b[0m\u001b[0;34m(\u001b[0m\u001b[0mf\u001b[0m\u001b[0;34m)\u001b[0m\u001b[0;34m:\u001b[0m\u001b[0;34m\u001b[0m\u001b[0;34m\u001b[0m\u001b[0m\n\u001b[0;32m--> 532\u001b[0;31m     \u001b[0;32mreturn\u001b[0m \u001b[0m_call_unconverted\u001b[0m\u001b[0;34m(\u001b[0m\u001b[0mf\u001b[0m\u001b[0;34m,\u001b[0m \u001b[0margs\u001b[0m\u001b[0;34m,\u001b[0m \u001b[0mkwargs\u001b[0m\u001b[0;34m,\u001b[0m \u001b[0moptions\u001b[0m\u001b[0;34m)\u001b[0m\u001b[0;34m\u001b[0m\u001b[0;34m\u001b[0m\u001b[0m\n\u001b[0m\u001b[1;32m    533\u001b[0m \u001b[0;34m\u001b[0m\u001b[0m\n\u001b[1;32m    534\u001b[0m   \u001b[0;31m# internal_convert_user_code is for example turned off when issuing a dynamic\u001b[0m\u001b[0;34m\u001b[0m\u001b[0;34m\u001b[0m\u001b[0;34m\u001b[0m\u001b[0m\n",
      "\u001b[0;32m~/machine_learning/ml_env/lib/python3.8/site-packages/tensorflow/python/autograph/impl/api.py\u001b[0m in \u001b[0;36m_call_unconverted\u001b[0;34m(f, args, kwargs, options, update_cache)\u001b[0m\n\u001b[1;32m    338\u001b[0m   \u001b[0;32mif\u001b[0m \u001b[0mkwargs\u001b[0m \u001b[0;32mis\u001b[0m \u001b[0;32mnot\u001b[0m \u001b[0;32mNone\u001b[0m\u001b[0;34m:\u001b[0m\u001b[0;34m\u001b[0m\u001b[0;34m\u001b[0m\u001b[0m\n\u001b[1;32m    339\u001b[0m     \u001b[0;32mreturn\u001b[0m \u001b[0mf\u001b[0m\u001b[0;34m(\u001b[0m\u001b[0;34m*\u001b[0m\u001b[0margs\u001b[0m\u001b[0;34m,\u001b[0m \u001b[0;34m**\u001b[0m\u001b[0mkwargs\u001b[0m\u001b[0;34m)\u001b[0m\u001b[0;34m\u001b[0m\u001b[0;34m\u001b[0m\u001b[0m\n\u001b[0;32m--> 340\u001b[0;31m   \u001b[0;32mreturn\u001b[0m \u001b[0mf\u001b[0m\u001b[0;34m(\u001b[0m\u001b[0;34m*\u001b[0m\u001b[0margs\u001b[0m\u001b[0;34m)\u001b[0m\u001b[0;34m\u001b[0m\u001b[0;34m\u001b[0m\u001b[0m\n\u001b[0m\u001b[1;32m    341\u001b[0m \u001b[0;34m\u001b[0m\u001b[0m\n\u001b[1;32m    342\u001b[0m \u001b[0;34m\u001b[0m\u001b[0m\n",
      "\u001b[0;32m~/machine_learning/ml_env/lib/python3.8/site-packages/tensorflow/python/keras/engine/training.py\u001b[0m in \u001b[0;36mstep_function\u001b[0;34m(model, iterator)\u001b[0m\n\u001b[1;32m   1213\u001b[0m \u001b[0;34m\u001b[0m\u001b[0m\n\u001b[1;32m   1214\u001b[0m       \u001b[0mdata\u001b[0m \u001b[0;34m=\u001b[0m \u001b[0mnext\u001b[0m\u001b[0;34m(\u001b[0m\u001b[0miterator\u001b[0m\u001b[0;34m)\u001b[0m\u001b[0;34m\u001b[0m\u001b[0;34m\u001b[0m\u001b[0m\n\u001b[0;32m-> 1215\u001b[0;31m       \u001b[0moutputs\u001b[0m \u001b[0;34m=\u001b[0m \u001b[0mmodel\u001b[0m\u001b[0;34m.\u001b[0m\u001b[0mdistribute_strategy\u001b[0m\u001b[0;34m.\u001b[0m\u001b[0mrun\u001b[0m\u001b[0;34m(\u001b[0m\u001b[0mrun_step\u001b[0m\u001b[0;34m,\u001b[0m \u001b[0margs\u001b[0m\u001b[0;34m=\u001b[0m\u001b[0;34m(\u001b[0m\u001b[0mdata\u001b[0m\u001b[0;34m,\u001b[0m\u001b[0;34m)\u001b[0m\u001b[0;34m)\u001b[0m\u001b[0;34m\u001b[0m\u001b[0;34m\u001b[0m\u001b[0m\n\u001b[0m\u001b[1;32m   1216\u001b[0m       outputs = reduce_per_replica(\n\u001b[1;32m   1217\u001b[0m           outputs, self.distribute_strategy, reduction='first')\n",
      "\u001b[0;32m~/machine_learning/ml_env/lib/python3.8/site-packages/tensorflow/python/distribute/distribute_lib.py\u001b[0m in \u001b[0;36mrun\u001b[0;34m(***failed resolving arguments***)\u001b[0m\n\u001b[1;32m   1209\u001b[0m       fn = autograph.tf_convert(\n\u001b[1;32m   1210\u001b[0m           fn, autograph_ctx.control_status_ctx(), convert_by_default=False)\n\u001b[0;32m-> 1211\u001b[0;31m       \u001b[0;32mreturn\u001b[0m \u001b[0mself\u001b[0m\u001b[0;34m.\u001b[0m\u001b[0m_extended\u001b[0m\u001b[0;34m.\u001b[0m\u001b[0mcall_for_each_replica\u001b[0m\u001b[0;34m(\u001b[0m\u001b[0mfn\u001b[0m\u001b[0;34m,\u001b[0m \u001b[0margs\u001b[0m\u001b[0;34m=\u001b[0m\u001b[0margs\u001b[0m\u001b[0;34m,\u001b[0m \u001b[0mkwargs\u001b[0m\u001b[0;34m=\u001b[0m\u001b[0mkwargs\u001b[0m\u001b[0;34m)\u001b[0m\u001b[0;34m\u001b[0m\u001b[0;34m\u001b[0m\u001b[0m\n\u001b[0m\u001b[1;32m   1212\u001b[0m \u001b[0;34m\u001b[0m\u001b[0m\n\u001b[1;32m   1213\u001b[0m   \u001b[0;31m# TODO(b/151224785): Remove deprecated alias.\u001b[0m\u001b[0;34m\u001b[0m\u001b[0;34m\u001b[0m\u001b[0;34m\u001b[0m\u001b[0m\n",
      "\u001b[0;32m~/machine_learning/ml_env/lib/python3.8/site-packages/tensorflow/python/distribute/distribute_lib.py\u001b[0m in \u001b[0;36mcall_for_each_replica\u001b[0;34m(self, fn, args, kwargs)\u001b[0m\n\u001b[1;32m   2583\u001b[0m       \u001b[0mkwargs\u001b[0m \u001b[0;34m=\u001b[0m \u001b[0;34m{\u001b[0m\u001b[0;34m}\u001b[0m\u001b[0;34m\u001b[0m\u001b[0;34m\u001b[0m\u001b[0m\n\u001b[1;32m   2584\u001b[0m     \u001b[0;32mwith\u001b[0m \u001b[0mself\u001b[0m\u001b[0;34m.\u001b[0m\u001b[0m_container_strategy\u001b[0m\u001b[0;34m(\u001b[0m\u001b[0;34m)\u001b[0m\u001b[0;34m.\u001b[0m\u001b[0mscope\u001b[0m\u001b[0;34m(\u001b[0m\u001b[0;34m)\u001b[0m\u001b[0;34m:\u001b[0m\u001b[0;34m\u001b[0m\u001b[0;34m\u001b[0m\u001b[0m\n\u001b[0;32m-> 2585\u001b[0;31m       \u001b[0;32mreturn\u001b[0m \u001b[0mself\u001b[0m\u001b[0;34m.\u001b[0m\u001b[0m_call_for_each_replica\u001b[0m\u001b[0;34m(\u001b[0m\u001b[0mfn\u001b[0m\u001b[0;34m,\u001b[0m \u001b[0margs\u001b[0m\u001b[0;34m,\u001b[0m \u001b[0mkwargs\u001b[0m\u001b[0;34m)\u001b[0m\u001b[0;34m\u001b[0m\u001b[0;34m\u001b[0m\u001b[0m\n\u001b[0m\u001b[1;32m   2586\u001b[0m \u001b[0;34m\u001b[0m\u001b[0m\n\u001b[1;32m   2587\u001b[0m   \u001b[0;32mdef\u001b[0m \u001b[0m_call_for_each_replica\u001b[0m\u001b[0;34m(\u001b[0m\u001b[0mself\u001b[0m\u001b[0;34m,\u001b[0m \u001b[0mfn\u001b[0m\u001b[0;34m,\u001b[0m \u001b[0margs\u001b[0m\u001b[0;34m,\u001b[0m \u001b[0mkwargs\u001b[0m\u001b[0;34m)\u001b[0m\u001b[0;34m:\u001b[0m\u001b[0;34m\u001b[0m\u001b[0;34m\u001b[0m\u001b[0m\n",
      "\u001b[0;32m~/machine_learning/ml_env/lib/python3.8/site-packages/tensorflow/python/distribute/distribute_lib.py\u001b[0m in \u001b[0;36m_call_for_each_replica\u001b[0;34m(self, fn, args, kwargs)\u001b[0m\n\u001b[1;32m   2943\u001b[0m         \u001b[0mself\u001b[0m\u001b[0;34m.\u001b[0m\u001b[0m_container_strategy\u001b[0m\u001b[0;34m(\u001b[0m\u001b[0;34m)\u001b[0m\u001b[0;34m,\u001b[0m\u001b[0;34m\u001b[0m\u001b[0;34m\u001b[0m\u001b[0m\n\u001b[1;32m   2944\u001b[0m         replica_id_in_sync_group=constant_op.constant(0, dtypes.int32)):\n\u001b[0;32m-> 2945\u001b[0;31m       \u001b[0;32mreturn\u001b[0m \u001b[0mfn\u001b[0m\u001b[0;34m(\u001b[0m\u001b[0;34m*\u001b[0m\u001b[0margs\u001b[0m\u001b[0;34m,\u001b[0m \u001b[0;34m**\u001b[0m\u001b[0mkwargs\u001b[0m\u001b[0;34m)\u001b[0m\u001b[0;34m\u001b[0m\u001b[0;34m\u001b[0m\u001b[0m\n\u001b[0m\u001b[1;32m   2946\u001b[0m \u001b[0;34m\u001b[0m\u001b[0m\n\u001b[1;32m   2947\u001b[0m   \u001b[0;32mdef\u001b[0m \u001b[0m_reduce_to\u001b[0m\u001b[0;34m(\u001b[0m\u001b[0mself\u001b[0m\u001b[0;34m,\u001b[0m \u001b[0mreduce_op\u001b[0m\u001b[0;34m,\u001b[0m \u001b[0mvalue\u001b[0m\u001b[0;34m,\u001b[0m \u001b[0mdestinations\u001b[0m\u001b[0;34m,\u001b[0m \u001b[0mexperimental_hints\u001b[0m\u001b[0;34m)\u001b[0m\u001b[0;34m:\u001b[0m\u001b[0;34m\u001b[0m\u001b[0;34m\u001b[0m\u001b[0m\n",
      "\u001b[0;32m~/machine_learning/ml_env/lib/python3.8/site-packages/tensorflow/python/autograph/impl/api.py\u001b[0m in \u001b[0;36mwrapper\u001b[0;34m(*args, **kwargs)\u001b[0m\n\u001b[1;32m    253\u001b[0m       \u001b[0;32mtry\u001b[0m\u001b[0;34m:\u001b[0m\u001b[0;34m\u001b[0m\u001b[0;34m\u001b[0m\u001b[0m\n\u001b[1;32m    254\u001b[0m         \u001b[0;32mwith\u001b[0m \u001b[0mconversion_ctx\u001b[0m\u001b[0;34m:\u001b[0m\u001b[0;34m\u001b[0m\u001b[0;34m\u001b[0m\u001b[0m\n\u001b[0;32m--> 255\u001b[0;31m           \u001b[0;32mreturn\u001b[0m \u001b[0mconverted_call\u001b[0m\u001b[0;34m(\u001b[0m\u001b[0mf\u001b[0m\u001b[0;34m,\u001b[0m \u001b[0margs\u001b[0m\u001b[0;34m,\u001b[0m \u001b[0mkwargs\u001b[0m\u001b[0;34m,\u001b[0m \u001b[0moptions\u001b[0m\u001b[0;34m=\u001b[0m\u001b[0moptions\u001b[0m\u001b[0;34m)\u001b[0m\u001b[0;34m\u001b[0m\u001b[0;34m\u001b[0m\u001b[0m\n\u001b[0m\u001b[1;32m    256\u001b[0m       \u001b[0;32mexcept\u001b[0m \u001b[0mException\u001b[0m \u001b[0;32mas\u001b[0m \u001b[0me\u001b[0m\u001b[0;34m:\u001b[0m  \u001b[0;31m# pylint:disable=broad-except\u001b[0m\u001b[0;34m\u001b[0m\u001b[0;34m\u001b[0m\u001b[0m\n\u001b[1;32m    257\u001b[0m         \u001b[0;32mif\u001b[0m \u001b[0mhasattr\u001b[0m\u001b[0;34m(\u001b[0m\u001b[0me\u001b[0m\u001b[0;34m,\u001b[0m \u001b[0;34m'ag_error_metadata'\u001b[0m\u001b[0;34m)\u001b[0m\u001b[0;34m:\u001b[0m\u001b[0;34m\u001b[0m\u001b[0;34m\u001b[0m\u001b[0m\n",
      "\u001b[0;32m~/machine_learning/ml_env/lib/python3.8/site-packages/tensorflow/python/autograph/impl/api.py\u001b[0m in \u001b[0;36mconverted_call\u001b[0;34m(f, args, kwargs, caller_fn_scope, options)\u001b[0m\n\u001b[1;32m    530\u001b[0m \u001b[0;34m\u001b[0m\u001b[0m\n\u001b[1;32m    531\u001b[0m   \u001b[0;32mif\u001b[0m \u001b[0;32mnot\u001b[0m \u001b[0moptions\u001b[0m\u001b[0;34m.\u001b[0m\u001b[0muser_requested\u001b[0m \u001b[0;32mand\u001b[0m \u001b[0mconversion\u001b[0m\u001b[0;34m.\u001b[0m\u001b[0mis_whitelisted\u001b[0m\u001b[0;34m(\u001b[0m\u001b[0mf\u001b[0m\u001b[0;34m)\u001b[0m\u001b[0;34m:\u001b[0m\u001b[0;34m\u001b[0m\u001b[0;34m\u001b[0m\u001b[0m\n\u001b[0;32m--> 532\u001b[0;31m     \u001b[0;32mreturn\u001b[0m \u001b[0m_call_unconverted\u001b[0m\u001b[0;34m(\u001b[0m\u001b[0mf\u001b[0m\u001b[0;34m,\u001b[0m \u001b[0margs\u001b[0m\u001b[0;34m,\u001b[0m \u001b[0mkwargs\u001b[0m\u001b[0;34m,\u001b[0m \u001b[0moptions\u001b[0m\u001b[0;34m)\u001b[0m\u001b[0;34m\u001b[0m\u001b[0;34m\u001b[0m\u001b[0m\n\u001b[0m\u001b[1;32m    533\u001b[0m \u001b[0;34m\u001b[0m\u001b[0m\n\u001b[1;32m    534\u001b[0m   \u001b[0;31m# internal_convert_user_code is for example turned off when issuing a dynamic\u001b[0m\u001b[0;34m\u001b[0m\u001b[0;34m\u001b[0m\u001b[0;34m\u001b[0m\u001b[0m\n",
      "\u001b[0;32m~/machine_learning/ml_env/lib/python3.8/site-packages/tensorflow/python/autograph/impl/api.py\u001b[0m in \u001b[0;36m_call_unconverted\u001b[0;34m(f, args, kwargs, options, update_cache)\u001b[0m\n\u001b[1;32m    337\u001b[0m \u001b[0;34m\u001b[0m\u001b[0m\n\u001b[1;32m    338\u001b[0m   \u001b[0;32mif\u001b[0m \u001b[0mkwargs\u001b[0m \u001b[0;32mis\u001b[0m \u001b[0;32mnot\u001b[0m \u001b[0;32mNone\u001b[0m\u001b[0;34m:\u001b[0m\u001b[0;34m\u001b[0m\u001b[0;34m\u001b[0m\u001b[0m\n\u001b[0;32m--> 339\u001b[0;31m     \u001b[0;32mreturn\u001b[0m \u001b[0mf\u001b[0m\u001b[0;34m(\u001b[0m\u001b[0;34m*\u001b[0m\u001b[0margs\u001b[0m\u001b[0;34m,\u001b[0m \u001b[0;34m**\u001b[0m\u001b[0mkwargs\u001b[0m\u001b[0;34m)\u001b[0m\u001b[0;34m\u001b[0m\u001b[0;34m\u001b[0m\u001b[0m\n\u001b[0m\u001b[1;32m    340\u001b[0m   \u001b[0;32mreturn\u001b[0m \u001b[0mf\u001b[0m\u001b[0;34m(\u001b[0m\u001b[0;34m*\u001b[0m\u001b[0margs\u001b[0m\u001b[0;34m)\u001b[0m\u001b[0;34m\u001b[0m\u001b[0;34m\u001b[0m\u001b[0m\n\u001b[1;32m    341\u001b[0m \u001b[0;34m\u001b[0m\u001b[0m\n",
      "\u001b[0;32m~/machine_learning/ml_env/lib/python3.8/site-packages/tensorflow/python/keras/engine/training.py\u001b[0m in \u001b[0;36mrun_step\u001b[0;34m(data)\u001b[0m\n\u001b[1;32m   1206\u001b[0m \u001b[0;34m\u001b[0m\u001b[0m\n\u001b[1;32m   1207\u001b[0m       \u001b[0;32mdef\u001b[0m \u001b[0mrun_step\u001b[0m\u001b[0;34m(\u001b[0m\u001b[0mdata\u001b[0m\u001b[0;34m)\u001b[0m\u001b[0;34m:\u001b[0m\u001b[0;34m\u001b[0m\u001b[0;34m\u001b[0m\u001b[0m\n\u001b[0;32m-> 1208\u001b[0;31m         \u001b[0moutputs\u001b[0m \u001b[0;34m=\u001b[0m \u001b[0mmodel\u001b[0m\u001b[0;34m.\u001b[0m\u001b[0mtest_step\u001b[0m\u001b[0;34m(\u001b[0m\u001b[0mdata\u001b[0m\u001b[0;34m)\u001b[0m\u001b[0;34m\u001b[0m\u001b[0;34m\u001b[0m\u001b[0m\n\u001b[0m\u001b[1;32m   1209\u001b[0m         \u001b[0;31m# Ensure counter is updated only if `test_step` succeeds.\u001b[0m\u001b[0;34m\u001b[0m\u001b[0;34m\u001b[0m\u001b[0;34m\u001b[0m\u001b[0m\n\u001b[1;32m   1210\u001b[0m         \u001b[0;32mwith\u001b[0m \u001b[0mops\u001b[0m\u001b[0;34m.\u001b[0m\u001b[0mcontrol_dependencies\u001b[0m\u001b[0;34m(\u001b[0m\u001b[0m_minimum_control_deps\u001b[0m\u001b[0;34m(\u001b[0m\u001b[0moutputs\u001b[0m\u001b[0;34m)\u001b[0m\u001b[0;34m)\u001b[0m\u001b[0;34m:\u001b[0m\u001b[0;34m\u001b[0m\u001b[0;34m\u001b[0m\u001b[0m\n",
      "\u001b[0;32m~/machine_learning/ml_env/lib/python3.8/site-packages/tensorflow/python/keras/engine/training.py\u001b[0m in \u001b[0;36mtest_step\u001b[0;34m(self, data)\u001b[0m\n\u001b[1;32m   1174\u001b[0m     \u001b[0my_pred\u001b[0m \u001b[0;34m=\u001b[0m \u001b[0mself\u001b[0m\u001b[0;34m(\u001b[0m\u001b[0mx\u001b[0m\u001b[0;34m,\u001b[0m \u001b[0mtraining\u001b[0m\u001b[0;34m=\u001b[0m\u001b[0;32mFalse\u001b[0m\u001b[0;34m)\u001b[0m\u001b[0;34m\u001b[0m\u001b[0;34m\u001b[0m\u001b[0m\n\u001b[1;32m   1175\u001b[0m     \u001b[0;31m# Updates stateful loss metrics.\u001b[0m\u001b[0;34m\u001b[0m\u001b[0;34m\u001b[0m\u001b[0;34m\u001b[0m\u001b[0m\n\u001b[0;32m-> 1176\u001b[0;31m     self.compiled_loss(\n\u001b[0m\u001b[1;32m   1177\u001b[0m         y, y_pred, sample_weight, regularization_losses=self.losses)\n\u001b[1;32m   1178\u001b[0m \u001b[0;34m\u001b[0m\u001b[0m\n",
      "\u001b[0;32m~/machine_learning/ml_env/lib/python3.8/site-packages/tensorflow/python/keras/engine/compile_utils.py\u001b[0m in \u001b[0;36m__call__\u001b[0;34m(self, y_true, y_pred, sample_weight, regularization_losses)\u001b[0m\n\u001b[1;32m    202\u001b[0m       \u001b[0my_t\u001b[0m\u001b[0;34m,\u001b[0m \u001b[0my_p\u001b[0m\u001b[0;34m,\u001b[0m \u001b[0msw\u001b[0m \u001b[0;34m=\u001b[0m \u001b[0mmatch_dtype_and_rank\u001b[0m\u001b[0;34m(\u001b[0m\u001b[0my_t\u001b[0m\u001b[0;34m,\u001b[0m \u001b[0my_p\u001b[0m\u001b[0;34m,\u001b[0m \u001b[0msw\u001b[0m\u001b[0;34m)\u001b[0m\u001b[0;34m\u001b[0m\u001b[0;34m\u001b[0m\u001b[0m\n\u001b[1;32m    203\u001b[0m       \u001b[0msw\u001b[0m \u001b[0;34m=\u001b[0m \u001b[0mapply_mask\u001b[0m\u001b[0;34m(\u001b[0m\u001b[0my_p\u001b[0m\u001b[0;34m,\u001b[0m \u001b[0msw\u001b[0m\u001b[0;34m,\u001b[0m \u001b[0mget_mask\u001b[0m\u001b[0;34m(\u001b[0m\u001b[0my_p\u001b[0m\u001b[0;34m)\u001b[0m\u001b[0;34m)\u001b[0m\u001b[0;34m\u001b[0m\u001b[0;34m\u001b[0m\u001b[0m\n\u001b[0;32m--> 204\u001b[0;31m       \u001b[0mloss_value\u001b[0m \u001b[0;34m=\u001b[0m \u001b[0mloss_obj\u001b[0m\u001b[0;34m(\u001b[0m\u001b[0my_t\u001b[0m\u001b[0;34m,\u001b[0m \u001b[0my_p\u001b[0m\u001b[0;34m,\u001b[0m \u001b[0msample_weight\u001b[0m\u001b[0;34m=\u001b[0m\u001b[0msw\u001b[0m\u001b[0;34m)\u001b[0m\u001b[0;34m\u001b[0m\u001b[0;34m\u001b[0m\u001b[0m\n\u001b[0m\u001b[1;32m    205\u001b[0m \u001b[0;34m\u001b[0m\u001b[0m\n\u001b[1;32m    206\u001b[0m       \u001b[0mloss_metric_value\u001b[0m \u001b[0;34m=\u001b[0m \u001b[0mloss_value\u001b[0m\u001b[0;34m\u001b[0m\u001b[0;34m\u001b[0m\u001b[0m\n",
      "\u001b[0;32m~/machine_learning/ml_env/lib/python3.8/site-packages/tensorflow/python/keras/losses.py\u001b[0m in \u001b[0;36m__call__\u001b[0;34m(self, y_true, y_pred, sample_weight)\u001b[0m\n\u001b[1;32m    147\u001b[0m     \u001b[0;32mwith\u001b[0m \u001b[0mK\u001b[0m\u001b[0;34m.\u001b[0m\u001b[0mname_scope\u001b[0m\u001b[0;34m(\u001b[0m\u001b[0mself\u001b[0m\u001b[0;34m.\u001b[0m\u001b[0m_name_scope\u001b[0m\u001b[0;34m)\u001b[0m\u001b[0;34m,\u001b[0m \u001b[0mgraph_ctx\u001b[0m\u001b[0;34m:\u001b[0m\u001b[0;34m\u001b[0m\u001b[0;34m\u001b[0m\u001b[0m\n\u001b[1;32m    148\u001b[0m       \u001b[0mag_call\u001b[0m \u001b[0;34m=\u001b[0m \u001b[0mautograph\u001b[0m\u001b[0;34m.\u001b[0m\u001b[0mtf_convert\u001b[0m\u001b[0;34m(\u001b[0m\u001b[0mself\u001b[0m\u001b[0;34m.\u001b[0m\u001b[0mcall\u001b[0m\u001b[0;34m,\u001b[0m \u001b[0mag_ctx\u001b[0m\u001b[0;34m.\u001b[0m\u001b[0mcontrol_status_ctx\u001b[0m\u001b[0;34m(\u001b[0m\u001b[0;34m)\u001b[0m\u001b[0;34m)\u001b[0m\u001b[0;34m\u001b[0m\u001b[0;34m\u001b[0m\u001b[0m\n\u001b[0;32m--> 149\u001b[0;31m       \u001b[0mlosses\u001b[0m \u001b[0;34m=\u001b[0m \u001b[0mag_call\u001b[0m\u001b[0;34m(\u001b[0m\u001b[0my_true\u001b[0m\u001b[0;34m,\u001b[0m \u001b[0my_pred\u001b[0m\u001b[0;34m)\u001b[0m\u001b[0;34m\u001b[0m\u001b[0;34m\u001b[0m\u001b[0m\n\u001b[0m\u001b[1;32m    150\u001b[0m       return losses_utils.compute_weighted_loss(\n\u001b[1;32m    151\u001b[0m           losses, sample_weight, reduction=self._get_reduction())\n",
      "\u001b[0;32m~/machine_learning/ml_env/lib/python3.8/site-packages/tensorflow/python/autograph/impl/api.py\u001b[0m in \u001b[0;36mwrapper\u001b[0;34m(*args, **kwargs)\u001b[0m\n\u001b[1;32m    253\u001b[0m       \u001b[0;32mtry\u001b[0m\u001b[0;34m:\u001b[0m\u001b[0;34m\u001b[0m\u001b[0;34m\u001b[0m\u001b[0m\n\u001b[1;32m    254\u001b[0m         \u001b[0;32mwith\u001b[0m \u001b[0mconversion_ctx\u001b[0m\u001b[0;34m:\u001b[0m\u001b[0;34m\u001b[0m\u001b[0;34m\u001b[0m\u001b[0m\n\u001b[0;32m--> 255\u001b[0;31m           \u001b[0;32mreturn\u001b[0m \u001b[0mconverted_call\u001b[0m\u001b[0;34m(\u001b[0m\u001b[0mf\u001b[0m\u001b[0;34m,\u001b[0m \u001b[0margs\u001b[0m\u001b[0;34m,\u001b[0m \u001b[0mkwargs\u001b[0m\u001b[0;34m,\u001b[0m \u001b[0moptions\u001b[0m\u001b[0;34m=\u001b[0m\u001b[0moptions\u001b[0m\u001b[0;34m)\u001b[0m\u001b[0;34m\u001b[0m\u001b[0;34m\u001b[0m\u001b[0m\n\u001b[0m\u001b[1;32m    256\u001b[0m       \u001b[0;32mexcept\u001b[0m \u001b[0mException\u001b[0m \u001b[0;32mas\u001b[0m \u001b[0me\u001b[0m\u001b[0;34m:\u001b[0m  \u001b[0;31m# pylint:disable=broad-except\u001b[0m\u001b[0;34m\u001b[0m\u001b[0;34m\u001b[0m\u001b[0m\n\u001b[1;32m    257\u001b[0m         \u001b[0;32mif\u001b[0m \u001b[0mhasattr\u001b[0m\u001b[0;34m(\u001b[0m\u001b[0me\u001b[0m\u001b[0;34m,\u001b[0m \u001b[0;34m'ag_error_metadata'\u001b[0m\u001b[0;34m)\u001b[0m\u001b[0;34m:\u001b[0m\u001b[0;34m\u001b[0m\u001b[0;34m\u001b[0m\u001b[0m\n",
      "\u001b[0;32m~/machine_learning/ml_env/lib/python3.8/site-packages/tensorflow/python/autograph/impl/api.py\u001b[0m in \u001b[0;36mconverted_call\u001b[0;34m(f, args, kwargs, caller_fn_scope, options)\u001b[0m\n\u001b[1;32m    455\u001b[0m   \u001b[0;32mif\u001b[0m \u001b[0mconversion\u001b[0m\u001b[0;34m.\u001b[0m\u001b[0mis_in_whitelist_cache\u001b[0m\u001b[0;34m(\u001b[0m\u001b[0mf\u001b[0m\u001b[0;34m,\u001b[0m \u001b[0moptions\u001b[0m\u001b[0;34m)\u001b[0m\u001b[0;34m:\u001b[0m\u001b[0;34m\u001b[0m\u001b[0;34m\u001b[0m\u001b[0m\n\u001b[1;32m    456\u001b[0m     \u001b[0mlogging\u001b[0m\u001b[0;34m.\u001b[0m\u001b[0mlog\u001b[0m\u001b[0;34m(\u001b[0m\u001b[0;36m2\u001b[0m\u001b[0;34m,\u001b[0m \u001b[0;34m'Whitelisted %s: from cache'\u001b[0m\u001b[0;34m,\u001b[0m \u001b[0mf\u001b[0m\u001b[0;34m)\u001b[0m\u001b[0;34m\u001b[0m\u001b[0;34m\u001b[0m\u001b[0m\n\u001b[0;32m--> 457\u001b[0;31m     \u001b[0;32mreturn\u001b[0m \u001b[0m_call_unconverted\u001b[0m\u001b[0;34m(\u001b[0m\u001b[0mf\u001b[0m\u001b[0;34m,\u001b[0m \u001b[0margs\u001b[0m\u001b[0;34m,\u001b[0m \u001b[0mkwargs\u001b[0m\u001b[0;34m,\u001b[0m \u001b[0moptions\u001b[0m\u001b[0;34m,\u001b[0m \u001b[0;32mFalse\u001b[0m\u001b[0;34m)\u001b[0m\u001b[0;34m\u001b[0m\u001b[0;34m\u001b[0m\u001b[0m\n\u001b[0m\u001b[1;32m    458\u001b[0m \u001b[0;34m\u001b[0m\u001b[0m\n\u001b[1;32m    459\u001b[0m   \u001b[0;32mif\u001b[0m \u001b[0mag_ctx\u001b[0m\u001b[0;34m.\u001b[0m\u001b[0mcontrol_status_ctx\u001b[0m\u001b[0;34m(\u001b[0m\u001b[0;34m)\u001b[0m\u001b[0;34m.\u001b[0m\u001b[0mstatus\u001b[0m \u001b[0;34m==\u001b[0m \u001b[0mag_ctx\u001b[0m\u001b[0;34m.\u001b[0m\u001b[0mStatus\u001b[0m\u001b[0;34m.\u001b[0m\u001b[0mDISABLED\u001b[0m\u001b[0;34m:\u001b[0m\u001b[0;34m\u001b[0m\u001b[0;34m\u001b[0m\u001b[0m\n",
      "\u001b[0;32m~/machine_learning/ml_env/lib/python3.8/site-packages/tensorflow/python/autograph/impl/api.py\u001b[0m in \u001b[0;36m_call_unconverted\u001b[0;34m(f, args, kwargs, options, update_cache)\u001b[0m\n\u001b[1;32m    337\u001b[0m \u001b[0;34m\u001b[0m\u001b[0m\n\u001b[1;32m    338\u001b[0m   \u001b[0;32mif\u001b[0m \u001b[0mkwargs\u001b[0m \u001b[0;32mis\u001b[0m \u001b[0;32mnot\u001b[0m \u001b[0;32mNone\u001b[0m\u001b[0;34m:\u001b[0m\u001b[0;34m\u001b[0m\u001b[0;34m\u001b[0m\u001b[0m\n\u001b[0;32m--> 339\u001b[0;31m     \u001b[0;32mreturn\u001b[0m \u001b[0mf\u001b[0m\u001b[0;34m(\u001b[0m\u001b[0;34m*\u001b[0m\u001b[0margs\u001b[0m\u001b[0;34m,\u001b[0m \u001b[0;34m**\u001b[0m\u001b[0mkwargs\u001b[0m\u001b[0;34m)\u001b[0m\u001b[0;34m\u001b[0m\u001b[0;34m\u001b[0m\u001b[0m\n\u001b[0m\u001b[1;32m    340\u001b[0m   \u001b[0;32mreturn\u001b[0m \u001b[0mf\u001b[0m\u001b[0;34m(\u001b[0m\u001b[0;34m*\u001b[0m\u001b[0margs\u001b[0m\u001b[0;34m)\u001b[0m\u001b[0;34m\u001b[0m\u001b[0;34m\u001b[0m\u001b[0m\n\u001b[1;32m    341\u001b[0m \u001b[0;34m\u001b[0m\u001b[0m\n",
      "\u001b[0;32m~/machine_learning/ml_env/lib/python3.8/site-packages/tensorflow/python/keras/losses.py\u001b[0m in \u001b[0;36mcall\u001b[0;34m(self, y_true, y_pred)\u001b[0m\n\u001b[1;32m    251\u001b[0m           y_pred, y_true)\n\u001b[1;32m    252\u001b[0m     \u001b[0mag_fn\u001b[0m \u001b[0;34m=\u001b[0m \u001b[0mautograph\u001b[0m\u001b[0;34m.\u001b[0m\u001b[0mtf_convert\u001b[0m\u001b[0;34m(\u001b[0m\u001b[0mself\u001b[0m\u001b[0;34m.\u001b[0m\u001b[0mfn\u001b[0m\u001b[0;34m,\u001b[0m \u001b[0mag_ctx\u001b[0m\u001b[0;34m.\u001b[0m\u001b[0mcontrol_status_ctx\u001b[0m\u001b[0;34m(\u001b[0m\u001b[0;34m)\u001b[0m\u001b[0;34m)\u001b[0m\u001b[0;34m\u001b[0m\u001b[0;34m\u001b[0m\u001b[0m\n\u001b[0;32m--> 253\u001b[0;31m     \u001b[0;32mreturn\u001b[0m \u001b[0mag_fn\u001b[0m\u001b[0;34m(\u001b[0m\u001b[0my_true\u001b[0m\u001b[0;34m,\u001b[0m \u001b[0my_pred\u001b[0m\u001b[0;34m,\u001b[0m \u001b[0;34m**\u001b[0m\u001b[0mself\u001b[0m\u001b[0;34m.\u001b[0m\u001b[0m_fn_kwargs\u001b[0m\u001b[0;34m)\u001b[0m\u001b[0;34m\u001b[0m\u001b[0;34m\u001b[0m\u001b[0m\n\u001b[0m\u001b[1;32m    254\u001b[0m \u001b[0;34m\u001b[0m\u001b[0m\n\u001b[1;32m    255\u001b[0m   \u001b[0;32mdef\u001b[0m \u001b[0mget_config\u001b[0m\u001b[0;34m(\u001b[0m\u001b[0mself\u001b[0m\u001b[0;34m)\u001b[0m\u001b[0;34m:\u001b[0m\u001b[0;34m\u001b[0m\u001b[0;34m\u001b[0m\u001b[0m\n",
      "\u001b[0;32m~/machine_learning/ml_env/lib/python3.8/site-packages/tensorflow/python/util/dispatch.py\u001b[0m in \u001b[0;36mwrapper\u001b[0;34m(*args, **kwargs)\u001b[0m\n\u001b[1;32m    199\u001b[0m     \u001b[0;34m\"\"\"Call target, and fall back on dispatchers if there is a TypeError.\"\"\"\u001b[0m\u001b[0;34m\u001b[0m\u001b[0;34m\u001b[0m\u001b[0m\n\u001b[1;32m    200\u001b[0m     \u001b[0;32mtry\u001b[0m\u001b[0;34m:\u001b[0m\u001b[0;34m\u001b[0m\u001b[0;34m\u001b[0m\u001b[0m\n\u001b[0;32m--> 201\u001b[0;31m       \u001b[0;32mreturn\u001b[0m \u001b[0mtarget\u001b[0m\u001b[0;34m(\u001b[0m\u001b[0;34m*\u001b[0m\u001b[0margs\u001b[0m\u001b[0;34m,\u001b[0m \u001b[0;34m**\u001b[0m\u001b[0mkwargs\u001b[0m\u001b[0;34m)\u001b[0m\u001b[0;34m\u001b[0m\u001b[0;34m\u001b[0m\u001b[0m\n\u001b[0m\u001b[1;32m    202\u001b[0m     \u001b[0;32mexcept\u001b[0m \u001b[0;34m(\u001b[0m\u001b[0mTypeError\u001b[0m\u001b[0;34m,\u001b[0m \u001b[0mValueError\u001b[0m\u001b[0;34m)\u001b[0m\u001b[0;34m:\u001b[0m\u001b[0;34m\u001b[0m\u001b[0;34m\u001b[0m\u001b[0m\n\u001b[1;32m    203\u001b[0m       \u001b[0;31m# Note: convert_to_eager_tensor currently raises a ValueError, not a\u001b[0m\u001b[0;34m\u001b[0m\u001b[0;34m\u001b[0m\u001b[0;34m\u001b[0m\u001b[0m\n",
      "\u001b[0;32m~/machine_learning/ml_env/lib/python3.8/site-packages/tensorflow/python/keras/losses.py\u001b[0m in \u001b[0;36mmean_squared_error\u001b[0;34m(y_true, y_pred)\u001b[0m\n\u001b[1;32m   1193\u001b[0m   \u001b[0my_pred\u001b[0m \u001b[0;34m=\u001b[0m \u001b[0mops\u001b[0m\u001b[0;34m.\u001b[0m\u001b[0mconvert_to_tensor_v2\u001b[0m\u001b[0;34m(\u001b[0m\u001b[0my_pred\u001b[0m\u001b[0;34m)\u001b[0m\u001b[0;34m\u001b[0m\u001b[0;34m\u001b[0m\u001b[0m\n\u001b[1;32m   1194\u001b[0m   \u001b[0my_true\u001b[0m \u001b[0;34m=\u001b[0m \u001b[0mmath_ops\u001b[0m\u001b[0;34m.\u001b[0m\u001b[0mcast\u001b[0m\u001b[0;34m(\u001b[0m\u001b[0my_true\u001b[0m\u001b[0;34m,\u001b[0m \u001b[0my_pred\u001b[0m\u001b[0;34m.\u001b[0m\u001b[0mdtype\u001b[0m\u001b[0;34m)\u001b[0m\u001b[0;34m\u001b[0m\u001b[0;34m\u001b[0m\u001b[0m\n\u001b[0;32m-> 1195\u001b[0;31m   \u001b[0;32mreturn\u001b[0m \u001b[0mK\u001b[0m\u001b[0;34m.\u001b[0m\u001b[0mmean\u001b[0m\u001b[0;34m(\u001b[0m\u001b[0mmath_ops\u001b[0m\u001b[0;34m.\u001b[0m\u001b[0msquared_difference\u001b[0m\u001b[0;34m(\u001b[0m\u001b[0my_pred\u001b[0m\u001b[0;34m,\u001b[0m \u001b[0my_true\u001b[0m\u001b[0;34m)\u001b[0m\u001b[0;34m,\u001b[0m \u001b[0maxis\u001b[0m\u001b[0;34m=\u001b[0m\u001b[0;34m-\u001b[0m\u001b[0;36m1\u001b[0m\u001b[0;34m)\u001b[0m\u001b[0;34m\u001b[0m\u001b[0;34m\u001b[0m\u001b[0m\n\u001b[0m\u001b[1;32m   1196\u001b[0m \u001b[0;34m\u001b[0m\u001b[0m\n\u001b[1;32m   1197\u001b[0m \u001b[0;34m\u001b[0m\u001b[0m\n",
      "\u001b[0;32m~/machine_learning/ml_env/lib/python3.8/site-packages/tensorflow/python/ops/gen_math_ops.py\u001b[0m in \u001b[0;36msquared_difference\u001b[0;34m(x, y, name)\u001b[0m\n\u001b[1;32m  10396\u001b[0m   \u001b[0;31m# Add nodes to the TensorFlow graph.\u001b[0m\u001b[0;34m\u001b[0m\u001b[0;34m\u001b[0m\u001b[0;34m\u001b[0m\u001b[0m\n\u001b[1;32m  10397\u001b[0m   \u001b[0;32mtry\u001b[0m\u001b[0;34m:\u001b[0m\u001b[0;34m\u001b[0m\u001b[0;34m\u001b[0m\u001b[0m\n\u001b[0;32m> 10398\u001b[0;31m     _, _, _op, _outputs = _op_def_library._apply_op_helper(\n\u001b[0m\u001b[1;32m  10399\u001b[0m         \"SquaredDifference\", x=x, y=y, name=name)\n\u001b[1;32m  10400\u001b[0m   \u001b[0;32mexcept\u001b[0m \u001b[0;34m(\u001b[0m\u001b[0mTypeError\u001b[0m\u001b[0;34m,\u001b[0m \u001b[0mValueError\u001b[0m\u001b[0;34m)\u001b[0m\u001b[0;34m:\u001b[0m\u001b[0;34m\u001b[0m\u001b[0;34m\u001b[0m\u001b[0m\n",
      "\u001b[0;32m~/machine_learning/ml_env/lib/python3.8/site-packages/tensorflow/python/framework/op_def_library.py\u001b[0m in \u001b[0;36m_apply_op_helper\u001b[0;34m(op_type_name, name, **keywords)\u001b[0m\n\u001b[1;32m    740\u001b[0m       \u001b[0;31m# Add Op to graph\u001b[0m\u001b[0;34m\u001b[0m\u001b[0;34m\u001b[0m\u001b[0;34m\u001b[0m\u001b[0m\n\u001b[1;32m    741\u001b[0m       \u001b[0;31m# pylint: disable=protected-access\u001b[0m\u001b[0;34m\u001b[0m\u001b[0;34m\u001b[0m\u001b[0;34m\u001b[0m\u001b[0m\n\u001b[0;32m--> 742\u001b[0;31m       op = g._create_op_internal(op_type_name, inputs, dtypes=None,\n\u001b[0m\u001b[1;32m    743\u001b[0m                                  \u001b[0mname\u001b[0m\u001b[0;34m=\u001b[0m\u001b[0mscope\u001b[0m\u001b[0;34m,\u001b[0m \u001b[0minput_types\u001b[0m\u001b[0;34m=\u001b[0m\u001b[0minput_types\u001b[0m\u001b[0;34m,\u001b[0m\u001b[0;34m\u001b[0m\u001b[0;34m\u001b[0m\u001b[0m\n\u001b[1;32m    744\u001b[0m                                  attrs=attr_protos, op_def=op_def)\n",
      "\u001b[0;32m~/machine_learning/ml_env/lib/python3.8/site-packages/tensorflow/python/framework/func_graph.py\u001b[0m in \u001b[0;36m_create_op_internal\u001b[0;34m(self, op_type, inputs, dtypes, input_types, name, attrs, op_def, compute_device)\u001b[0m\n\u001b[1;32m    589\u001b[0m       \u001b[0minp\u001b[0m \u001b[0;34m=\u001b[0m \u001b[0mself\u001b[0m\u001b[0;34m.\u001b[0m\u001b[0mcapture\u001b[0m\u001b[0;34m(\u001b[0m\u001b[0minp\u001b[0m\u001b[0;34m)\u001b[0m\u001b[0;34m\u001b[0m\u001b[0;34m\u001b[0m\u001b[0m\n\u001b[1;32m    590\u001b[0m       \u001b[0minputs\u001b[0m\u001b[0;34m[\u001b[0m\u001b[0mi\u001b[0m\u001b[0;34m]\u001b[0m \u001b[0;34m=\u001b[0m \u001b[0minp\u001b[0m\u001b[0;34m\u001b[0m\u001b[0;34m\u001b[0m\u001b[0m\n\u001b[0;32m--> 591\u001b[0;31m     return super(FuncGraph, self)._create_op_internal(  # pylint: disable=protected-access\n\u001b[0m\u001b[1;32m    592\u001b[0m         \u001b[0mop_type\u001b[0m\u001b[0;34m,\u001b[0m \u001b[0minputs\u001b[0m\u001b[0;34m,\u001b[0m \u001b[0mdtypes\u001b[0m\u001b[0;34m,\u001b[0m \u001b[0minput_types\u001b[0m\u001b[0;34m,\u001b[0m \u001b[0mname\u001b[0m\u001b[0;34m,\u001b[0m \u001b[0mattrs\u001b[0m\u001b[0;34m,\u001b[0m \u001b[0mop_def\u001b[0m\u001b[0;34m,\u001b[0m\u001b[0;34m\u001b[0m\u001b[0;34m\u001b[0m\u001b[0m\n\u001b[1;32m    593\u001b[0m         compute_device)\n",
      "\u001b[0;32m~/machine_learning/ml_env/lib/python3.8/site-packages/tensorflow/python/framework/ops.py\u001b[0m in \u001b[0;36m_create_op_internal\u001b[0;34m(self, op_type, inputs, dtypes, input_types, name, attrs, op_def, compute_device)\u001b[0m\n\u001b[1;32m   3475\u001b[0m     \u001b[0;31m# Session.run call cannot occur between creating and mutating the op.\u001b[0m\u001b[0;34m\u001b[0m\u001b[0;34m\u001b[0m\u001b[0;34m\u001b[0m\u001b[0m\n\u001b[1;32m   3476\u001b[0m     \u001b[0;32mwith\u001b[0m \u001b[0mself\u001b[0m\u001b[0;34m.\u001b[0m\u001b[0m_mutation_lock\u001b[0m\u001b[0;34m(\u001b[0m\u001b[0;34m)\u001b[0m\u001b[0;34m:\u001b[0m\u001b[0;34m\u001b[0m\u001b[0;34m\u001b[0m\u001b[0m\n\u001b[0;32m-> 3477\u001b[0;31m       ret = Operation(\n\u001b[0m\u001b[1;32m   3478\u001b[0m           \u001b[0mnode_def\u001b[0m\u001b[0;34m,\u001b[0m\u001b[0;34m\u001b[0m\u001b[0;34m\u001b[0m\u001b[0m\n\u001b[1;32m   3479\u001b[0m           \u001b[0mself\u001b[0m\u001b[0;34m,\u001b[0m\u001b[0;34m\u001b[0m\u001b[0;34m\u001b[0m\u001b[0m\n",
      "\u001b[0;32m~/machine_learning/ml_env/lib/python3.8/site-packages/tensorflow/python/framework/ops.py\u001b[0m in \u001b[0;36m__init__\u001b[0;34m(self, node_def, g, inputs, output_types, control_inputs, input_types, original_op, op_def)\u001b[0m\n\u001b[1;32m   1985\u001b[0m       \u001b[0mtf_output\u001b[0m \u001b[0;34m=\u001b[0m \u001b[0mc_api_util\u001b[0m\u001b[0;34m.\u001b[0m\u001b[0mtf_output\u001b[0m\u001b[0;34m(\u001b[0m\u001b[0mself\u001b[0m\u001b[0;34m.\u001b[0m\u001b[0m_c_op\u001b[0m\u001b[0;34m,\u001b[0m \u001b[0mi\u001b[0m\u001b[0;34m)\u001b[0m\u001b[0;34m\u001b[0m\u001b[0;34m\u001b[0m\u001b[0m\n\u001b[1;32m   1986\u001b[0m       \u001b[0moutput_type\u001b[0m \u001b[0;34m=\u001b[0m \u001b[0mpywrap_tf_session\u001b[0m\u001b[0;34m.\u001b[0m\u001b[0mTF_OperationOutputType\u001b[0m\u001b[0;34m(\u001b[0m\u001b[0mtf_output\u001b[0m\u001b[0;34m)\u001b[0m\u001b[0;34m\u001b[0m\u001b[0;34m\u001b[0m\u001b[0m\n\u001b[0;32m-> 1987\u001b[0;31m       \u001b[0mtensor\u001b[0m \u001b[0;34m=\u001b[0m \u001b[0mTensor\u001b[0m\u001b[0;34m.\u001b[0m\u001b[0m_create_with_tf_output\u001b[0m\u001b[0;34m(\u001b[0m\u001b[0mself\u001b[0m\u001b[0;34m,\u001b[0m \u001b[0mi\u001b[0m\u001b[0;34m,\u001b[0m \u001b[0moutput_type\u001b[0m\u001b[0;34m,\u001b[0m \u001b[0mtf_output\u001b[0m\u001b[0;34m)\u001b[0m  \u001b[0;31m# pylint: disable=protected-access\u001b[0m\u001b[0;34m\u001b[0m\u001b[0;34m\u001b[0m\u001b[0m\n\u001b[0m\u001b[1;32m   1988\u001b[0m       \u001b[0mself\u001b[0m\u001b[0;34m.\u001b[0m\u001b[0m_outputs\u001b[0m\u001b[0;34m.\u001b[0m\u001b[0mappend\u001b[0m\u001b[0;34m(\u001b[0m\u001b[0mtensor\u001b[0m\u001b[0;34m)\u001b[0m\u001b[0;34m\u001b[0m\u001b[0;34m\u001b[0m\u001b[0m\n\u001b[1;32m   1989\u001b[0m \u001b[0;34m\u001b[0m\u001b[0m\n",
      "\u001b[0;32m~/machine_learning/ml_env/lib/python3.8/site-packages/tensorflow/python/framework/ops.py\u001b[0m in \u001b[0;36m_create_with_tf_output\u001b[0;34m(op, value_index, dtype, tf_output)\u001b[0m\n\u001b[1;32m    386\u001b[0m   \u001b[0;34m@\u001b[0m\u001b[0mstaticmethod\u001b[0m\u001b[0;34m\u001b[0m\u001b[0;34m\u001b[0m\u001b[0m\n\u001b[1;32m    387\u001b[0m   \u001b[0;32mdef\u001b[0m \u001b[0m_create_with_tf_output\u001b[0m\u001b[0;34m(\u001b[0m\u001b[0mop\u001b[0m\u001b[0;34m,\u001b[0m \u001b[0mvalue_index\u001b[0m\u001b[0;34m,\u001b[0m \u001b[0mdtype\u001b[0m\u001b[0;34m,\u001b[0m \u001b[0mtf_output\u001b[0m\u001b[0;34m)\u001b[0m\u001b[0;34m:\u001b[0m\u001b[0;34m\u001b[0m\u001b[0;34m\u001b[0m\u001b[0m\n\u001b[0;32m--> 388\u001b[0;31m     \u001b[0mret\u001b[0m \u001b[0;34m=\u001b[0m \u001b[0mTensor\u001b[0m\u001b[0;34m(\u001b[0m\u001b[0mop\u001b[0m\u001b[0;34m,\u001b[0m \u001b[0mvalue_index\u001b[0m\u001b[0;34m,\u001b[0m \u001b[0mdtype\u001b[0m\u001b[0;34m)\u001b[0m\u001b[0;34m\u001b[0m\u001b[0;34m\u001b[0m\u001b[0m\n\u001b[0m\u001b[1;32m    389\u001b[0m     \u001b[0mret\u001b[0m\u001b[0;34m.\u001b[0m\u001b[0m_tf_output\u001b[0m \u001b[0;34m=\u001b[0m \u001b[0mtf_output\u001b[0m\u001b[0;34m\u001b[0m\u001b[0;34m\u001b[0m\u001b[0m\n\u001b[1;32m    390\u001b[0m     \u001b[0;32mreturn\u001b[0m \u001b[0mret\u001b[0m\u001b[0;34m\u001b[0m\u001b[0;34m\u001b[0m\u001b[0m\n",
      "\u001b[0;32m~/machine_learning/ml_env/lib/python3.8/site-packages/tensorflow/python/framework/ops.py\u001b[0m in \u001b[0;36m__init__\u001b[0;34m(self, op, value_index, dtype)\u001b[0m\n\u001b[1;32m    373\u001b[0m     \u001b[0mself\u001b[0m\u001b[0;34m.\u001b[0m\u001b[0m_op\u001b[0m \u001b[0;34m=\u001b[0m \u001b[0mop\u001b[0m\u001b[0;34m\u001b[0m\u001b[0;34m\u001b[0m\u001b[0m\n\u001b[1;32m    374\u001b[0m     \u001b[0mself\u001b[0m\u001b[0;34m.\u001b[0m\u001b[0m_value_index\u001b[0m \u001b[0;34m=\u001b[0m \u001b[0mvalue_index\u001b[0m\u001b[0;34m\u001b[0m\u001b[0;34m\u001b[0m\u001b[0m\n\u001b[0;32m--> 375\u001b[0;31m     \u001b[0mself\u001b[0m\u001b[0;34m.\u001b[0m\u001b[0m_dtype\u001b[0m \u001b[0;34m=\u001b[0m \u001b[0mdtypes\u001b[0m\u001b[0;34m.\u001b[0m\u001b[0mas_dtype\u001b[0m\u001b[0;34m(\u001b[0m\u001b[0mdtype\u001b[0m\u001b[0;34m)\u001b[0m\u001b[0;34m\u001b[0m\u001b[0;34m\u001b[0m\u001b[0m\n\u001b[0m\u001b[1;32m    376\u001b[0m     \u001b[0;31m# This will be set by self._as_tf_output().\u001b[0m\u001b[0;34m\u001b[0m\u001b[0;34m\u001b[0m\u001b[0;34m\u001b[0m\u001b[0m\n\u001b[1;32m    377\u001b[0m     \u001b[0mself\u001b[0m\u001b[0;34m.\u001b[0m\u001b[0m_tf_output\u001b[0m \u001b[0;34m=\u001b[0m \u001b[0;32mNone\u001b[0m\u001b[0;34m\u001b[0m\u001b[0;34m\u001b[0m\u001b[0m\n",
      "\u001b[0;32m~/machine_learning/ml_env/lib/python3.8/site-packages/tensorflow/python/framework/dtypes.py\u001b[0m in \u001b[0;36mas_dtype\u001b[0;34m(type_value)\u001b[0m\n\u001b[1;32m    623\u001b[0m     \u001b[0mTypeError\u001b[0m\u001b[0;34m:\u001b[0m \u001b[0mIf\u001b[0m\u001b[0;31m \u001b[0m\u001b[0;31m`\u001b[0m\u001b[0mtype_value\u001b[0m\u001b[0;31m`\u001b[0m \u001b[0mcannot\u001b[0m \u001b[0mbe\u001b[0m \u001b[0mconverted\u001b[0m \u001b[0mto\u001b[0m \u001b[0ma\u001b[0m\u001b[0;31m \u001b[0m\u001b[0;31m`\u001b[0m\u001b[0mDType\u001b[0m\u001b[0;31m`\u001b[0m\u001b[0;34m.\u001b[0m\u001b[0;34m\u001b[0m\u001b[0;34m\u001b[0m\u001b[0m\n\u001b[1;32m    624\u001b[0m   \"\"\"\n\u001b[0;32m--> 625\u001b[0;31m   \u001b[0;32mif\u001b[0m \u001b[0misinstance\u001b[0m\u001b[0;34m(\u001b[0m\u001b[0mtype_value\u001b[0m\u001b[0;34m,\u001b[0m \u001b[0mDType\u001b[0m\u001b[0;34m)\u001b[0m\u001b[0;34m:\u001b[0m\u001b[0;34m\u001b[0m\u001b[0;34m\u001b[0m\u001b[0m\n\u001b[0m\u001b[1;32m    626\u001b[0m     \u001b[0;32mreturn\u001b[0m \u001b[0m_INTERN_TABLE\u001b[0m\u001b[0;34m[\u001b[0m\u001b[0mtype_value\u001b[0m\u001b[0;34m.\u001b[0m\u001b[0mas_datatype_enum\u001b[0m\u001b[0;34m]\u001b[0m\u001b[0;34m\u001b[0m\u001b[0;34m\u001b[0m\u001b[0m\n\u001b[1;32m    627\u001b[0m \u001b[0;34m\u001b[0m\u001b[0m\n",
      "\u001b[0;31mKeyboardInterrupt\u001b[0m: "
     ]
    }
   ],
   "source": [
    "from scipy.stats import reciprocal\n",
    "from sklearn.model_selection import RandomizedSearchCV\n",
    "param_distribs = {\"n_hidden\": [0, 1, 2, 3],\n",
    "                  \"n_neurons\": np.arange(1, 100),\n",
    "                  \"learning_rate\": reciprocal(3e-4, 3e-2)}\n",
    "rnd_search_cv = RandomizedSearchCV(keras_reg, param_distribs, n_iter=10, cv=3)\n",
    "rnd_search_cv.fit(X_train, y_train, epochs=100,\n",
    "                  validation_data=(X_valid, y_valid),\n",
    "                  callbacks=[keras.callbacks.EarlyStopping(patience=10)])"
   ]
  },
  {
   "cell_type": "code",
   "execution_count": 15,
   "metadata": {},
   "outputs": [],
   "source": [
    "keras.layers.Dense?"
   ]
  },
  {
   "cell_type": "code",
   "execution_count": 1,
   "metadata": {},
   "outputs": [],
   "source": [
    "import tensorflow as tf\n",
    "import numpy as np\n",
    "from tensorflow import keras"
   ]
  },
  {
   "cell_type": "code",
   "execution_count": 11,
   "metadata": {},
   "outputs": [],
   "source": [
    "b = tf.constant([[1, 2, 3], [4,5,6]])"
   ]
  },
  {
   "cell_type": "code",
   "execution_count": 27,
   "metadata": {},
   "outputs": [],
   "source": [
    "a = np.array([[1.,2.], [4.,5.]])"
   ]
  },
  {
   "cell_type": "code",
   "execution_count": 15,
   "metadata": {},
   "outputs": [
    {
     "data": {
      "text/plain": [
       "<tf.Tensor: shape=(2, 3), dtype=int32, numpy=\n",
       "array([[ 9, 12, 15],\n",
       "       [24, 33, 42]], dtype=int32)>"
      ]
     },
     "execution_count": 15,
     "metadata": {},
     "output_type": "execute_result"
    }
   ],
   "source": [
    "a@b"
   ]
  },
  {
   "cell_type": "code",
   "execution_count": 18,
   "metadata": {},
   "outputs": [
    {
     "data": {
      "text/plain": [
       "<tf.Tensor: shape=(2, 3), dtype=int32, numpy=\n",
       "array([[1, 2, 3],\n",
       "       [4, 5, 6]], dtype=int32)>"
      ]
     },
     "execution_count": 18,
     "metadata": {},
     "output_type": "execute_result"
    }
   ],
   "source": [
    "tf.squeeze(b)"
   ]
  },
  {
   "cell_type": "code",
   "execution_count": 19,
   "metadata": {},
   "outputs": [],
   "source": [
    "def huber_fn(y_true, y_pred):\n",
    "    error = y_true - y_pred\n",
    "    is_small_error = tf.abs(error) < 1\n",
    "    squared_loss = tf.square(error) / 2\n",
    "    linear_loss = tf.abs(error) - 0.5\n",
    "    return tf.where(is_small_error, squared_loss, linear_loss)"
   ]
  },
  {
   "cell_type": "code",
   "execution_count": 20,
   "metadata": {},
   "outputs": [],
   "source": [
    "def create_huber(threshold=1.0): \n",
    "    def huber_fn(y_true, y_pred):\n",
    "        error = y_true - y_pred\n",
    "        is_small_error = tf.abs(error) < threshold\n",
    "        squared_loss = tf.square(error) / 2\n",
    "        linear_loss = threshold * tf.abs(error) - threshold**2 / 2\n",
    "        return tf.where(is_small_error, squared_loss, linear_loss)\n",
    "    return huber_fn"
   ]
  },
  {
   "cell_type": "code",
   "execution_count": 28,
   "metadata": {},
   "outputs": [
    {
     "data": {
      "text/plain": [
       "<tf.Tensor: shape=(2, 2), dtype=float64, numpy=\n",
       "array([[1.5, 1.5],\n",
       "       [1.5, 1.5]])>"
      ]
     },
     "execution_count": 28,
     "metadata": {},
     "output_type": "execute_result"
    }
   ],
   "source": [
    "c = np.array([[3.,4.], [6.,7.]])\n",
    "create_huber()(a, c)"
   ]
  },
  {
   "cell_type": "code",
   "execution_count": 32,
   "metadata": {},
   "outputs": [],
   "source": [
    "class HuberLoss(keras.losses.Loss):\n",
    "    def __init__(self, threshold=1.0, **kwargs):\n",
    "        self.threshold = threshold\n",
    "        super().__init__(**kwargs)\n",
    "    def call(self, y_true, y_pred):\n",
    "        error = y_true - y_pred\n",
    "        is_small_error = tf.abs(error) < self.threshold\n",
    "        squared_loss = tf.square(error) / 2\n",
    "        linear_loss = self.threshold * tf.abs(error) - self.threshold**2 / 2\n",
    "        return tf.where(is_small_error, squared_loss, linear_loss)\n",
    "    def get_config(self):\n",
    "        base_config = super().get_config()\n",
    "        return {**base_config, \"threshold\": self.threshold}"
   ]
  },
  {
   "cell_type": "code",
   "execution_count": 33,
   "metadata": {},
   "outputs": [
    {
     "data": {
      "text/plain": [
       "array([3., 4.])"
      ]
     },
     "execution_count": 33,
     "metadata": {},
     "output_type": "execute_result"
    }
   ],
   "source": [
    "c[0]"
   ]
  },
  {
   "cell_type": "code",
   "execution_count": 36,
   "metadata": {},
   "outputs": [
    {
     "data": {
      "text/plain": [
       "[<tf.Tensor: shape=(), dtype=float32, numpy=36.0>,\n",
       " <tf.Tensor: shape=(), dtype=float32, numpy=10.0>]"
      ]
     },
     "execution_count": 36,
     "metadata": {},
     "output_type": "execute_result"
    }
   ],
   "source": [
    "def f(w1, w2):\n",
    "    return 3*w1**2+2*w1*w2\n",
    "w1, w2 = tf.Variable(5.), tf.Variable(3.)\n",
    "with tf.GradientTape() as tape:\n",
    "    z = f(w1, w2)\n",
    "gradients = tape.gradient(z, [w1, w2])\n",
    "gradients"
   ]
  },
  {
   "cell_type": "code",
   "execution_count": 38,
   "metadata": {},
   "outputs": [],
   "source": [
    "@tf.function\n",
    "def tf_cube(x): \n",
    "    return x ** 3"
   ]
  },
  {
   "cell_type": "code",
   "execution_count": 39,
   "metadata": {},
   "outputs": [
    {
     "data": {
      "text/plain": [
       "<tensorflow.python.eager.def_function.Function at 0x143063be0>"
      ]
     },
     "execution_count": 39,
     "metadata": {},
     "output_type": "execute_result"
    }
   ],
   "source": [
    "tf_cube"
   ]
  },
  {
   "cell_type": "code",
   "execution_count": 5,
   "metadata": {},
   "outputs": [
    {
     "data": {
      "text/plain": [
       "<tf.Tensor: shape=(), dtype=string, numpy=b'sdhsjka'>"
      ]
     },
     "execution_count": 5,
     "metadata": {},
     "output_type": "execute_result"
    }
   ],
   "source": [
    "tf.constant('sdhsjka')"
   ]
  },
  {
   "cell_type": "code",
   "execution_count": 9,
   "metadata": {},
   "outputs": [
    {
     "data": {
      "text/plain": [
       "4"
      ]
     },
     "execution_count": 9,
     "metadata": {},
     "output_type": "execute_result"
    }
   ],
   "source": [
    "a = np.array([1,2,3,4])\n",
    "a[-1]"
   ]
  },
  {
   "cell_type": "code",
   "execution_count": 10,
   "metadata": {},
   "outputs": [
    {
     "data": {
      "text/plain": [
       "[0.0,\n",
       " 0.0,\n",
       " 0.0,\n",
       " 0.0,\n",
       " 0.0,\n",
       " 0.0,\n",
       " 0.0,\n",
       " 0.0,\n",
       " <tf.Tensor: shape=(0,), dtype=float32, numpy=array([], dtype=float32)>]"
      ]
     },
     "execution_count": 10,
     "metadata": {},
     "output_type": "execute_result"
    }
   ],
   "source": [
    "[0.] * 8 + [tf.constant([], dtype=tf.float32)]"
   ]
  },
  {
   "cell_type": "code",
   "execution_count": 11,
   "metadata": {},
   "outputs": [],
   "source": [
    "import tensorflow as tf"
   ]
  },
  {
   "cell_type": "code",
   "execution_count": 15,
   "metadata": {},
   "outputs": [],
   "source": [
    "from tensorflow import keras"
   ]
  },
  {
   "cell_type": "code",
   "execution_count": 18,
   "metadata": {},
   "outputs": [],
   "source": [
    "model = keras.models.Sequential([\n",
    "    keras.layers.Conv2D(64, 7, activation=\"relu\", padding=\"same\", input_shape=[28, 28, 1]),\n",
    "    keras.layers.MaxPooling2D(2),\n",
    "    keras.layers.Conv2D(128, 3, activation=\"relu\", padding=\"same\"),\n",
    "    keras.layers.Conv2D(128, 3, activation=\"relu\", padding=\"same\"),\n",
    "    keras.layers.MaxPooling2D(2),\n",
    "    keras.layers.Conv2D(256, 3, activation=\"relu\", padding=\"same\"),\n",
    "    keras.layers.Conv2D(256, 3, activation=\"relu\", padding=\"same\"),\n",
    "    keras.layers.MaxPooling2D(2),\n",
    "    keras.layers.Flatten(),\n",
    "    keras.layers.Dense(128, activation=\"relu\"),\n",
    "    keras.layers.Dropout(0.5),\n",
    "    keras.layers.Dense(64, activation=\"relu\"),\n",
    "    keras.layers.Dropout(0.5),\n",
    "    keras.layers.Dense(10, activation=\"softmax\")\n",
    "])"
   ]
  },
  {
   "cell_type": "code",
   "execution_count": 25,
   "metadata": {},
   "outputs": [],
   "source": [
    "import numpy as np\n",
    "from sklearn.datasets import load_sample_image\n",
    "import matplotlib.pyplot as plt"
   ]
  },
  {
   "cell_type": "code",
   "execution_count": 53,
   "metadata": {},
   "outputs": [
    {
     "data": {
      "text/plain": [
       "(2, 427, 640, 3)"
      ]
     },
     "execution_count": 53,
     "metadata": {},
     "output_type": "execute_result"
    }
   ],
   "source": [
    "china = load_sample_image(\"china.jpg\") / 255\n",
    "flower = load_sample_image(\"flower.jpg\") / 255\n",
    "images = np.array([china, flower])\n",
    "images.shape"
   ]
  },
  {
   "cell_type": "code",
   "execution_count": 51,
   "metadata": {},
   "outputs": [],
   "source": [
    "conv = keras.layers.Conv2D(filters=32, kernel_size=3, strides=2,\n",
    "                           padding=\"SAME\", activation=\"relu\")"
   ]
  },
  {
   "cell_type": "code",
   "execution_count": 52,
   "metadata": {},
   "outputs": [
    {
     "name": "stdout",
     "output_type": "stream",
     "text": [
      "WARNING:tensorflow:Layer conv2d_8 is casting an input tensor from dtype float64 to the layer's dtype of float32, which is new behavior in TensorFlow 2.  The layer has dtype float32 because its dtype defaults to floatx.\n",
      "\n",
      "If you intended to run this layer in float32, you can safely ignore this warning. If in doubt, this warning is likely only an issue if you are porting a TensorFlow 1.X model to TensorFlow 2.\n",
      "\n",
      "To change all layers to have dtype float64 by default, call `tf.keras.backend.set_floatx('float64')`. To change just this layer, pass dtype='float64' to the layer constructor. If you are the author of this layer, you can disable autocasting by passing autocast=False to the base Layer constructor.\n",
      "\n"
     ]
    },
    {
     "data": {
      "text/plain": [
       "<matplotlib.image.AxesImage at 0x154a89220>"
      ]
     },
     "execution_count": 52,
     "metadata": {},
     "output_type": "execute_result"
    },
    {
     "data": {
      "image/png": "[encoded data removed]",
      "text/plain": [
       "<Figure size 432x288 with 1 Axes>"
      ]
     },
     "metadata": {
      "needs_background": "light"
     },
     "output_type": "display_data"
    }
   ],
   "source": [
    "def crop(images):\n",
    "    return images[150:220, 130:250]\n",
    "outputs = conv(images)\n",
    "plt.imshow(crop(outputs[0, :, :, 1]))"
   ]
  },
  {
   "cell_type": "code",
   "execution_count": 54,
   "metadata": {},
   "outputs": [],
   "source": [
    "class ResidualUnit(keras.layers.Layer):\n",
    "    def __init__(self, filters, strides=1, activation=\"relu\", **kwargs):\n",
    "        super().__init__(**kwargs)\n",
    "        self.activation = keras.activations.get(activation)\n",
    "        self.main_layers = [\n",
    "            keras.layers.Conv2D(filters, 3, strides=strides, padding=\"same\", use_bias=False),\n",
    "            keras.layers.BatchNormalization(),\n",
    "            self.activation,\n",
    "            keras.layers.Conv2D(filters, 3, strides=1, padding=\"same\", use_bias=False),\n",
    "            keras.layers.BatchNormalization()]\n",
    "        self.skip_layers = []\n",
    "        if strides > 1:\n",
    "            self.skip_layers = [\n",
    "                keras.layers.Conv2D(filters, 1, strides=strides,padding=\"same\", use_bias=False),\n",
    "                keras.layers.BatchNormalization()]\n",
    "    def call(self, inputs):\n",
    "        Z = inputs\n",
    "        for layer in self.main_layers:\n",
    "            Z = layer(Z)\n",
    "        skip_Z = inputs\n",
    "        for layer in self.skip_layers:\n",
    "            skip_Z = layer(skip_Z)\n",
    "        return self.activation(Z + skip_Z)"
   ]
  },
  {
   "cell_type": "code",
   "execution_count": 55,
   "metadata": {},
   "outputs": [],
   "source": [
    "model = keras.models.Sequential()\n",
    "model.add(keras.layers.Conv2D(64, 7, strides=2, input_shape=[224, 224, 3],padding=\"same\", use_bias=False))\n",
    "model.add(keras.layers.BatchNormalization())\n",
    "model.add(keras.layers.Activation(\"relu\"))\n",
    "model.add(keras.layers.MaxPool2D(pool_size=3, strides=2, padding=\"same\"))\n",
    "prev_filters = 64\n",
    "for filters in [64]*3 + [128]*4 + [256]*6 + [512]*3:\n",
    "    strides = 1 if filters == prev_filters else 2\n",
    "    model.add(ResidualUnit(filters, strides=strides))\n",
    "    prev_filters = filters\n",
    "model.add(keras.layers.GlobalAvgPool2D())\n",
    "model.add(keras.layers.Flatten())\n",
    "model.add(keras.layers.Dense(10, activation=\"softmax\"))"
   ]
  },
  {
   "cell_type": "code",
   "execution_count": 56,
   "metadata": {},
   "outputs": [
    {
     "name": "stdout",
     "output_type": "stream",
     "text": [
      "Model: \"sequential_1\"\n",
      "_________________________________________________________________\n",
      "Layer (type)                 Output Shape              Param #   \n",
      "=================================================================\n",
      "conv2d_9 (Conv2D)            (None, 112, 112, 64)      9408      \n",
      "_________________________________________________________________\n",
      "batch_normalization (BatchNo (None, 112, 112, 64)      256       \n",
      "_________________________________________________________________\n",
      "activation (Activation)      (None, 112, 112, 64)      0         \n",
      "_________________________________________________________________\n",
      "max_pooling2d_3 (MaxPooling2 (None, 56, 56, 64)        0         \n",
      "_________________________________________________________________\n",
      "residual_unit (ResidualUnit) (None, 56, 56, 64)        74240     \n",
      "_________________________________________________________________\n",
      "residual_unit_1 (ResidualUni (None, 56, 56, 64)        74240     \n",
      "_________________________________________________________________\n",
      "residual_unit_2 (ResidualUni (None, 56, 56, 64)        74240     \n",
      "_________________________________________________________________\n",
      "residual_unit_3 (ResidualUni (None, 28, 28, 128)       230912    \n",
      "_________________________________________________________________\n",
      "residual_unit_4 (ResidualUni (None, 28, 28, 128)       295936    \n",
      "_________________________________________________________________\n",
      "residual_unit_5 (ResidualUni (None, 28, 28, 128)       295936    \n",
      "_________________________________________________________________\n",
      "residual_unit_6 (ResidualUni (None, 28, 28, 128)       295936    \n",
      "_________________________________________________________________\n",
      "residual_unit_7 (ResidualUni (None, 14, 14, 256)       920576    \n",
      "_________________________________________________________________\n",
      "residual_unit_8 (ResidualUni (None, 14, 14, 256)       1181696   \n",
      "_________________________________________________________________\n",
      "residual_unit_9 (ResidualUni (None, 14, 14, 256)       1181696   \n",
      "_________________________________________________________________\n",
      "residual_unit_10 (ResidualUn (None, 14, 14, 256)       1181696   \n",
      "_________________________________________________________________\n",
      "residual_unit_11 (ResidualUn (None, 14, 14, 256)       1181696   \n",
      "_________________________________________________________________\n",
      "residual_unit_12 (ResidualUn (None, 14, 14, 256)       1181696   \n",
      "_________________________________________________________________\n",
      "residual_unit_13 (ResidualUn (None, 7, 7, 512)         3676160   \n",
      "_________________________________________________________________\n",
      "residual_unit_14 (ResidualUn (None, 7, 7, 512)         4722688   \n",
      "_________________________________________________________________\n",
      "residual_unit_15 (ResidualUn (None, 7, 7, 512)         4722688   \n",
      "_________________________________________________________________\n",
      "global_average_pooling2d (Gl (None, 512)               0         \n",
      "_________________________________________________________________\n",
      "flatten_1 (Flatten)          (None, 512)               0         \n",
      "_________________________________________________________________\n",
      "dense_3 (Dense)              (None, 10)                5130      \n",
      "=================================================================\n",
      "Total params: 21,306,826\n",
      "Trainable params: 21,289,802\n",
      "Non-trainable params: 17,024\n",
      "_________________________________________________________________\n"
     ]
    }
   ],
   "source": [
    "model.summary()"
   ]
  },
  {
   "cell_type": "code",
   "execution_count": 57,
   "metadata": {},
   "outputs": [],
   "source": [
    "def generate_time_series(batch_size, n_steps):\n",
    "    freq1, freq2, offsets1, offsets2 = np.random.rand(4, batch_size, 1)\n",
    "    time = np.linspace(0, 1, n_steps)\n",
    "    series = 0.5 * np.sin((time - offsets1) * (freq1 * 10 + 10)) # wave 1\n",
    "    series += 0.2 * np.sin((time - offsets2) * (freq2 * 20 + 20)) # + wave 2\n",
    "    series += 0.1 * (np.random.rand(batch_size, n_steps) - 0.5) # + noise\n",
    "    return series[..., np.newaxis].astype(np.float32)"
   ]
  },
  {
   "cell_type": "code",
   "execution_count": 61,
   "metadata": {},
   "outputs": [
    {
     "data": {
      "text/plain": [
       "array([[-9.00643636e-01, -8.80235473e-01, -8.59827309e-01,\n",
       "        -8.39419146e-01, -8.19010983e-01, -7.98602820e-01,\n",
       "        -7.78194656e-01, -7.57786493e-01, -7.37378330e-01,\n",
       "        -7.16970167e-01, -6.96562003e-01, -6.76153840e-01,\n",
       "        -6.55745677e-01, -6.35337514e-01, -6.14929350e-01,\n",
       "        -5.94521187e-01, -5.74113024e-01, -5.53704860e-01,\n",
       "        -5.33296697e-01, -5.12888534e-01, -4.92480371e-01,\n",
       "        -4.72072207e-01, -4.51664044e-01, -4.31255881e-01,\n",
       "        -4.10847718e-01, -3.90439554e-01, -3.70031391e-01,\n",
       "        -3.49623228e-01, -3.29215065e-01, -3.08806901e-01,\n",
       "        -2.88398738e-01, -2.67990575e-01, -2.47582412e-01,\n",
       "        -2.27174248e-01, -2.06766085e-01, -1.86357922e-01,\n",
       "        -1.65949758e-01, -1.45541595e-01, -1.25133432e-01,\n",
       "        -1.04725269e-01, -8.43171054e-02, -6.39089421e-02,\n",
       "        -4.35007789e-02, -2.30926156e-02, -2.68445233e-03,\n",
       "         1.77237109e-02,  3.81318742e-02,  5.85400375e-02,\n",
       "         7.89482007e-02,  9.93563640e-02],\n",
       "       [-2.85076418e-01, -2.64668254e-01, -2.44260091e-01,\n",
       "        -2.23851928e-01, -2.03443765e-01, -1.83035601e-01,\n",
       "        -1.62627438e-01, -1.42219275e-01, -1.21811111e-01,\n",
       "        -1.01402948e-01, -8.09947849e-02, -6.05866217e-02,\n",
       "        -4.01784584e-02, -1.97702952e-02,  6.37868113e-04,\n",
       "         2.10460314e-02,  4.14541946e-02,  6.18623579e-02,\n",
       "         8.22705212e-02,  1.02678684e-01,  1.23086848e-01,\n",
       "         1.43495011e-01,  1.63903174e-01,  1.84311338e-01,\n",
       "         2.04719501e-01,  2.25127664e-01,  2.45535827e-01,\n",
       "         2.65943991e-01,  2.86352154e-01,  3.06760317e-01,\n",
       "         3.27168480e-01,  3.47576644e-01,  3.67984807e-01,\n",
       "         3.88392970e-01,  4.08801133e-01,  4.29209297e-01,\n",
       "         4.49617460e-01,  4.70025623e-01,  4.90433786e-01,\n",
       "         5.10841950e-01,  5.31250113e-01,  5.51658276e-01,\n",
       "         5.72066440e-01,  5.92474603e-01,  6.12882766e-01,\n",
       "         6.33290929e-01,  6.53699093e-01,  6.74107256e-01,\n",
       "         6.94515419e-01,  7.14923582e-01],\n",
       "       [-1.15126443e-01, -9.47182793e-02, -7.43101160e-02,\n",
       "        -5.39019527e-02, -3.34937895e-02, -1.30856262e-02,\n",
       "         7.32253707e-03,  2.77307003e-02,  4.81388636e-02,\n",
       "         6.85470269e-02,  8.89551901e-02,  1.09363353e-01,\n",
       "         1.29771517e-01,  1.50179680e-01,  1.70587843e-01,\n",
       "         1.90996006e-01,  2.11404170e-01,  2.31812333e-01,\n",
       "         2.52220496e-01,  2.72628660e-01,  2.93036823e-01,\n",
       "         3.13444986e-01,  3.33853149e-01,  3.54261313e-01,\n",
       "         3.74669476e-01,  3.95077639e-01,  4.15485802e-01,\n",
       "         4.35893966e-01,  4.56302129e-01,  4.76710292e-01,\n",
       "         4.97118455e-01,  5.17526619e-01,  5.37934782e-01,\n",
       "         5.58342945e-01,  5.78751108e-01,  5.99159272e-01,\n",
       "         6.19567435e-01,  6.39975598e-01,  6.60383762e-01,\n",
       "         6.80791925e-01,  7.01200088e-01,  7.21608251e-01,\n",
       "         7.42016415e-01,  7.62424578e-01,  7.82832741e-01,\n",
       "         8.03240904e-01,  8.23649068e-01,  8.44057231e-01,\n",
       "         8.64465394e-01,  8.84873557e-01],\n",
       "       [-8.46163391e-01, -8.25755228e-01, -8.05347064e-01,\n",
       "        -7.84938901e-01, -7.64530738e-01, -7.44122574e-01,\n",
       "        -7.23714411e-01, -7.03306248e-01, -6.82898085e-01,\n",
       "        -6.62489921e-01, -6.42081758e-01, -6.21673595e-01,\n",
       "        -6.01265432e-01, -5.80857268e-01, -5.60449105e-01,\n",
       "        -5.40040942e-01, -5.19632779e-01, -4.99224615e-01,\n",
       "        -4.78816452e-01, -4.58408289e-01, -4.38000126e-01,\n",
       "        -4.17591962e-01, -3.97183799e-01, -3.76775636e-01,\n",
       "        -3.56367472e-01, -3.35959309e-01, -3.15551146e-01,\n",
       "        -2.95142983e-01, -2.74734819e-01, -2.54326656e-01,\n",
       "        -2.33918493e-01, -2.13510330e-01, -1.93102166e-01,\n",
       "        -1.72694003e-01, -1.52285840e-01, -1.31877677e-01,\n",
       "        -1.11469513e-01, -9.10613500e-02, -7.06531867e-02,\n",
       "        -5.02450235e-02, -2.98368602e-02, -9.42869694e-03,\n",
       "         1.09794663e-02,  3.13876296e-02,  5.17957929e-02,\n",
       "         7.22039561e-02,  9.26121194e-02,  1.13020283e-01,\n",
       "         1.33428446e-01,  1.53836609e-01],\n",
       "       [-6.08295020e-02, -4.04213387e-02, -2.00131755e-02,\n",
       "         3.94987788e-04,  2.08031511e-02,  4.12113143e-02,\n",
       "         6.16194776e-02,  8.20276408e-02,  1.02435804e-01,\n",
       "         1.22843967e-01,  1.43252131e-01,  1.63660294e-01,\n",
       "         1.84068457e-01,  2.04476620e-01,  2.24884784e-01,\n",
       "         2.45292947e-01,  2.65701110e-01,  2.86109274e-01,\n",
       "         3.06517437e-01,  3.26925600e-01,  3.47333763e-01,\n",
       "         3.67741927e-01,  3.88150090e-01,  4.08558253e-01,\n",
       "         4.28966416e-01,  4.49374580e-01,  4.69782743e-01,\n",
       "         4.90190906e-01,  5.10599069e-01,  5.31007233e-01,\n",
       "         5.51415396e-01,  5.71823559e-01,  5.92231722e-01,\n",
       "         6.12639886e-01,  6.33048049e-01,  6.53456212e-01,\n",
       "         6.73864376e-01,  6.94272539e-01,  7.14680702e-01,\n",
       "         7.35088865e-01,  7.55497029e-01,  7.75905192e-01,\n",
       "         7.96313355e-01,  8.16721518e-01,  8.37129682e-01,\n",
       "         8.57537845e-01,  8.77946008e-01,  8.98354171e-01,\n",
       "         9.18762335e-01,  9.39170498e-01]])"
      ]
     },
     "execution_count": 61,
     "metadata": {},
     "output_type": "execute_result"
    }
   ],
   "source": [
    "np.linspace(0, 1, 50) - np.random.rand(5, 1)"
   ]
  },
  {
   "cell_type": "code",
   "execution_count": 63,
   "metadata": {},
   "outputs": [
    {
     "data": {
      "text/plain": [
       "array([[[1, 2, 3]],\n",
       "\n",
       "       [[4, 5, 6]]])"
      ]
     },
     "execution_count": 63,
     "metadata": {},
     "output_type": "execute_result"
    }
   ],
   "source": [
    "a = np.array([[1,2,3], [4,5,6]])\n",
    "a[:, np.newaxis, :]"
   ]
  },
  {
   "cell_type": "code",
   "execution_count": 69,
   "metadata": {},
   "outputs": [
    {
     "name": "stdout",
     "output_type": "stream",
     "text": [
      "1 1\n"
     ]
    }
   ],
   "source": [
    "a= [1,2,3]\n",
    "b= [4,5,6]\n",
    "zip(a, b)\n",
    "for i, j in zip([1], [1,2,3]):\n",
    "    print(i, j)"
   ]
  },
  {
   "cell_type": "code",
   "execution_count": 68,
   "metadata": {},
   "outputs": [
    {
     "name": "stdout",
     "output_type": "stream",
     "text": [
      "<zip object at 0x160d25a80>\n"
     ]
    }
   ],
   "source": [
    "print(zip([1], [1,2,3]))"
   ]
  },
  {
   "cell_type": "code",
   "execution_count": 2,
   "metadata": {},
   "outputs": [
    {
     "name": "stdout",
     "output_type": "stream",
     "text": [
      "<zip object at 0x1052eab40>\n"
     ]
    }
   ],
   "source": [
    "print(zip([1], [1,2,3]))"
   ]
  }
 ],
 "metadata": {
  "kernelspec": {
   "display_name": "ml_venv",
   "language": "python",
   "name": "ml_venv"
  },
  "language_info": {
   "codemirror_mode": {
    "name": "ipython",
    "version": 3
   },
   "file_extension": ".py",
   "mimetype": "text/x-python",
   "name": "python",
   "nbconvert_exporter": "python",
   "pygments_lexer": "ipython3",
   "version": "3.8.3"
  }
 },
 "nbformat": 4,
 "nbformat_minor": 4
}
