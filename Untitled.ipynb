{
 "cells": [
  {
   "cell_type": "code",
   "execution_count": 1,
   "metadata": {},
   "outputs": [],
   "source": [
    "import os as qwerty\n",
    "qwerty.getcwd()"
   ]
  },
  {
   "cell_type": "code",
   "execution_count": 2,
   "metadata": {},
   "outputs": [],
   "source": [
    "import numpy as np"
   ]
  },
  {
   "cell_type": "code",
   "execution_count": 3,
   "metadata": {},
   "outputs": [
    {
     "data": {
      "text/plain": [
       "array([1, 2, 3, 4, 5, 6, 7, 8, 9])"
      ]
     },
     "execution_count": 3,
     "metadata": {},
     "output_type": "execute_result"
    }
   ],
   "source": [
    "np.arange(1, 10)"
   ]
  },
  {
   "cell_type": "code",
   "execution_count": 4,
   "metadata": {},
   "outputs": [],
   "source": [
    "import pandas as pd"
   ]
  },
  {
   "cell_type": "code",
   "execution_count": 5,
   "metadata": {},
   "outputs": [],
   "source": [
    "df = pd.DataFrame({'a' : [1,2,3,4,4,55,7,4]})"
   ]
  },
  {
   "cell_type": "code",
   "execution_count": 6,
   "metadata": {},
   "outputs": [
    {
     "data": {
      "text/html": [
       "<div>\n",
       "<style scoped>\n",
       "    .dataframe tbody tr th:only-of-type {\n",
       "        vertical-align: middle;\n",
       "    }\n",
       "\n",
       "    .dataframe tbody tr th {\n",
       "        vertical-align: top;\n",
       "    }\n",
       "\n",
       "    .dataframe thead th {\n",
       "        text-align: right;\n",
       "    }\n",
       "</style>\n",
       "<table border=\"1\" class=\"dataframe\">\n",
       "  <thead>\n",
       "    <tr style=\"text-align: right;\">\n",
       "      <th></th>\n",
       "      <th>a</th>\n",
       "    </tr>\n",
       "  </thead>\n",
       "  <tbody>\n",
       "    <tr>\n",
       "      <th>0</th>\n",
       "      <td>1</td>\n",
       "    </tr>\n",
       "    <tr>\n",
       "      <th>1</th>\n",
       "      <td>2</td>\n",
       "    </tr>\n",
       "    <tr>\n",
       "      <th>2</th>\n",
       "      <td>3</td>\n",
       "    </tr>\n",
       "    <tr>\n",
       "      <th>3</th>\n",
       "      <td>4</td>\n",
       "    </tr>\n",
       "    <tr>\n",
       "      <th>4</th>\n",
       "      <td>4</td>\n",
       "    </tr>\n",
       "    <tr>\n",
       "      <th>5</th>\n",
       "      <td>55</td>\n",
       "    </tr>\n",
       "    <tr>\n",
       "      <th>6</th>\n",
       "      <td>7</td>\n",
       "    </tr>\n",
       "    <tr>\n",
       "      <th>7</th>\n",
       "      <td>4</td>\n",
       "    </tr>\n",
       "  </tbody>\n",
       "</table>\n",
       "</div>"
      ],
      "text/plain": [
       "    a\n",
       "0   1\n",
       "1   2\n",
       "2   3\n",
       "3   4\n",
       "4   4\n",
       "5  55\n",
       "6   7\n",
       "7   4"
      ]
     },
     "execution_count": 6,
     "metadata": {},
     "output_type": "execute_result"
    }
   ],
   "source": [
    "df"
   ]
  },
  {
   "cell_type": "code",
   "execution_count": 7,
   "metadata": {},
   "outputs": [],
   "source": [
    "(x, y) = (1, 2)"
   ]
  },
  {
   "cell_type": "code",
   "execution_count": 8,
   "metadata": {},
   "outputs": [
    {
     "data": {
      "text/plain": [
       "1"
      ]
     },
     "execution_count": 8,
     "metadata": {},
     "output_type": "execute_result"
    }
   ],
   "source": [
    "x"
   ]
  },
  {
   "cell_type": "code",
   "execution_count": 9,
   "metadata": {},
   "outputs": [
    {
     "data": {
      "text/plain": [
       "2"
      ]
     },
     "execution_count": 9,
     "metadata": {},
     "output_type": "execute_result"
    }
   ],
   "source": [
    "y"
   ]
  },
  {
   "cell_type": "code",
   "execution_count": 10,
   "metadata": {},
   "outputs": [],
   "source": [
    "import numpy as np"
   ]
  },
  {
   "cell_type": "code",
   "execution_count": 11,
   "metadata": {},
   "outputs": [],
   "source": [
    "X = 2 * np.random.rand(100, 1)\n",
    "y = 4 + 3 * X + np.random.randn(100, 1)"
   ]
  },
  {
   "cell_type": "code",
   "execution_count": 12,
   "metadata": {},
   "outputs": [
    {
     "data": {
      "image/png": "[encoded data removed]",
      "text/plain": [
       "<Figure size 432x288 with 1 Axes>"
      ]
     },
     "metadata": {
      "needs_background": "light"
     },
     "output_type": "display_data"
    }
   ],
   "source": [
    "import matplotlib.pyplot as plt\n",
    "plt.plot(X, y, 'x')\n",
    "plt.show()"
   ]
  },
  {
   "cell_type": "code",
   "execution_count": 13,
   "metadata": {},
   "outputs": [],
   "source": [
    "X_b = np.c_[np.ones((100, 1)), X]"
   ]
  },
  {
   "cell_type": "code",
   "execution_count": 14,
   "metadata": {},
   "outputs": [],
   "source": [
    "from numpy.linalg import inv\n",
    "theta = inv(X_b.T.dot(X_b)).dot(X_b.T).dot(y)"
   ]
  },
  {
   "cell_type": "code",
   "execution_count": 15,
   "metadata": {},
   "outputs": [
    {
     "data": {
      "text/plain": [
       "array([[3.99922262],\n",
       "       [2.99875038]])"
      ]
     },
     "execution_count": 15,
     "metadata": {},
     "output_type": "execute_result"
    }
   ],
   "source": [
    "theta"
   ]
  },
  {
   "cell_type": "code",
   "execution_count": 16,
   "metadata": {},
   "outputs": [],
   "source": [
    "a = np.array([0, 2])"
   ]
  },
  {
   "cell_type": "code",
   "execution_count": 17,
   "metadata": {},
   "outputs": [],
   "source": [
    "b = np.c_[np.ones((2,1)), a].dot(theta)"
   ]
  },
  {
   "cell_type": "code",
   "execution_count": 18,
   "metadata": {},
   "outputs": [
    {
     "data": {
      "image/png": "[encoded data removed]",
      "text/plain": [
       "<Figure size 864x720 with 1 Axes>"
      ]
     },
     "metadata": {
      "needs_background": "light"
     },
     "output_type": "display_data"
    }
   ],
   "source": [
    "plt.figure(figsize=(12, 10))\n",
    "plt.plot(X, y, 'x')\n",
    "plt.plot(a, b, label='Prediciton', color='r')\n",
    "plt.legend(loc='upper left')\n",
    "plt.show()"
   ]
  },
  {
   "cell_type": "code",
   "execution_count": 19,
   "metadata": {},
   "outputs": [],
   "source": [
    "from sklearn.linear_model import LinearRegression"
   ]
  },
  {
   "cell_type": "code",
   "execution_count": 20,
   "metadata": {},
   "outputs": [
    {
     "data": {
      "text/plain": [
       "array([[3.99922262],\n",
       "       [2.99875038]])"
      ]
     },
     "execution_count": 20,
     "metadata": {},
     "output_type": "execute_result"
    }
   ],
   "source": [
    "step = 0.1\n",
    "theta = np.random.randn(2, 1)\n",
    "m = 100\n",
    "for i in range(10000):\n",
    "    theta = theta - step * (2 / m) * (X_b.T).dot(X_b.dot(theta) - y)\n",
    "\n",
    "theta"
   ]
  },
  {
   "cell_type": "code",
   "execution_count": 21,
   "metadata": {},
   "outputs": [
    {
     "data": {
      "text/plain": [
       "SGDRegressor(max_iter=10000)"
      ]
     },
     "execution_count": 21,
     "metadata": {},
     "output_type": "execute_result"
    }
   ],
   "source": [
    "from sklearn.linear_model import SGDRegressor\n",
    "\n",
    "sgd_model = SGDRegressor(max_iter=10000, learning_rate='invscaling')\n",
    "sgd_model.fit(X, y.ravel())"
   ]
  },
  {
   "cell_type": "code",
   "execution_count": 22,
   "metadata": {},
   "outputs": [
    {
     "data": {
      "text/plain": [
       "array([10.20190131])"
      ]
     },
     "execution_count": 22,
     "metadata": {},
     "output_type": "execute_result"
    }
   ],
   "source": [
    "sgd_model.predict([[2]])"
   ]
  },
  {
   "cell_type": "code",
   "execution_count": 23,
   "metadata": {},
   "outputs": [
    {
     "data": {
      "text/plain": [
       "[<matplotlib.lines.Line2D at 0x1217e2760>]"
      ]
     },
     "execution_count": 23,
     "metadata": {},
     "output_type": "execute_result"
    },
    {
     "data": {
      "image/png": "[encoded data removed]",
      "text/plain": [
       "<Figure size 432x288 with 1 Axes>"
      ]
     },
     "metadata": {
      "needs_background": "light"
     },
     "output_type": "display_data"
    }
   ],
   "source": [
    "X = 2 * np.random.rand(100,1)\n",
    "y = 5 + 2 * X + X**2 + np.random.randn(100, 1)\n",
    "plt.plot(X, y, '.')"
   ]
  },
  {
   "cell_type": "code",
   "execution_count": 24,
   "metadata": {},
   "outputs": [
    {
     "data": {
      "text/plain": [
       "array([[1.14525816e+00, 1.31161625e+00],\n",
       "       [5.40398018e-02, 2.92030018e-03],\n",
       "       [1.90186762e+00, 3.61710044e+00],\n",
       "       [1.88204236e+00, 3.54208346e+00],\n",
       "       [8.39067835e-01, 7.04034832e-01],\n",
       "       [5.13893927e-01, 2.64086968e-01],\n",
       "       [3.03034373e-01, 9.18298312e-02],\n",
       "       [6.88397933e-01, 4.73891715e-01],\n",
       "       [1.45136535e+00, 2.10646138e+00],\n",
       "       [3.35942273e-01, 1.12857211e-01],\n",
       "       [1.19544585e+00, 1.42909077e+00],\n",
       "       [6.28138901e-01, 3.94558478e-01],\n",
       "       [1.00911667e+00, 1.01831645e+00],\n",
       "       [6.57900283e-01, 4.32832782e-01],\n",
       "       [8.67205605e-01, 7.52045561e-01],\n",
       "       [1.06440971e+00, 1.13296803e+00],\n",
       "       [1.11441595e+00, 1.24192291e+00],\n",
       "       [1.32800528e+00, 1.76359801e+00],\n",
       "       [5.17099631e-01, 2.67392028e-01],\n",
       "       [1.78691757e+00, 3.19307440e+00],\n",
       "       [3.95029266e-01, 1.56048121e-01],\n",
       "       [1.68590073e+00, 2.84226129e+00],\n",
       "       [1.44007214e-01, 2.07380776e-02],\n",
       "       [7.86053046e-01, 6.17879391e-01],\n",
       "       [1.61071872e+00, 2.59441481e+00],\n",
       "       [9.48713806e-03, 9.00057885e-05],\n",
       "       [2.75726798e-01, 7.60252670e-02],\n",
       "       [1.31263663e+00, 1.72301492e+00],\n",
       "       [1.38239453e+00, 1.91101462e+00],\n",
       "       [1.25526089e-01, 1.57567989e-02],\n",
       "       [1.96381436e+00, 3.85656685e+00],\n",
       "       [1.20983348e+00, 1.46369704e+00],\n",
       "       [1.19993902e+00, 1.43985365e+00],\n",
       "       [1.28849868e+00, 1.66022885e+00],\n",
       "       [9.61419288e-01, 9.24327047e-01],\n",
       "       [1.37416594e-01, 1.88833203e-02],\n",
       "       [2.74598144e-01, 7.54041406e-02],\n",
       "       [1.38592641e+00, 1.92079202e+00],\n",
       "       [1.54250687e+00, 2.37932744e+00],\n",
       "       [1.55672736e+00, 2.42340007e+00],\n",
       "       [1.32796454e+00, 1.76348981e+00],\n",
       "       [1.72997064e+00, 2.99279842e+00],\n",
       "       [8.57399934e-01, 7.35134647e-01],\n",
       "       [1.90155920e+00, 3.61592739e+00],\n",
       "       [1.42403361e+00, 2.02787173e+00],\n",
       "       [1.97912188e+00, 3.91692343e+00],\n",
       "       [1.04710325e+00, 1.09642521e+00],\n",
       "       [1.79673730e+00, 3.22826493e+00],\n",
       "       [3.17785055e-01, 1.00987341e-01],\n",
       "       [2.78505702e-01, 7.75654258e-02],\n",
       "       [3.39024355e-01, 1.14937513e-01],\n",
       "       [9.16091646e-01, 8.39223903e-01],\n",
       "       [2.11844041e-01, 4.48778977e-02],\n",
       "       [2.05938733e-01, 4.24107617e-02],\n",
       "       [1.03728748e+00, 1.07596531e+00],\n",
       "       [1.21088626e+00, 1.46624554e+00],\n",
       "       [1.33055801e-01, 1.77038461e-02],\n",
       "       [1.91702877e+00, 3.67499930e+00],\n",
       "       [7.85753846e-01, 6.17409107e-01],\n",
       "       [1.67980108e+00, 2.82173167e+00],\n",
       "       [1.51775211e+00, 2.30357147e+00],\n",
       "       [1.29763315e+00, 1.68385178e+00],\n",
       "       [1.33975588e+00, 1.79494583e+00],\n",
       "       [1.47751305e+00, 2.18304481e+00],\n",
       "       [9.40632432e-01, 8.84789372e-01],\n",
       "       [1.48083111e+00, 2.19286078e+00],\n",
       "       [3.68933705e-01, 1.36112079e-01],\n",
       "       [5.04612534e-01, 2.54633810e-01],\n",
       "       [1.11861383e+00, 1.25129690e+00],\n",
       "       [9.31588964e-01, 8.67857999e-01],\n",
       "       [4.94304654e-01, 2.44337091e-01],\n",
       "       [5.82785297e-01, 3.39638703e-01],\n",
       "       [1.68227829e+00, 2.83006026e+00],\n",
       "       [5.06724650e-01, 2.56769871e-01],\n",
       "       [2.25582906e-01, 5.08876473e-02],\n",
       "       [2.47897890e-01, 6.14533639e-02],\n",
       "       [7.80885331e-01, 6.09781900e-01],\n",
       "       [1.70525849e+00, 2.90790650e+00],\n",
       "       [7.55647667e-01, 5.71003397e-01],\n",
       "       [8.85638704e-01, 7.84355914e-01],\n",
       "       [3.38962161e-02, 1.14895346e-03],\n",
       "       [1.82684192e+00, 3.33735142e+00],\n",
       "       [1.79060471e+00, 3.20626523e+00],\n",
       "       [1.34962172e+00, 1.82147879e+00],\n",
       "       [1.66288045e+00, 2.76517138e+00],\n",
       "       [1.63450218e-01, 2.67159737e-02],\n",
       "       [1.34621051e+00, 1.81228274e+00],\n",
       "       [1.79165156e+00, 3.21001530e+00],\n",
       "       [1.47434205e+00, 2.17368449e+00],\n",
       "       [1.45769571e+00, 2.12487679e+00],\n",
       "       [1.16805821e+00, 1.36435999e+00],\n",
       "       [2.92027186e-01, 8.52798776e-02],\n",
       "       [5.51648669e-01, 3.04316255e-01],\n",
       "       [7.68942468e-02, 5.91272520e-03],\n",
       "       [1.07784115e+00, 1.16174156e+00],\n",
       "       [1.59552946e+00, 2.54571425e+00],\n",
       "       [1.74547058e+00, 3.04666755e+00],\n",
       "       [4.44015212e-02, 1.97149508e-03],\n",
       "       [4.93666747e-01, 2.43706857e-01],\n",
       "       [1.92532790e+00, 3.70688753e+00]])"
      ]
     },
     "execution_count": 24,
     "metadata": {},
     "output_type": "execute_result"
    }
   ],
   "source": [
    "from sklearn.preprocessing import PolynomialFeatures\n",
    "poly_features = PolynomialFeatures(degree=2, include_bias=False)\n",
    "\n",
    "X_new = poly_features.fit_transform(X)\n",
    "X_new"
   ]
  },
  {
   "cell_type": "code",
   "execution_count": 25,
   "metadata": {},
   "outputs": [
    {
     "data": {
      "text/plain": [
       "LinearRegression()"
      ]
     },
     "execution_count": 25,
     "metadata": {},
     "output_type": "execute_result"
    }
   ],
   "source": [
    "from sklearn.linear_model import LinearRegression\n",
    "lin_model = LinearRegression()\n",
    "lin_model.fit(X_new, y)"
   ]
  },
  {
   "cell_type": "code",
   "execution_count": 26,
   "metadata": {},
   "outputs": [],
   "source": [
    "T = np.linspace(0, 2, 100).reshape(100, 1)\n",
    "t = poly_features.fit_transform(T)"
   ]
  },
  {
   "cell_type": "code",
   "execution_count": 27,
   "metadata": {},
   "outputs": [],
   "source": [
    "y_t = lin_model.predict(t)"
   ]
  },
  {
   "cell_type": "code",
   "execution_count": 28,
   "metadata": {},
   "outputs": [
    {
     "data": {
      "text/plain": [
       "[<matplotlib.lines.Line2D at 0x1218aa100>]"
      ]
     },
     "execution_count": 28,
     "metadata": {},
     "output_type": "execute_result"
    },
    {
     "data": {
      "image/png": "[encoded data removed]",
      "text/plain": [
       "<Figure size 432x288 with 1 Axes>"
      ]
     },
     "metadata": {
      "needs_background": "light"
     },
     "output_type": "display_data"
    }
   ],
   "source": [
    "plt.plot(X, y, '.')\n",
    "plt.plot(T, y_t)"
   ]
  },
  {
   "cell_type": "code",
   "execution_count": 29,
   "metadata": {},
   "outputs": [],
   "source": [
    "np.linspace?"
   ]
  },
  {
   "cell_type": "code",
   "execution_count": 30,
   "metadata": {},
   "outputs": [
    {
     "data": {
      "text/plain": [
       "array([[0., 0.],\n",
       "       [0., 0.]])"
      ]
     },
     "execution_count": 30,
     "metadata": {},
     "output_type": "execute_result"
    }
   ],
   "source": [
    "np.zeros((2,2))"
   ]
  },
  {
   "cell_type": "code",
   "execution_count": 31,
   "metadata": {},
   "outputs": [],
   "source": [
    "x, y = np.ogrid[1:10, 2 : 5]"
   ]
  },
  {
   "cell_type": "code",
   "execution_count": 32,
   "metadata": {},
   "outputs": [],
   "source": [
    "a, b = np.meshgrid(np.arange(10), np.arange(4))"
   ]
  },
  {
   "cell_type": "code",
   "execution_count": 33,
   "metadata": {},
   "outputs": [
    {
     "data": {
      "text/plain": [
       "array([ 0,  4,  8, 12, 16, 20, 24, 28, 32, 36])"
      ]
     },
     "execution_count": 33,
     "metadata": {},
     "output_type": "execute_result"
    }
   ],
   "source": [
    "a.sum(axis=0)"
   ]
  },
  {
   "cell_type": "code",
   "execution_count": 34,
   "metadata": {},
   "outputs": [
    {
     "data": {
      "text/plain": [
       "array([[0, 0, 0, 0, 0, 0, 0, 0, 0, 0],\n",
       "       [1, 1, 1, 1, 1, 1, 1, 1, 1, 1],\n",
       "       [2, 2, 2, 2, 2, 2, 2, 2, 2, 2],\n",
       "       [3, 3, 3, 3, 3, 3, 3, 3, 3, 3]])"
      ]
     },
     "execution_count": 34,
     "metadata": {},
     "output_type": "execute_result"
    }
   ],
   "source": [
    "b"
   ]
  },
  {
   "cell_type": "code",
   "execution_count": 35,
   "metadata": {},
   "outputs": [],
   "source": [
    "match = np.array([np.arange(100, 110),\n",
    "                  np.arange(155, 165),\n",
    "                  np.arange(173, 183)])"
   ]
  },
  {
   "cell_type": "code",
   "execution_count": 36,
   "metadata": {},
   "outputs": [
    {
     "data": {
      "text/plain": [
       "array([[100, 101, 102, 103, 104, 105, 106, 107, 108, 109],\n",
       "       [155, 156, 157, 158, 159, 160, 161, 162, 163, 164],\n",
       "       [173, 174, 175, 176, 177, 178, 179, 180, 181, 182]])"
      ]
     },
     "execution_count": 36,
     "metadata": {},
     "output_type": "execute_result"
    }
   ],
   "source": [
    "match"
   ]
  },
  {
   "cell_type": "code",
   "execution_count": 37,
   "metadata": {},
   "outputs": [
    {
     "data": {
      "text/plain": [
       "array([[0.52615605],\n",
       "       [0.83954596],\n",
       "       [0.23460123],\n",
       "       [0.70828807],\n",
       "       [0.4668887 ],\n",
       "       [0.23270254],\n",
       "       [0.05863625],\n",
       "       [0.48199845],\n",
       "       [0.88878906],\n",
       "       [0.79795395]])"
      ]
     },
     "execution_count": 37,
     "metadata": {},
     "output_type": "execute_result"
    }
   ],
   "source": [
    "np.random.random((10, 1))"
   ]
  },
  {
   "cell_type": "code",
   "execution_count": 38,
   "metadata": {},
   "outputs": [
    {
     "data": {
      "text/plain": [
       "dtype([('dsa', '<i4'), ('q', '<c16')])"
      ]
     },
     "execution_count": 38,
     "metadata": {},
     "output_type": "execute_result"
    }
   ],
   "source": [
    "np.dtype([('dsa', np.int32), ('q', np.complex)])"
   ]
  },
  {
   "cell_type": "code",
   "execution_count": 39,
   "metadata": {},
   "outputs": [],
   "source": [
    "# x = [[11,5,4], [42]] \n",
    "# np.array(x, dtype=[('dsa', [('a', np.int8), ('b', np.int8), ('c', np.int8)]), ('ewf', np.int8)])"
   ]
  },
  {
   "cell_type": "code",
   "execution_count": 40,
   "metadata": {},
   "outputs": [],
   "source": [
    "a = np.array([[ 0,  1,  2],[ 3,  4,  5],[ 6,  7,  8],[ 9, 10, 11]]) "
   ]
  },
  {
   "cell_type": "code",
   "execution_count": 41,
   "metadata": {},
   "outputs": [
    {
     "data": {
      "text/plain": [
       "array([[ 0,  3,  6,  9],\n",
       "       [ 1,  4,  7, 10],\n",
       "       [ 2,  5,  8, 11]])"
      ]
     },
     "execution_count": 41,
     "metadata": {},
     "output_type": "execute_result"
    }
   ],
   "source": [
    "a.swapaxes(1, 0)"
   ]
  },
  {
   "cell_type": "code",
   "execution_count": 42,
   "metadata": {},
   "outputs": [
    {
     "data": {
      "text/plain": [
       "<numpy.broadcast at 0x7fe15f7dce30>"
      ]
     },
     "execution_count": 42,
     "metadata": {},
     "output_type": "execute_result"
    }
   ],
   "source": [
    "x = np.array([[1], [2], [3]]) \n",
    "y = np.array([4, 5, 6])  \n",
    "b = np.broadcast(x, y)\n",
    "b"
   ]
  },
  {
   "cell_type": "code",
   "execution_count": 43,
   "metadata": {},
   "outputs": [],
   "source": [
    "c = np.array([1,2,4,5,6,7, 2, 1, 5, 3, 0])"
   ]
  },
  {
   "cell_type": "code",
   "execution_count": 44,
   "metadata": {},
   "outputs": [
    {
     "data": {
      "text/plain": [
       "(array([0, 1, 2, 3, 4, 5, 6, 7]), array([10,  0,  1,  9,  2,  3,  4,  5]))"
      ]
     },
     "execution_count": 44,
     "metadata": {},
     "output_type": "execute_result"
    }
   ],
   "source": [
    "np.unique(c, return_index=True)"
   ]
  },
  {
   "cell_type": "code",
   "execution_count": 45,
   "metadata": {},
   "outputs": [
    {
     "data": {
      "text/plain": [
       "array(['hello abc', 'hi xyz'], dtype='<U9')"
      ]
     },
     "execution_count": 45,
     "metadata": {},
     "output_type": "execute_result"
    }
   ],
   "source": [
    "np.char.add(['hello', 'hi'],[' abc', ' xyz'])"
   ]
  },
  {
   "cell_type": "code",
   "execution_count": 46,
   "metadata": {},
   "outputs": [],
   "source": [
    "np.random.normal?\n"
   ]
  },
  {
   "cell_type": "code",
   "execution_count": 47,
   "metadata": {},
   "outputs": [],
   "source": [
    "a = np.array([[ 0,  1,  2],[ 3,  4,  5],[ 6,  7,  8],[ 9, 10, 11]]) "
   ]
  },
  {
   "cell_type": "code",
   "execution_count": 48,
   "metadata": {},
   "outputs": [],
   "source": [
    "o = np.ones((4,4))\n",
    "z = np.zeros((4,4))"
   ]
  },
  {
   "cell_type": "code",
   "execution_count": 49,
   "metadata": {},
   "outputs": [
    {
     "ename": "IndexError",
     "evalue": "too many indices for array: array is 1-dimensional, but 3 were indexed",
     "output_type": "error",
     "traceback": [
      "\u001b[0;31m---------------------------------------------------------------------------\u001b[0m",
      "\u001b[0;31mIndexError\u001b[0m                                Traceback (most recent call last)",
      "\u001b[0;32m<ipython-input-49-0f5b57cf34d0>\u001b[0m in \u001b[0;36m<module>\u001b[0;34m\u001b[0m\n\u001b[1;32m      1\u001b[0m \u001b[0mb\u001b[0m \u001b[0;34m=\u001b[0m \u001b[0ma\u001b[0m\u001b[0;34m[\u001b[0m\u001b[0;36m1\u001b[0m\u001b[0;34m]\u001b[0m\u001b[0;34m\u001b[0m\u001b[0;34m\u001b[0m\u001b[0m\n\u001b[0;32m----> 2\u001b[0;31m \u001b[0mb\u001b[0m\u001b[0;34m[\u001b[0m\u001b[0;34m(\u001b[0m\u001b[0;36m2\u001b[0m\u001b[0;34m,\u001b[0m\u001b[0;36m1\u001b[0m\u001b[0;34m,\u001b[0m\u001b[0;36m0\u001b[0m\u001b[0;34m)\u001b[0m\u001b[0;34m]\u001b[0m\u001b[0;34m\u001b[0m\u001b[0;34m\u001b[0m\u001b[0m\n\u001b[0m",
      "\u001b[0;31mIndexError\u001b[0m: too many indices for array: array is 1-dimensional, but 3 were indexed"
     ]
    }
   ],
   "source": [
    "b = a[1]\n",
    "b[(2,1,0)]"
   ]
  },
  {
   "cell_type": "code",
   "execution_count": 50,
   "metadata": {},
   "outputs": [
    {
     "data": {
      "text/plain": [
       "array([[1, 4, 7],\n",
       "       [2, 5, 8],\n",
       "       [3, 6, 9]])"
      ]
     },
     "execution_count": 50,
     "metadata": {},
     "output_type": "execute_result"
    }
   ],
   "source": [
    "import numpy as np\n",
    "a = np.array([1,2,3]).reshape(3, 1)\n",
    "b = np.array([4,5,6]).reshape(3, 1)\n",
    "c = np.array([7,8,9]).reshape(3, 1)\n",
    "np.concatenate((a, b, c), axis=1)"
   ]
  },
  {
   "cell_type": "code",
   "execution_count": 51,
   "metadata": {},
   "outputs": [],
   "source": [
    "d = np.arange(100).reshape(25, 4)"
   ]
  },
  {
   "cell_type": "code",
   "execution_count": 52,
   "metadata": {},
   "outputs": [
    {
     "data": {
      "text/plain": [
       "array([[1],\n",
       "       [2],\n",
       "       [3]])"
      ]
     },
     "execution_count": 52,
     "metadata": {},
     "output_type": "execute_result"
    }
   ],
   "source": [
    "b = a[:]\n",
    "b"
   ]
  },
  {
   "cell_type": "code",
   "execution_count": 53,
   "metadata": {},
   "outputs": [
    {
     "data": {
      "text/plain": [
       "array([[99],\n",
       "       [ 2],\n",
       "       [ 3]])"
      ]
     },
     "execution_count": 53,
     "metadata": {},
     "output_type": "execute_result"
    }
   ],
   "source": [
    "b[0, 0] = 99\n",
    "a"
   ]
  },
  {
   "cell_type": "code",
   "execution_count": 54,
   "metadata": {},
   "outputs": [
    {
     "data": {
      "text/plain": [
       "array([[9801],\n",
       "       [   4],\n",
       "       [   9]])"
      ]
     },
     "execution_count": 54,
     "metadata": {},
     "output_type": "execute_result"
    }
   ],
   "source": [
    "a * b"
   ]
  },
  {
   "cell_type": "code",
   "execution_count": 55,
   "metadata": {},
   "outputs": [
    {
     "data": {
      "text/plain": [
       "array([[9.4005131 , 2.29181802, 3.61739307],\n",
       "       [4.99877413, 1.10712557, 3.28732026]])"
      ]
     },
     "execution_count": 55,
     "metadata": {},
     "output_type": "execute_result"
    }
   ],
   "source": [
    "np.random.uniform(1, 10, size=(2,3))"
   ]
  },
  {
   "cell_type": "code",
   "execution_count": 56,
   "metadata": {},
   "outputs": [],
   "source": [
    "d = np.concatenate((a, b, c), axis=1)"
   ]
  },
  {
   "cell_type": "code",
   "execution_count": 57,
   "metadata": {},
   "outputs": [
    {
     "data": {
      "text/plain": [
       "array([[ 7, 99, 99],\n",
       "       [ 8,  2,  2],\n",
       "       [ 9,  3,  3]])"
      ]
     },
     "execution_count": 57,
     "metadata": {},
     "output_type": "execute_result"
    }
   ],
   "source": [
    "np.flip(d, axis=1)"
   ]
  },
  {
   "cell_type": "code",
   "execution_count": 58,
   "metadata": {},
   "outputs": [
    {
     "data": {
      "text/plain": [
       "array([[99,  2,  3]])"
      ]
     },
     "execution_count": 58,
     "metadata": {},
     "output_type": "execute_result"
    }
   ],
   "source": [
    "e = a.T\n",
    "e"
   ]
  },
  {
   "cell_type": "code",
   "execution_count": 59,
   "metadata": {},
   "outputs": [],
   "source": [
    "e[0] = 1"
   ]
  },
  {
   "cell_type": "code",
   "execution_count": 60,
   "metadata": {},
   "outputs": [
    {
     "data": {
      "text/plain": [
       "array([[1, 1, 1]])"
      ]
     },
     "execution_count": 60,
     "metadata": {},
     "output_type": "execute_result"
    }
   ],
   "source": [
    "e"
   ]
  },
  {
   "cell_type": "code",
   "execution_count": 61,
   "metadata": {},
   "outputs": [
    {
     "data": {
      "text/plain": [
       "array([[7, 7, 7],\n",
       "       [8, 8, 8],\n",
       "       [9, 9, 9]])"
      ]
     },
     "execution_count": 61,
     "metadata": {},
     "output_type": "execute_result"
    }
   ],
   "source": [
    "c.repeat(3, axis=1)"
   ]
  },
  {
   "cell_type": "code",
   "execution_count": 62,
   "metadata": {},
   "outputs": [
    {
     "data": {
      "text/plain": [
       "[[0, 1, 2, 3], [10, 11, 12, 13], [20, 21, 22, 23], [30, 31, 32, 33]]"
      ]
     },
     "execution_count": 62,
     "metadata": {},
     "output_type": "execute_result"
    }
   ],
   "source": [
    "choices = [[0, 1, 2, 3], [10, 11, 12, 13],\n",
    "           [20, 21, 22, 23], [30, 31, 32, 33]]\n",
    "choices"
   ]
  },
  {
   "cell_type": "code",
   "execution_count": 63,
   "metadata": {},
   "outputs": [
    {
     "data": {
      "text/plain": [
       "array([ 0, 21, 32, 13])"
      ]
     },
     "execution_count": 63,
     "metadata": {},
     "output_type": "execute_result"
    }
   ],
   "source": [
    "np.choose([0, 2, 3, 1], choices)"
   ]
  },
  {
   "cell_type": "code",
   "execution_count": 64,
   "metadata": {},
   "outputs": [
    {
     "data": {
      "text/plain": [
       "array([[0, 3],\n",
       "       [2, 2]])"
      ]
     },
     "execution_count": 64,
     "metadata": {},
     "output_type": "execute_result"
    }
   ],
   "source": [
    "x = np.array([[0, 3], [2, 2]])\n",
    "x"
   ]
  },
  {
   "cell_type": "code",
   "execution_count": 65,
   "metadata": {},
   "outputs": [
    {
     "data": {
      "text/plain": [
       "array([[0, 1],\n",
       "       [1, 0]])"
      ]
     },
     "execution_count": 65,
     "metadata": {},
     "output_type": "execute_result"
    }
   ],
   "source": [
    "y = np.argsort(x, axis=0)\n",
    "y"
   ]
  },
  {
   "cell_type": "code",
   "execution_count": 66,
   "metadata": {},
   "outputs": [
    {
     "data": {
      "text/plain": [
       "array([[0, 2],\n",
       "       [2, 3]])"
      ]
     },
     "execution_count": 66,
     "metadata": {},
     "output_type": "execute_result"
    }
   ],
   "source": [
    "np.take_along_axis(x, y, axis=0)"
   ]
  },
  {
   "cell_type": "code",
   "execution_count": 67,
   "metadata": {},
   "outputs": [
    {
     "data": {
      "text/plain": [
       "dtype([('a', '?'), ('b', 'i1'), ('c', '<f4')])"
      ]
     },
     "execution_count": 67,
     "metadata": {},
     "output_type": "execute_result"
    }
   ],
   "source": [
    "dt = np.dtype([('a', bool), ('b', np.int8), ('c', np.float32)])\n",
    "dt"
   ]
  },
  {
   "cell_type": "code",
   "execution_count": 68,
   "metadata": {},
   "outputs": [],
   "source": [
    "dt = np.dtype({'col1': ('U10', 0), 'col2': (np.float32, 10),\n",
    "               'col3': (int, 14)})"
   ]
  },
  {
   "cell_type": "code",
   "execution_count": 69,
   "metadata": {},
   "outputs": [
    {
     "data": {
      "text/plain": [
       "array([('', 0., 0), ('', 0., 0), ('', 0., 0), ('', 0., 0)],\n",
       "      dtype={'names':['col1','col2','col3'], 'formats':['<U10','<f4','<i8'], 'offsets':[0,10,14], 'itemsize':40})"
      ]
     },
     "execution_count": 69,
     "metadata": {},
     "output_type": "execute_result"
    }
   ],
   "source": [
    "np.zeros(4, dtype=dt)"
   ]
  },
  {
   "cell_type": "code",
   "execution_count": 70,
   "metadata": {},
   "outputs": [
    {
     "data": {
      "text/plain": [
       "array([[0, 3],\n",
       "       [2, 2]])"
      ]
     },
     "execution_count": 70,
     "metadata": {},
     "output_type": "execute_result"
    }
   ],
   "source": [
    "x"
   ]
  },
  {
   "cell_type": "code",
   "execution_count": 71,
   "metadata": {},
   "outputs": [
    {
     "data": {
      "text/plain": [
       "array([3, 4])"
      ]
     },
     "execution_count": 71,
     "metadata": {},
     "output_type": "execute_result"
    }
   ],
   "source": [
    "x.sum(-1)"
   ]
  },
  {
   "cell_type": "code",
   "execution_count": 72,
   "metadata": {},
   "outputs": [
    {
     "data": {
      "text/plain": [
       "array([0, 1, 2, 3, 4, 5, 6, 7, 8])"
      ]
     },
     "execution_count": 72,
     "metadata": {},
     "output_type": "execute_result"
    }
   ],
   "source": [
    "np.arange(9)"
   ]
  },
  {
   "cell_type": "code",
   "execution_count": 74,
   "metadata": {},
   "outputs": [],
   "source": [
    "a = np.arange(100)"
   ]
  },
  {
   "cell_type": "code",
   "execution_count": 75,
   "metadata": {},
   "outputs": [
    {
     "data": {
      "text/plain": [
       "array([[[[ 0,  1,  2,  3,  4],\n",
       "         [ 5,  6,  7,  8,  9],\n",
       "         [10, 11, 12, 13, 14],\n",
       "         [15, 16, 17, 18, 19],\n",
       "         [20, 21, 22, 23, 24]],\n",
       "\n",
       "        [[25, 26, 27, 28, 29],\n",
       "         [30, 31, 32, 33, 34],\n",
       "         [35, 36, 37, 38, 39],\n",
       "         [40, 41, 42, 43, 44],\n",
       "         [45, 46, 47, 48, 49]]],\n",
       "\n",
       "\n",
       "       [[[50, 51, 52, 53, 54],\n",
       "         [55, 56, 57, 58, 59],\n",
       "         [60, 61, 62, 63, 64],\n",
       "         [65, 66, 67, 68, 69],\n",
       "         [70, 71, 72, 73, 74]],\n",
       "\n",
       "        [[75, 76, 77, 78, 79],\n",
       "         [80, 81, 82, 83, 84],\n",
       "         [85, 86, 87, 88, 89],\n",
       "         [90, 91, 92, 93, 94],\n",
       "         [95, 96, 97, 98, 99]]]])"
      ]
     },
     "execution_count": 75,
     "metadata": {},
     "output_type": "execute_result"
    }
   ],
   "source": [
    "a.reshape(2, 2, 5, 5)"
   ]
  },
  {
   "cell_type": "code",
   "execution_count": 2,
   "metadata": {},
   "outputs": [
    {
     "data": {
      "text/plain": [
       "array([ -1, -19,  -1])"
      ]
     },
     "execution_count": 2,
     "metadata": {},
     "output_type": "execute_result"
    }
   ],
   "source": [
    "import numpy as np\n",
    "np.array([3,5,2]) - [4,24,3]"
   ]
  },
  {
   "cell_type": "code",
   "execution_count": 5,
   "metadata": {},
   "outputs": [
    {
     "data": {
      "text/plain": [
       "3"
      ]
     },
     "execution_count": 5,
     "metadata": {},
     "output_type": "execute_result"
    }
   ],
   "source": [
    "np.min([4,3])"
   ]
  },
  {
   "cell_type": "code",
   "execution_count": 1,
   "metadata": {},
   "outputs": [],
   "source": [
    "import tensorflow as tf\n",
    "from tensorflow import keras"
   ]
  },
  {
   "cell_type": "code",
   "execution_count": 55,
   "metadata": {},
   "outputs": [],
   "source": [
    "kmodel = keras.models.Sequential()\n",
    "kmodel.add(keras.layers.Input(shape=400))\n",
    "kmodel.add(keras.layers.Dense(300, activation='relu'))\n",
    "kmodel.add(keras.layers.Dense(100, activation='relu'))\n",
    "kmodel.add(keras.layers.Dense(10, activation='softmax'))"
   ]
  },
  {
   "cell_type": "code",
   "execution_count": 56,
   "metadata": {},
   "outputs": [
    {
     "name": "stdout",
     "output_type": "stream",
     "text": [
      "Model: \"sequential_4\"\n",
      "_________________________________________________________________\n",
      "Layer (type)                 Output Shape              Param #   \n",
      "=================================================================\n",
      "dense_9 (Dense)              (None, 300)               120300    \n",
      "_________________________________________________________________\n",
      "dense_10 (Dense)             (None, 100)               30100     \n",
      "_________________________________________________________________\n",
      "dense_11 (Dense)             (None, 10)                1010      \n",
      "=================================================================\n",
      "Total params: 151,410\n",
      "Trainable params: 151,410\n",
      "Non-trainable params: 0\n",
      "_________________________________________________________________\n"
     ]
    }
   ],
   "source": [
    "kmodel.summary()"
   ]
  },
  {
   "cell_type": "code",
   "execution_count": 57,
   "metadata": {},
   "outputs": [],
   "source": [
    "kmodel.compile(optimizer='sgd', loss='sparse_categorical_crossentropy', metrics=['accuracy'])"
   ]
  },
  {
   "cell_type": "code",
   "execution_count": 70,
   "metadata": {},
   "outputs": [],
   "source": [
    "import pandas as pd\n",
    "X = pd.read_csv('data.csv', index_col=0).head(5000).to_numpy() / 255"
   ]
  },
  {
   "cell_type": "code",
   "execution_count": 71,
   "metadata": {},
   "outputs": [],
   "source": [
    "y = pd.read_csv('target.csv', index_col=0).head(5000).to_numpy().ravel()"
   ]
  },
  {
   "cell_type": "code",
   "execution_count": 72,
   "metadata": {},
   "outputs": [],
   "source": [
    "X_train, X_val = X[:4000], X[4000:]\n",
    "y_train, y_val = y[:4000], y[4000:]"
   ]
  },
  {
   "cell_type": "code",
   "execution_count": 73,
   "metadata": {},
   "outputs": [],
   "source": [
    "import matplotlib.pyplot as plt"
   ]
  },
  {
   "cell_type": "code",
   "execution_count": 74,
   "metadata": {
    "scrolled": true
   },
   "outputs": [
    {
     "name": "stdout",
     "output_type": "stream",
     "text": [
      "Epoch 1/30\n",
      "125/125 [==============================] - 0s 2ms/step - loss: 0.1020 - accuracy: 0.9793 - val_loss: 0.2773 - val_accuracy: 0.9160\n",
      "Epoch 2/30\n",
      "125/125 [==============================] - 0s 2ms/step - loss: 0.0940 - accuracy: 0.9795 - val_loss: 0.2682 - val_accuracy: 0.9240\n",
      "Epoch 3/30\n",
      "125/125 [==============================] - 0s 2ms/step - loss: 0.0874 - accuracy: 0.9830 - val_loss: 0.2751 - val_accuracy: 0.9190\n",
      "Epoch 4/30\n",
      "125/125 [==============================] - 0s 2ms/step - loss: 0.0832 - accuracy: 0.9850 - val_loss: 0.2700 - val_accuracy: 0.9180\n",
      "Epoch 5/30\n",
      "125/125 [==============================] - 0s 2ms/step - loss: 0.0800 - accuracy: 0.9845 - val_loss: 0.2849 - val_accuracy: 0.9140\n",
      "Epoch 6/30\n",
      "125/125 [==============================] - 0s 2ms/step - loss: 0.0756 - accuracy: 0.9860 - val_loss: 0.2533 - val_accuracy: 0.9220\n",
      "Epoch 7/30\n",
      "125/125 [==============================] - 0s 2ms/step - loss: 0.0726 - accuracy: 0.9855 - val_loss: 0.2765 - val_accuracy: 0.9170\n",
      "Epoch 8/30\n",
      "125/125 [==============================] - 0s 2ms/step - loss: 0.0697 - accuracy: 0.9877 - val_loss: 0.2263 - val_accuracy: 0.9300\n",
      "Epoch 9/30\n",
      "125/125 [==============================] - 0s 2ms/step - loss: 0.0675 - accuracy: 0.9877 - val_loss: 0.2297 - val_accuracy: 0.9310\n",
      "Epoch 10/30\n",
      "125/125 [==============================] - 0s 2ms/step - loss: 0.0659 - accuracy: 0.9877 - val_loss: 0.2451 - val_accuracy: 0.9290\n",
      "Epoch 11/30\n",
      "125/125 [==============================] - 0s 2ms/step - loss: 0.0634 - accuracy: 0.9890 - val_loss: 0.2458 - val_accuracy: 0.9270\n",
      "Epoch 12/30\n",
      "125/125 [==============================] - 0s 2ms/step - loss: 0.0612 - accuracy: 0.9895 - val_loss: 0.2443 - val_accuracy: 0.9290\n",
      "Epoch 13/30\n",
      "125/125 [==============================] - 0s 2ms/step - loss: 0.0592 - accuracy: 0.9895 - val_loss: 0.2383 - val_accuracy: 0.9280\n",
      "Epoch 14/30\n",
      "125/125 [==============================] - 0s 2ms/step - loss: 0.0579 - accuracy: 0.9887 - val_loss: 0.2279 - val_accuracy: 0.9330\n",
      "Epoch 15/30\n",
      "125/125 [==============================] - 0s 2ms/step - loss: 0.0555 - accuracy: 0.9915 - val_loss: 0.2279 - val_accuracy: 0.9350\n",
      "Epoch 16/30\n",
      "125/125 [==============================] - 0s 2ms/step - loss: 0.0545 - accuracy: 0.9890 - val_loss: 0.2328 - val_accuracy: 0.9300\n",
      "Epoch 17/30\n",
      "125/125 [==============================] - 0s 2ms/step - loss: 0.0531 - accuracy: 0.9898 - val_loss: 0.2448 - val_accuracy: 0.9320\n",
      "Epoch 18/30\n",
      "125/125 [==============================] - 0s 2ms/step - loss: 0.0518 - accuracy: 0.9910 - val_loss: 0.2163 - val_accuracy: 0.9350\n",
      "Epoch 19/30\n",
      "125/125 [==============================] - 0s 2ms/step - loss: 0.0503 - accuracy: 0.9900 - val_loss: 0.2086 - val_accuracy: 0.9380\n",
      "Epoch 20/30\n",
      "125/125 [==============================] - 0s 2ms/step - loss: 0.0492 - accuracy: 0.9920 - val_loss: 0.2345 - val_accuracy: 0.9330\n",
      "Epoch 21/30\n",
      "125/125 [==============================] - 0s 2ms/step - loss: 0.0483 - accuracy: 0.9920 - val_loss: 0.2293 - val_accuracy: 0.9350\n",
      "Epoch 22/30\n",
      "125/125 [==============================] - 0s 2ms/step - loss: 0.0468 - accuracy: 0.9910 - val_loss: 0.2197 - val_accuracy: 0.9350\n",
      "Epoch 23/30\n",
      "125/125 [==============================] - 0s 2ms/step - loss: 0.0440 - accuracy: 0.9925 - val_loss: 0.2234 - val_accuracy: 0.9330\n",
      "Epoch 24/30\n",
      "125/125 [==============================] - 0s 2ms/step - loss: 0.0456 - accuracy: 0.9902 - val_loss: 0.2198 - val_accuracy: 0.9280\n",
      "Epoch 25/30\n",
      "125/125 [==============================] - 0s 2ms/step - loss: 0.0442 - accuracy: 0.9915 - val_loss: 0.2352 - val_accuracy: 0.9350\n",
      "Epoch 26/30\n",
      "125/125 [==============================] - 0s 2ms/step - loss: 0.0430 - accuracy: 0.9940 - val_loss: 0.2210 - val_accuracy: 0.9350\n",
      "Epoch 27/30\n",
      "125/125 [==============================] - 0s 2ms/step - loss: 0.0409 - accuracy: 0.9937 - val_loss: 0.2408 - val_accuracy: 0.9340\n",
      "Epoch 28/30\n",
      "125/125 [==============================] - 0s 3ms/step - loss: 0.0401 - accuracy: 0.9935 - val_loss: 0.2262 - val_accuracy: 0.9390\n",
      "Epoch 29/30\n",
      "125/125 [==============================] - 0s 2ms/step - loss: 0.0390 - accuracy: 0.9940 - val_loss: 0.2149 - val_accuracy: 0.9370\n",
      "Epoch 30/30\n",
      "125/125 [==============================] - 0s 2ms/step - loss: 0.0384 - accuracy: 0.9948 - val_loss: 0.2238 - val_accuracy: 0.9360\n"
     ]
    },
    {
     "data": {
      "text/plain": [
       "<tensorflow.python.keras.callbacks.History at 0x12fa3c850>"
      ]
     },
     "execution_count": 74,
     "metadata": {},
     "output_type": "execute_result"
    }
   ],
   "source": [
    "kmodel.fit(X_train, y_train, epochs=30, validation_data=(X_val, y_val))"
   ]
  },
  {
   "cell_type": "code",
   "execution_count": 67,
   "metadata": {},
   "outputs": [
    {
     "data": {
      "text/plain": [
       "array([[12,  3,  0],\n",
       "       [ 0,  2,  0]])"
      ]
     },
     "execution_count": 67,
     "metadata": {},
     "output_type": "execute_result"
    }
   ],
   "source": [
    "import numpy as np\n",
    "a = np.array([[12,3,-5],[-7,2,-1]])\n",
    "np.maximum(a, 0)"
   ]
  },
  {
   "cell_type": "code",
   "execution_count": 68,
   "metadata": {},
   "outputs": [],
   "source": [
    "print?"
   ]
  },
  {
   "cell_type": "code",
   "execution_count": 69,
   "metadata": {},
   "outputs": [
    {
     "data": {
      "text/plain": [
       "array([12,  3, -1])"
      ]
     },
     "execution_count": 69,
     "metadata": {},
     "output_type": "execute_result"
    }
   ],
   "source": [
    "np.max(a, axis=0)"
   ]
  },
  {
   "cell_type": "code",
   "execution_count": null,
   "metadata": {},
   "outputs": [],
   "source": []
  }
 ],
 "metadata": {
  "kernelspec": {
   "display_name": "ml_venv",
   "language": "python",
   "name": "ml_venv"
  },
  "language_info": {
   "codemirror_mode": {
    "name": "ipython",
    "version": 3
   },
   "file_extension": ".py",
   "mimetype": "text/x-python",
   "name": "python",
   "nbconvert_exporter": "python",
   "pygments_lexer": "ipython3",
   "version": "3.8.3"
  }
 },
 "nbformat": 4,
 "nbformat_minor": 4
}
